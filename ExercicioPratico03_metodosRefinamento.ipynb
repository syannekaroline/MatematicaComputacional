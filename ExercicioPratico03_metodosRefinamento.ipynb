{
  "cells": [
    {
      "cell_type": "markdown",
      "metadata": {
        "id": "rmIsYORFHMPl"
      },
      "source": [
        "## Exercício Prático 03 \n",
        "\n",
        "### Métodos de Refinamento\n",
        "\n",
        "#### 01. Implemente 3 métodos de refinamento para encontrar raízes reais de funções reais"
      ]
    },
    {
      "cell_type": "markdown",
      "metadata": {
        "id": "3sD0Y16uHMPv"
      },
      "source": [
        "* 1° - método da bissecção."
      ]
    },
    {
      "cell_type": "code",
      "execution_count": 2,
      "metadata": {
        "id": "org4AHtAHMPx"
      },
      "outputs": [],
      "source": [
        "\n",
        "def precisao_maquina():\n",
        "    \"\"\"Função que calcula a precisão da máquina com referência igual a 1\"\"\"\n",
        "    A=1\n",
        "    S=2\n",
        "\n",
        "    while(S>1):\n",
        "        A=A/2\n",
        "        S=1+A\n",
        "    prec=2*A\n",
        "\n",
        "    return prec\n",
        "def bisseccao(funcao,intervalo,erro=precisao_maquina()):\n",
        "  \"\"\"Função que realiza o método da bissecção pra achar a raiz real de uma função.\n",
        "  Parâmetros:\n",
        "  função : função pro cálculo ex: função = lambda x:x**3-9*x+3 \n",
        "  intevalo: lista contendo o intervalo considerado da função. ex: [-1,1]\n",
        "  erro: critério de parada pra precisão requerida ex:  0.000000001 \n",
        "  Retorna uma tupla contendo a raiz, o y na raiz e o número de iterções realizadas, respectivamente.\"\"\"\n",
        "\n",
        "  ai = intervalo[0] \n",
        "  bi = intervalo[1]\n",
        "  i = 0 # variável q armazena o número de iterações realizadas ( bissecções realizadas)\n",
        "  # verificar se o método se aplica a função\n",
        "  if funcao(ai)*funcao(bi)< 0:\n",
        "\n",
        "    while abs(bi-ai) > erro: # testa o critério de parada: enquanto a diferença entre intervalo for maior que o erro -> enquanto f(pi) > precisão\n",
        "      #calcula o ponto médio\n",
        "      pi = (ai + bi)/2\n",
        "      #print(\"a{}: {};  b{}: {};  p{}: {};\".format(i,ai,i,bi,i,pi)) # Mostre todos os passos do algoritmo com os valores de 𝑎𝑖, 𝑏𝑖 e 𝑝i\n",
        "\n",
        "      # realiza a bissecção no intervalo verificando o sinal das extremidades na função\n",
        "      if funcao(ai)*funcao(pi)<0: # significa que a raíz pertence a esse intervalo -> está mais a esquerda de bi\n",
        "          bi = pi\n",
        "      else: # a raiz está mais a direita de ai -> diminui o intervalo fazendo ai receber o ponto médio calculado\n",
        "          ai = pi\n",
        "      i+=1\n",
        "    return (pi,funcao(pi),i)\n",
        "  else:\n",
        "    print(\"Não existe raíz real neste intervalo!\")"
      ]
    },
    {
      "cell_type": "code",
      "execution_count": 3,
      "metadata": {
        "colab": {
          "base_uri": "https://localhost:8080/"
        },
        "id": "LbZuuuTOHMP2",
        "outputId": "c13b36cf-af1f-4f3f-bf06-db00ab54d490"
      },
      "outputs": [
        {
          "name": "stdout",
          "output_type": "stream",
          "text": [
            "Raiz X = 1.44744873046875\n",
            "f(X) = 2.192118039383295e-05\n",
            "N iterações = 14\n"
          ]
        }
      ],
      "source": [
        "import math\n",
        "#exemplo f(x) = e**-x^2 - cos(x), [1,2], e = 10 **-4\n",
        "result= bisseccao(lambda x : math.exp(-x**2) - math.cos(x),[1,2],10**-4)\n",
        "print(f'Raiz X = {result[0]}\\nf(X) = {result[1]}\\nN iterações = {result[2]}')"
      ]
    },
    {
      "cell_type": "code",
      "execution_count": 4,
      "metadata": {
        "colab": {
          "base_uri": "https://localhost:8080/"
        },
        "id": "LJwJNY3FHMP5",
        "outputId": "fcf975b2-adee-4467-ce64-b71f3284cb52"
      },
      "outputs": [
        {
          "name": "stdout",
          "output_type": "stream",
          "text": [
            "Raiz X = -0.4216839617778975\n",
            "f(X) = -4.440892098500626e-16\n",
            "N iterações = 54\n"
          ]
        }
      ],
      "source": [
        "\n",
        "result= bisseccao(lambda x : (x**5) + (4*x**3) +4*x + 2,[-1,2],precisao_maquina())\n",
        "print(f'Raiz X = {result[0]}\\nf(X) = {result[1]}\\nN iterações = {result[2]}')"
      ]
    },
    {
      "cell_type": "code",
      "execution_count": 5,
      "metadata": {
        "colab": {
          "base_uri": "https://localhost:8080/"
        },
        "id": "0q39npdlX79a",
        "outputId": "88d30e2d-5ee2-40f3-bf98-1d9ebd3a1044"
      },
      "outputs": [
        {
          "name": "stdout",
          "output_type": "stream",
          "text": [
            "Raiz X = 1.7632228343518965\n",
            "f(X) = -3.3306690738754696e-16\n",
            "N iterações = 53\n"
          ]
        }
      ],
      "source": [
        "\n",
        "result= bisseccao(lambda x :  x *math.log(x) - 1,[1,3],precisao_maquina())\n",
        "print(f'Raiz X = {result[0]}\\nf(X) = {result[1]}\\nN iterações = {result[2]}')"
      ]
    },
    {
      "cell_type": "markdown",
      "metadata": {
        "id": "Qk0rsfzdHMP6"
      },
      "source": [
        "* 2° - Método da posição falsa."
      ]
    },
    {
      "cell_type": "code",
      "execution_count": 45,
      "metadata": {
        "id": "F8uYPUHDHMP7"
      },
      "outputs": [],
      "source": [
        "def posicaoFalsa(funcao, intervalo, erro=precisao_maquina(),erro2=precisao_maquina(),it_max = 100000):\n",
        "    \"\"\"Função que realiza o método da posição falsa pra achar aproximação da raiz real de uma função.\n",
        "    Parâmetros:\n",
        "    função : função pro cálculo ex: função = lambda x:x**3-9*x+3 \n",
        "    intevalo: lista contendo o intervalo considerado da função. ex: [-1,1]\n",
        "    erro: critério de parada pra precisão requerida ex:  0.000000001 \n",
        "    Retorna uma tupla contendo a raiz, o y na raiz e o número de iterções realizadas, respectivamente.\"\"\"\n",
        "    ai = intervalo[0]\n",
        "    bi = intervalo[1]\n",
        "    x = (ai*funcao(ai) - bi*funcao(bi))/(funcao(bi) - funcao(ai))  # média ponderada\n",
        "    i = 0 # variável q armazena o número de iterações realizadas ( bissecções realizadas)\n",
        "    # verificar se o método se aplica a função\n",
        "    if funcao(ai)*funcao(bi)< 0:\n",
        "\n",
        "        while abs(bi-ai) > erro and i<it_max and abs(funcao(x)) > erro2: # testa o critério de parada: enquanto a diferença entre intervalo for maior que o erro -> enquanto f(pi) > precisão\n",
        "        #calcula o ponto médio\n",
        "            x = (ai*funcao(ai) - bi*funcao(bi))/(funcao(bi) - funcao(ai))  # média ponderada\n",
        "            #print(\"a{}: {};  b{}: {};  p{}: {};\".format(i,ai,i,bi,i,pi)) # Mostre todos os passos do algoritmo com os valores de 𝑎𝑖, 𝑏𝑖 e 𝑝i\n",
        "\n",
        "            # realiza a bissecção no intervalo verificando o sinal das extremidades na função\n",
        "            if funcao(ai)*funcao(x)<0: # significa que a raíz pertence a esse intervalo -> está mais a esquerda de bi\n",
        "                bi = x\n",
        "            else: # a raiz está mais a direita de ai -> diminui o intervalo fazendo ai receber o ponto médio calculado\n",
        "                ai = x\n",
        "            i+=1\n",
        "        return (x,funcao(x),i)\n",
        "    else:\n",
        "        print(\"Não existe raíz real neste intervalo!\")\n"
      ]
    },
    {
      "cell_type": "markdown",
      "metadata": {
        "id": "ubWP97bBHMP9"
      },
      "source": [
        "* 3° - método do ponto fixo"
      ]
    },
    {
      "cell_type": "code",
      "execution_count": 8,
      "metadata": {
        "id": "7Lxt4MIdHMP-"
      },
      "outputs": [],
      "source": [
        "def pontoFixo(f, phi, x0, e1=precisao_maquina(), e2=precisao_maquina(), it_max=1000000):\n",
        "    \"\"\"Função que calcula a raiz de uma função f recebida por parâmetro pelo método do ponto fixo.\n",
        "    PArâmetros:\n",
        "    f -> função \n",
        "    phi -> função equivalente tal que phi(X) = X -> veio de f(x)= 0 e depois de isolar x.\n",
        "    x0 -> aproximação inicial \n",
        "    e1 e e2 -> precisões\n",
        "    it_max -> número de iterações máximas.\n",
        "    Retorna uma tupla contendo a raiz, o y na raiz e o número de iterções realizadas, respectivamente.\n",
        "    \"\"\"\n",
        "    if (abs(f(x0)) < e1):\n",
        "        return x0\n",
        "\n",
        "    x = phi(x0)\n",
        "    k = 0\n",
        "\n",
        "    while (abs(f(x)) > e2 and abs(x - x0) > e1 and k < it_max):\n",
        "        #print(\"x{}: {}; f(x) : {}; \".format(k, x, f(x)))\n",
        "\n",
        "        x0 = x\n",
        "        x = phi(x)\n",
        "        k += 1\n",
        "\n",
        "    return (x, f(x), k)"
      ]
    },
    {
      "cell_type": "code",
      "execution_count": 9,
      "metadata": {
        "colab": {
          "base_uri": "https://localhost:8080/"
        },
        "id": "yNAvkKlrHMP-",
        "outputId": "d3ca7853-a2b2-42c4-ed20-224fd34c2958"
      },
      "outputs": [
        {
          "name": "stdout",
          "output_type": "stream",
          "text": [
            "Raiz X = 1.4475247075737827\n",
            "f(X) = 7.025777685441825e-05\n",
            "N iterações = 5\n"
          ]
        }
      ],
      "source": [
        "#exemplo f(x) = e**-x^2 - cos(x), [1,2], e = 10 **-4 , phi(x)= cos(x) - e^-x**2 + x\n",
        "result= pontoFixo(lambda x : math.exp(-x**2) - math.cos(x),lambda x : math.cos(x ) - math.exp(-x**2) + x,1.5,10**-4,10**-4)\n",
        "print(f'Raiz X = {result[0]}\\nf(X) = {result[1]}\\nN iterações = {result[2]}')"
      ]
    },
    {
      "cell_type": "markdown",
      "metadata": {
        "id": "2jteCma9HMP_"
      },
      "source": [
        "#### plus -> implementar todos os métodos\n",
        "\n",
        "- 4° Método de newton-Raphson"
      ]
    },
    {
      "cell_type": "code",
      "execution_count": 10,
      "metadata": {
        "id": "bSogPRIpHMQA"
      },
      "outputs": [],
      "source": [
        "def newton_raphson(f, fdx, x0, e1=precisao_maquina(), e2=precisao_maquina(), it_max=100000):\n",
        "    \"\"\"Função que calcula a raiz de uma função f polinomial usando o método de newton-raphson\n",
        "    parâmetros :\n",
        "    f -> função f(x).\n",
        "    fdx -> função derivada de f\n",
        "    x0 -> aproximação inicial\n",
        "    e1 e e2 -> precisões\n",
        "    it_max -> número de iterações máximas.\n",
        "    Retorna uma tupla contendo a raiz, o y na raiz e o número de iterções realizadas, respectivamente.\n",
        "    \"\"\"\n",
        "    if (abs(f(x0)) < e1):\n",
        "        return (x0,f(x0),0)\n",
        "\n",
        "    x = x0 - (f(x0)/fdx(x0))\n",
        "    print(\"x{}: {}; f(x) : {}; \".format(0, x0, f(x0)))\n",
        "    k = 0\n",
        "\n",
        "    while (abs(f(x)) > e2 and abs(x - x0) > e1 and k < it_max):\n",
        "        # print(\"x{}: {}; f(x) : {}; \".format(k, x, f(x)))\n",
        "        x0 = x\n",
        "        x = x - (f(x)/fdx(x))\n",
        "        k += 1\n",
        "\n",
        "    return (x, f(x), k)"
      ]
    },
    {
      "cell_type": "code",
      "execution_count": 11,
      "metadata": {
        "colab": {
          "base_uri": "https://localhost:8080/"
        },
        "id": "VtaNUhyLHMQA",
        "outputId": "fd6ddf7a-2b01-43bf-fe4b-f0b164e8d5eb"
      },
      "outputs": [
        {
          "name": "stdout",
          "output_type": "stream",
          "text": [
            "x0: 1.5; f(x) : 0.034662022894161426; \n",
            "Raiz X = 1.4474422936781406\n",
            "f(X) = 1.7826338285120702e-05\n",
            "N iterações = 3\n"
          ]
        }
      ],
      "source": [
        "#exemplo f(x) = e**-x^2 - cos(x), [1,2], e = 10 **-4 , phi(x)= cos(x) - e^-x**2 + x\n",
        "result= newton_raphson(lambda x: math.exp(-x**2) - math.cos(x),lambda x: -2*math.exp(-x**2) + math.sin(x),1.5,10**-4,10**-4)\n",
        "print(f'Raiz X = {result[0]}\\nf(X) = {result[1]}\\nN iterações = {result[2]}')"
      ]
    },
    {
      "cell_type": "markdown",
      "metadata": {
        "id": "4AtQzPqoHMQB"
      },
      "source": [
        "- 5° Método da secante "
      ]
    },
    {
      "cell_type": "code",
      "execution_count": 12,
      "metadata": {
        "id": "JJfdxxdaHMQD"
      },
      "outputs": [],
      "source": [
        "def metodoSecante(f, x0, x1,e1= precisao_maquina(), e2=precisao_maquina(), it_max=1000000):\n",
        "\n",
        "    if (abs(f(x0)) < e1):\n",
        "        return (x0, f(x0), 0)\n",
        "\n",
        "    if (abs(f(x1)) < e1 or abs(x1 - x0) < e1):\n",
        "        return (x1, f(x1), 0)\n",
        "\n",
        "    x2 = x1 - (f(x1) / (f(x1)-f(x0))) * (x1-x0)\n",
        "    k = 0\n",
        "    while (abs(f(x2)) > e1 and abs(x2 - x1) > e2 and k < it_max):\n",
        "        x2 = x1 - ((f(x1) / (f(x1)-f(x0))) * (x1-x0))\n",
        "        x0 = x1\n",
        "        x1 = x2\n",
        "        k += 1\n",
        "        # Mostre todos os passos do algoritmo com os valores de 𝑎𝑖, 𝑏𝑖 e 𝑝i\n",
        "        # print(\"x{}: {}; f(x) : {}; \".format(k, x2, f(x2)))\n",
        "    return (x2, f(x2), k)"
      ]
    },
    {
      "cell_type": "code",
      "execution_count": 13,
      "metadata": {
        "colab": {
          "base_uri": "https://localhost:8080/"
        },
        "id": "Xz9-45pFHMQE",
        "outputId": "b2d00a98-ade5-4bd2-8b7f-8dad077537bf"
      },
      "outputs": [
        {
          "name": "stdout",
          "output_type": "stream",
          "text": [
            "Raiz X = 2.0357142857142856\n",
            "f(X) = 0.17984693877550928\n",
            "N iterações = 1\n"
          ]
        }
      ],
      "source": [
        "result= metodoSecante(lambda x: x**2 + x - 6,1.5,1.7)\n",
        "print(f'Raiz X = {result[0]}\\nf(X) = {result[1]}\\nN iterações = {result[2]}')"
      ]
    },
    {
      "cell_type": "code",
      "execution_count": 14,
      "metadata": {
        "colab": {
          "base_uri": "https://localhost:8080/"
        },
        "id": "yjrH-P2HHMQF",
        "outputId": "f5e7b0e5-177a-4584-e8f0-16a258a133a5"
      },
      "outputs": [
        {
          "name": "stdout",
          "output_type": "stream",
          "text": [
            "Raiz X = 1.2841111051702643\n",
            "f(X) = -0.09052096018215028\n",
            "N iterações = 1\n"
          ]
        }
      ],
      "source": [
        "#exemplo f(x) = e**-x^2 - cos(x), [1,2], e = 10 **-4 , phi(x)= cos(x) - e^-x**2 + x\n",
        "result= metodoSecante(lambda x: math.exp(-x**2) - math.cos(x),1,2,10**-4,10**-4)\n",
        "print(f'Raiz X = {result[0]}\\nf(X) = {result[1]}\\nN iterações = {result[2]}')"
      ]
    },
    {
      "cell_type": "markdown",
      "metadata": {
        "id": "konuKiUYHMQG"
      },
      "source": [
        "### Q2 - Teste esses algoritmos em 5 funções que misturam:\n",
        "▪ Polinômios de graus > 5\n",
        "\n",
        "▪ Logaritmos\n",
        "\n",
        "▪ Exponenciais\n",
        "\n",
        "▪ Senos e cossenos\n",
        "\n",
        "▪ Divisões e raízes\n",
        "\n",
        "- Escolha os parâmetros iniciais. Use o algoritmo de testagem do sinal de 𝑓(𝑥) para encontrar o intervalo 𝐼. Mostre as tabelas testadas.\n",
        "- Monte uma tabela semelhante a dos exemplos anteriores.\n"
      ]
    },
    {
      "cell_type": "code",
      "execution_count": 38,
      "metadata": {
        "id": "3P4j32tFHMQH"
      },
      "outputs": [],
      "source": [
        "# código pra gerar as tabelas\n",
        "import pandas as pd, numpy as np\n",
        "def ErroAbsoluto(exato,aproximado):\n",
        "    \"\"\"Calculo do erro absoluto = módulo da diferença entre o valor exato e o valor aproximado\"\"\"\n",
        "    # print(exato-aproximado)\n",
        "    return math.fabs(exato-aproximado)\n",
        "\n",
        "def AvaliaSinalf(f,ValoresX=[-1,1],IsIntervalo = True):\n",
        "    \"\"\"Função que avalia os sinais de uma função em valores de x ou em dado intervalo\n",
        "    Parâmetros:\n",
        "    f -> função pra análise\n",
        "    valoresX: Intervalo ou valores de x que deverão ser considerado na análise da função. Por padrão considera o intervalo de -1 até 1.\n",
        "    IsIntervalo: por padrão recebe True. Se false siginifica que o parâmetro intervalo se refere aos valores de X que deverão ser considerados na análise.\"\"\"\n",
        "    #contruir a função\n",
        "    analise={\n",
        "        'x': [\"f(x)\",\" sinal\"]\n",
        "    }\n",
        "    desafio = {'x': [\"f(x)\",\" sinal\"]}\n",
        "    if IsIntervalo :\n",
        "        if  f(ValoresX[0]) == 0 :\n",
        "                analise[f'{x}']= [f(x), \"origem\"]\n",
        "        else:\n",
        "            aux=list([f(ValoresX[0]), \"+\" if f(ValoresX[0]) > 0 else \"-\" ])# variável auxiliar pro desafio -> verificar apenas as trocas de sinal\n",
        "            desafio[f'{ValoresX[0]}']=aux\n",
        "\n",
        "        for x in range(ValoresX[0],ValoresX[1]+1):\n",
        "            if  f(x) == 0 :\n",
        "                analise[f'{x}']= [f(x), \"origem\"]\n",
        "            else:\n",
        "                analise[f'{x}'] =list([f(x), \"+\" if f(x) > 0 else \"-\" ])\n",
        "            \n",
        "            if analise[f'{x}'][1] != aux[1]: # se tiver mudança de sinal\n",
        "                #guardar o dicionário do desafio\n",
        "                desafio[f'{x}'] = analise[f'{x}']\n",
        "                aux=analise[f'{x}']\n",
        "\n",
        "    else: \n",
        "        for x in ValoresX:\n",
        "            analise[f'{x}'] = list([f(x), \"+\" if f(x) > 0 else \"-\" ])\n",
        "            aux=list([f(ValoresX[0]), \"+\" if f(ValoresX[0]) > 0 else \"-\" ])# variável auxiliar pro desafio -> verificar apenas as trocas de sinal\n",
        "            if analise[f'{x}'][1] != aux[1]: # se tiver mudança de sinal\n",
        "                #guardar o dicionário do desafio\n",
        "                desafio[f'{x}'] = analise[f'{x}']\n",
        "                aux=analise[f'{x}']\n",
        "    \n",
        "    tabelaAnalise=pd.DataFrame(analise)\n",
        "    tabelaDesafio = pd.DataFrame(desafio)\n",
        "    ##retorno ao usuário\n",
        "    print(\"{:#^60}\".format(\"Análise do sinal da função\"))\n",
        "    #print(f\"\\n f(x) = \\n{f}\\n\")\n",
        "\n",
        "    print(\"{:#^60}\".format(\"Tabela de análise\"))\n",
        "    print(tabelaAnalise)\n",
        "    print(\"{:#^60}\".format(\"Tabela do desafio\"))\n",
        "\n",
        "    print(tabelaDesafio)\n",
        "\n",
        "\n",
        "###########################\n",
        "\n",
        "def exercicio02(f,intervalo,valorexatodeX,is_intervalo):\n",
        "    \"\"\"\"Funçao do exercício 02. Recebe uma função e faz a testagem do sinal de f pra encontrar um intervalo que contém a raíz e mosta uma tabéla de análise dos métodos de refinamento\"\"\"\n",
        "\n",
        "    AvaliaSinalf(f,intervalo,is_intervalo)\n",
        "\n",
        "    ResultsBisseccao= bisseccao(f,intervalo,precisao_maquina())\n",
        "    ResultsPosicaoFalsa = posicaoFalsa(f,intervalo)\n",
        "    ResultsMetodoSecante = metodoSecante(f,intervalo[0],intervalo[0])\n",
        "    # print(ResultsBisseccao)\n",
        "    # print(ResultsPosicaoFalsa)\n",
        "    # print(ResultsMetodoSecante)\n",
        "    #construir a tabela de análise - 3 métodos : 1.Bissecção 2.Posição Falsa 3. método secante\n",
        "    analise={\n",
        "        'x = Raíz': [\"Dados Iniciais\",\"x\",\" f(x)\",\"Erro em x\",\"N° de Iterações\"],\n",
        "        'Bissecção': [f\"{intervalo}\",f'{ResultsBisseccao[0]}',f'{ResultsBisseccao[1]}',f'{ErroAbsoluto(valorexatodeX,ResultsBisseccao[0])}',ResultsBisseccao[2]],\n",
        "        'Posição Falsa': [f\"{intervalo}\",f'{ResultsPosicaoFalsa[0]}',f'{ResultsPosicaoFalsa[1]}',f'{ErroAbsoluto(valorexatodeX,ResultsPosicaoFalsa[0])}',ResultsPosicaoFalsa[2]],\n",
        "        'Secante': [f\"{intervalo}\",f'{ResultsMetodoSecante[0]}',f'{ResultsMetodoSecante[1]}',f'{ErroAbsoluto(valorexatodeX,ResultsMetodoSecante[0])}',ResultsMetodoSecante[2]]\n",
        "        \n",
        "    }\n",
        "    tabelaAnalise=pd.DataFrame(analise)\n",
        "    print(\"{:#^60}\".format(\"Tabela de análise dos métodos de refinamento\"))\n",
        "    print(tabelaAnalise)"
      ]
    },
    {
      "cell_type": "markdown",
      "metadata": {
        "id": "oUNjJL0BHMQJ"
      },
      "source": [
        "- Polinômio e grau > 5 : x**5 - 10/9x ** 3 + 5/21x\n"
      ]
    },
    {
      "cell_type": "code",
      "execution_count": 39,
      "metadata": {},
      "outputs": [
        {
          "name": "stdout",
          "output_type": "stream",
          "text": [
            "#################Análise do sinal da função#################\n",
            "#####################Tabela de análise######################\n",
            "        x        -1       0         1\n",
            "0    f(x) -2.349206     0.0  2.349206\n",
            "1   sinal         -  origem         +\n",
            "#####################Tabela do desafio######################\n",
            "        x        -1       0         1\n",
            "0    f(x) -2.349206     0.0  2.349206\n",
            "1   sinal         -  origem         +\n",
            "########Tabela de análise dos métodos de refinamento########\n",
            "          x = Raíz            Bissecção  Posição Falsa              Secante\n",
            "0   Dados Iniciais              [-1, 1]        [-1, 1]              [-1, 1]\n",
            "1                x   0.9999999999999998            0.0                   -1\n",
            "2             f(x)   2.3492063492063475            0.0  -2.3492063492063493\n",
            "3        Erro em x  0.40211392876999974  0.59788607123        1.59788607123\n",
            "4  N° de Iterações                   53              0                    0\n"
          ]
        }
      ],
      "source": [
        "def f(x):\n",
        "    return x**5 + (10/9)*x**3 + (5/21)*x\n",
        "\n",
        "exercicio02(f,[-1,1],0.59788607123,True)"
      ]
    },
    {
      "attachments": {},
      "cell_type": "markdown",
      "metadata": {},
      "source": [
        "*  *2 exemplo* : f(x) = 4 * math.cos(x) - math.exp(2 * x) "
      ]
    },
    {
      "cell_type": "code",
      "execution_count": 40,
      "metadata": {
        "colab": {
          "base_uri": "https://localhost:8080/"
        },
        "id": "FtbhItTqHMQJ",
        "outputId": "96c45fa2-ca50-4776-f34d-239f3b4f9727"
      },
      "outputs": [
        {
          "name": "stdout",
          "output_type": "stream",
          "text": [
            "#################Análise do sinal da função#################\n",
            "#####################Tabela de análise######################\n",
            "        x        -1    0         1\n",
            "0    f(x)  2.025874  3.0 -5.227847\n",
            "1   sinal         +    +         -\n",
            "#####################Tabela do desafio######################\n",
            "        x        -1         1\n",
            "0    f(x)  2.025874 -5.227847\n",
            "1   sinal         +         -\n",
            "########Tabela de análise dos métodos de refinamento########\n",
            "          x = Raíz               Bissecção        Posição Falsa  \\\n",
            "0   Dados Iniciais                 [-1, 1]              [-1, 1]   \n",
            "1                x      0.5978860670377386  -0.4499646624920488   \n",
            "2             f(x)  -8.881784197001252e-16    3.195251494480738   \n",
            "3        Erro em x   4.192261426894106e-09   1.0478507337220488   \n",
            "4  N° de Iterações                      53                10000   \n",
            "\n",
            "              Secante  \n",
            "0             [-1, 1]  \n",
            "1                  -1  \n",
            "2  2.0258739402359462  \n",
            "3       1.59788607123  \n",
            "4                   0  \n"
          ]
        }
      ],
      "source": [
        "import math\n",
        "\n",
        "def f(x):\n",
        "    return 4*math.cos(x) - math.exp(2*x)\n",
        "\n",
        "exercicio02(f,[-1,1],0.59788607123,True)\n"
      ]
    },
    {
      "attachments": {},
      "cell_type": "markdown",
      "metadata": {
        "id": "M4KK5CQgN8gf"
      },
      "source": [
        "- Exemplo 3:q(x)=x^(5)+((10)/(9)) x+sqrt(x)-4"
      ]
    },
    {
      "cell_type": "code",
      "execution_count": 41,
      "metadata": {
        "colab": {
          "base_uri": "https://localhost:8080/",
          "height": 606
        },
        "id": "c8OnrRZVRute",
        "outputId": "6a789e38-fac4-4fd1-9f43-e10a4ee73d1d"
      },
      "outputs": [
        {
          "name": "stdout",
          "output_type": "stream",
          "text": [
            "#################Análise do sinal da função#################\n",
            "#####################Tabela de análise######################\n",
            "        x         1          2           3\n",
            "0    f(x) -1.388889  31.222222  243.833333\n",
            "1   sinal         -          +           +\n",
            "#####################Tabela do desafio######################\n",
            "        x         1          2\n",
            "0    f(x) -1.388889  31.222222\n",
            "1   sinal         -          +\n",
            "########Tabela de análise dos métodos de refinamento########\n",
            "          x = Raíz            Bissecção         Posição Falsa  \\\n",
            "0   Dados Iniciais               [1, 3]                [1, 3]   \n",
            "1                x   1.1628731617041794  -0.10426241686962975   \n",
            "2             f(x)                  0.0   -4.1679906590908615   \n",
            "3        Erro em x  0.04983046120887935    1.2173051173649299   \n",
            "4  N° de Iterações                   53                 10000   \n",
            "\n",
            "               Secante  \n",
            "0               [1, 3]  \n",
            "1                    1  \n",
            "2  -1.3888888888888888  \n",
            "3  0.11304270049530007  \n",
            "4                    0  \n"
          ]
        }
      ],
      "source": [
        "def f(x):\n",
        "    return x**5 + (10/9)*x + (x**1/2) - 4\n",
        "exercicio02(f,[1,3],1.1130427004953,True)\n"
      ]
    },
    {
      "attachments": {},
      "cell_type": "markdown",
      "metadata": {},
      "source": [
        "### Exemplo 4 - e**(-x^2) - cos(x)"
      ]
    },
    {
      "cell_type": "code",
      "execution_count": 46,
      "metadata": {},
      "outputs": [
        {
          "name": "stdout",
          "output_type": "stream",
          "text": [
            "#################Análise do sinal da função#################\n",
            "#####################Tabela de análise######################\n",
            "        x         1         2         3\n",
            "0    f(x) -0.172423  0.434462  0.990116\n",
            "1   sinal         -         +         +\n",
            "#####################Tabela do desafio######################\n",
            "        x         1         2\n",
            "0    f(x) -0.172423  0.434462\n",
            "1   sinal         -         +\n",
            "########Tabela de análise dos métodos de refinamento########\n",
            "          x = Raíz              Bissecção         Posição Falsa  \\\n",
            "0   Dados Iniciais                 [1, 3]                [1, 3]   \n",
            "1                x      1.447414271296237    0.8460763858578799   \n",
            "2             f(x)  8.326672684688674e-17  -0.17414699609302775   \n",
            "3        Erro em x  7.162936910276585e-12      0.60133788544552   \n",
            "4  N° de Iterações                     53                100000   \n",
            "\n",
            "                Secante  \n",
            "0                [1, 3]  \n",
            "1                     1  \n",
            "2  -0.17242286469669743  \n",
            "3   0.44741427130339995  \n",
            "4                     0  \n"
          ]
        }
      ],
      "source": [
        "def f(x):\n",
        "    return math.exp(-x**2) - math.cos(x)\n",
        "exercicio02(f,[1,3],1.4474142713034,True)"
      ]
    },
    {
      "attachments": {},
      "cell_type": "markdown",
      "metadata": {},
      "source": [
        "### Exemplo 5 - f(x)= x^6 + sen(2x) - 1, x pertence ao intervalo de  [-1,1]\n"
      ]
    },
    {
      "cell_type": "code",
      "execution_count": 47,
      "metadata": {},
      "outputs": [
        {
          "name": "stdout",
          "output_type": "stream",
          "text": [
            "#################Análise do sinal da função#################\n",
            "#####################Tabela de análise######################\n",
            "        x        -1    0         1\n",
            "0    f(x) -0.841471 -1.0  0.841471\n",
            "1   sinal         -    -         +\n",
            "#####################Tabela do desafio######################\n",
            "        x        -1         1\n",
            "0    f(x) -0.841471  0.841471\n",
            "1   sinal         -         +\n",
            "########Tabela de análise dos métodos de refinamento########\n",
            "          x = Raíz              Bissecção        Posição Falsa  \\\n",
            "0   Dados Iniciais                [-1, 1]              [-1, 1]   \n",
            "1                x     0.8075724210000217  -0.2519689797057649   \n",
            "2             f(x)  2.220446049250313e-16   -1.249055340163058   \n",
            "3        Erro em x     0.1897284805415217   0.8698129201642648   \n",
            "4  N° de Iterações                     53               100000   \n",
            "\n",
            "               Secante  \n",
            "0              [-1, 1]  \n",
            "1                   -1  \n",
            "2  -0.8414709848078965  \n",
            "3      1.6178439404585  \n",
            "4                    0  \n"
          ]
        }
      ],
      "source": [
        "def f(x):\n",
        "    return x**6 + math.sin(x) - 1\n",
        "exercicio02(f,[-1,1],0.6178439404585,True)"
      ]
    }
  ],
  "metadata": {
    "colab": {
      "provenance": []
    },
    "kernelspec": {
      "display_name": "Python 3",
      "language": "python",
      "name": "python3"
    },
    "language_info": {
      "codemirror_mode": {
        "name": "ipython",
        "version": 3
      },
      "file_extension": ".py",
      "mimetype": "text/x-python",
      "name": "python",
      "nbconvert_exporter": "python",
      "pygments_lexer": "ipython3",
      "version": "3.10.11"
    },
    "orig_nbformat": 4
  },
  "nbformat": 4,
  "nbformat_minor": 0
}
