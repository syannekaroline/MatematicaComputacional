{
 "cells": [
  {
   "cell_type": "code",
   "execution_count": null,
   "metadata": {},
   "outputs": [],
   "source": []
  },
  {
   "attachments": {},
   "cell_type": "markdown",
   "metadata": {},
   "source": [
    "## Exercício Prático 03 \n",
    "\n",
    "### Métodos de Refinamento\n",
    "\n",
    "#### 01. Implemente 3 métodos de refinamento para encontrar raízes reais de funções reais"
   ]
  },
  {
   "attachments": {},
   "cell_type": "markdown",
   "metadata": {},
   "source": [
    "* 1° - método da bissecção."
   ]
  },
  {
   "cell_type": "code",
   "execution_count": 8,
   "metadata": {},
   "outputs": [],
   "source": [
    "def bisseccao(funcao,intervalo,erro):\n",
    "  \"\"\"Função que realiza o método da bissecção pra achar a raiz real de uma função.\n",
    "  Parâmetros:\n",
    "  função : função pro cálculo ex: função = lambda x:x**3-9*x+3 \n",
    "  intevalo: lista contendo o intervalo considerado da função. ex: [-1,1]\n",
    "  erro: critério de parada pra precisão requerida ex:  0.000000001 \"\"\"\n",
    "\n",
    "  ai = intervalo[0] \n",
    "  bi = intervalo[1]\n",
    "  i = 0 # variável q armazena o número de iterações realizadas ( bissecções realizadas)\n",
    "  # verificar se o método se aplica a função\n",
    "  if funcao(ai)*funcao(bi)< 0:\n",
    "\n",
    "    while abs(bi-ai) > erro: # testa o critério de parada: enquanto a diferença entre intervalo for maior que o erro -> enquanto f(pi) > precisão\n",
    "      #calcula o ponto médio\n",
    "      pi = (ai + bi)/2\n",
    "      #print(\"a{}: {};  b{}: {};  p{}: {};\".format(i,ai,i,bi,i,pi)) # Mostre todos os passos do algoritmo com os valores de 𝑎𝑖, 𝑏𝑖 e 𝑝i\n",
    "\n",
    "      # realiza a bissecção no intervalo verificando o sinal das extremidades na função\n",
    "      if funcao(ai)*funcao(pi)<0: # significa que a raíz pertence a esse intervalo -> está mais a esquerda de bi\n",
    "          bi = pi\n",
    "      else: # a raiz está mais a direita de ai -> diminui o intervalo fazendo ai receber o ponto médio calculado\n",
    "          ai = pi\n",
    "      i+=1\n",
    "    return (pi,funcao(pi),i)\n",
    "  else:\n",
    "    print(\"Não existe raíz real neste intervalo!\")"
   ]
  },
  {
   "cell_type": "code",
   "execution_count": 11,
   "metadata": {},
   "outputs": [
    {
     "name": "stdout",
     "output_type": "stream",
     "text": [
      "Raiz X = 1.44744873046875\n",
      "f(X) = 2.192118039383295e-05\n",
      "N iterações = 14\n"
     ]
    }
   ],
   "source": [
    "import math\n",
    "#exemplo f(x) = e**-x^2 - cos(x), [1,2], e = 10 **-4\n",
    "result= bisseccao(lambda x : math.exp(-x**2) - math.cos(x),[1,2],10**-4)\n",
    "print(f'Raiz X = {result[0]}\\nf(X) = {result[1]}\\nN iterações = {result[2]}')"
   ]
  },
  {
   "attachments": {},
   "cell_type": "markdown",
   "metadata": {},
   "source": [
    "* 2° - Método da posição falsa."
   ]
  },
  {
   "cell_type": "code",
   "execution_count": 12,
   "metadata": {},
   "outputs": [],
   "source": [
    "def posicaoFalsa(funcao, intervalo, erro1, erro2,it_max = 10000):\n",
    "    \"\"\"Função que realiza o método da posição falsa pra achar aproximação da raiz real de uma função.\n",
    "    Parâmetros:\n",
    "    função : função pro cálculo ex: função = lambda x:x**3-9*x+3 \n",
    "    intevalo: lista contendo o intervalo considerado da função. ex: [-1,1]\n",
    "    erro: critério de parada pra precisão requerida ex:  0.000000001 \"\"\"\n",
    "    ai = intervalo[0]\n",
    "    bi = intervalo[1]\n",
    "    x= (ai*funcao(ai) - bi*funcao(bi))/(funcao(bi) - funcao(ai))  # média ponderada\n",
    "    # variável q armazena o número de iterações realizadas ( bissecções realizadas)\n",
    "    i = 0\n",
    "\n",
    "    # verificar se o método se aplica a função\n",
    "    if funcao(ai)*funcao(bi) < 0:\n",
    "\n",
    "        while abs(bi-ai) > erro1 and abs(funcao(x)) > erro2 and i < it_max:  # testa o critério de parada: enquanto a diferença entre intervalo for maior que o erro -> enquanto f(pi) > precisão\n",
    "            # calcula o ponto médio ponderado\n",
    "            x = (ai*funcao(ai) - bi*funcao(bi))/(funcao(bi) - funcao(ai))  # média ponderada\n",
    "            # Mostre todos os passos do algoritmo com os valores de 𝑎𝑖, 𝑏𝑖 e 𝑝i\n",
    "            #print(\"a{}: {};  b{}: {};  x{}: {};\".format(i, ai, i, bi, i, x))\n",
    "\n",
    "            if abs(funcao(x)) < erro2 :\n",
    "                return (x, funcao(x), i)\n",
    "            \n",
    "            elif funcao(ai)*funcao(x) > 0:\n",
    "                ai = x\n",
    "            else:  # a raiz está mais a direita de ai -> diminui o intervalo fazendo ai receber o ponto médio calculado\n",
    "                bi = x\n",
    "            i += 1\n",
    "        return (x, funcao(x), i)\n",
    "    else:\n",
    "        print(\"Não existe raíz real neste intervalo!\")\n"
   ]
  },
  {
   "cell_type": "code",
   "execution_count": 16,
   "metadata": {},
   "outputs": [
    {
     "name": "stdout",
     "output_type": "stream",
     "text": [
      "Raiz X = 0.45362043559830456\n",
      "f(X) = -0.08484738104583844\n",
      "N iterações = 6\n"
     ]
    }
   ],
   "source": [
    "#exemplo f(x) = e**-x^2 - cos(x), [1,2], e = 10 **-4 , phi(x)= cos(x) - e^-x**2 + x\n",
    "result= posicaoFalsa(lambda x : math.exp(-x**2) - math.cos(x),[1,2],10**-4,10**-4,6)\n",
    "print(f'Raiz X = {result[0]}\\nf(X) = {result[1]}\\nN iterações = {result[2]}')"
   ]
  },
  {
   "attachments": {},
   "cell_type": "markdown",
   "metadata": {},
   "source": [
    "* 3° - método do ponto fixo"
   ]
  },
  {
   "cell_type": "code",
   "execution_count": 25,
   "metadata": {},
   "outputs": [],
   "source": [
    "def pontoFixo(f, phi, x0, e1=0.000001, e2=0.000001, it_max=1000000):\n",
    "    \"\"\"Função que calcula a raiz de uma função f recebida por parâmetro pelo método do ponto fixo.\n",
    "    PArâmetros:\n",
    "    f -> função \n",
    "    phi -> função equivalente tal que phi(X) = X -> veio de f(x)= 0 e depois de isolar x.\n",
    "    x0 -> aproximação inicial \n",
    "    e1 e e2 -> precisões\n",
    "    it_max -> número de iterações máximas.\n",
    "    Retorna uma tupla contendo a raiz, o y na raiz e o número de iterções realizadas, respectivamente.\n",
    "    \"\"\"\n",
    "    if (abs(f(x0)) < e1):\n",
    "        return x0\n",
    "\n",
    "    x = phi(x0)\n",
    "    k = 1\n",
    "\n",
    "    while (abs(f(x)) > e2 and abs(x - x0) > e1 and k < it_max):\n",
    "        #print(\"x{}: {}; f(x) : {}; \".format(k, x, f(x)))\n",
    "\n",
    "        x0 = x\n",
    "        x = phi(x)\n",
    "        k += 1\n",
    "\n",
    "    return (x, f(x), k)"
   ]
  },
  {
   "cell_type": "code",
   "execution_count": 26,
   "metadata": {},
   "outputs": [
    {
     "name": "stdout",
     "output_type": "stream",
     "text": [
      "Raiz X = 1.4475247075737827\n",
      "f(X) = 7.025777685441825e-05\n",
      "N iterações = 6\n"
     ]
    }
   ],
   "source": [
    "#exemplo f(x) = e**-x^2 - cos(x), [1,2], e = 10 **-4 , phi(x)= cos(x) - e^-x**2 + x\n",
    "result= pontoFixo(lambda x : math.exp(-x**2) - math.cos(x),lambda x : math.cos(x ) - math.exp(-x**2) + x,1.5,10**-4,10**-4)\n",
    "print(f'Raiz X = {result[0]}\\nf(X) = {result[1]}\\nN iterações = {result[2]}')"
   ]
  }
 ],
 "metadata": {
  "kernelspec": {
   "display_name": "Python 3",
   "language": "python",
   "name": "python3"
  },
  "language_info": {
   "codemirror_mode": {
    "name": "ipython",
    "version": 3
   },
   "file_extension": ".py",
   "mimetype": "text/x-python",
   "name": "python",
   "nbconvert_exporter": "python",
   "pygments_lexer": "ipython3",
   "version": "3.10.11"
  },
  "orig_nbformat": 4
 },
 "nbformat": 4,
 "nbformat_minor": 2
}
