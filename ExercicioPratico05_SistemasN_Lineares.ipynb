{
 "cells": [
  {
   "attachments": {},
   "cell_type": "markdown",
   "metadata": {},
   "source": [
    "# Exercício prático 05 - Resolução de sistemas não lineares  \n",
    "### Resolução das matrizes jacobianas - matrizes das derivadas parciais\n",
    "### Método de newton para sistemas não Lineares\n",
    "\n"
   ]
  },
  {
   "cell_type": "code",
   "execution_count": 2,
   "metadata": {},
   "outputs": [],
   "source": [
    "def precisao_maquina():\n",
    "    \"\"\"Função que calcula a precisão da máquina\", o número positivo em aritmética de ponto flutuante 𝜀, tal que 1 + 𝜀 >1.\"\"\"\n",
    "    #passo 1\n",
    "    A=1\n",
    "    S=2\n",
    "    #passo 2\n",
    "    while(S>1):\n",
    "        A=A/2\n",
    "        S=1+A\n",
    "    prec=2*A #passo 3\n",
    "    \n",
    "    return prec\n",
    "\n",
    "# def MétodoNewton_NaoLineares(M_Jacobiana,precisao = precisao_maquina() ):\n"
   ]
  },
  {
   "cell_type": "code",
   "execution_count": 3,
   "metadata": {},
   "outputs": [
    {
     "name": "stdout",
     "output_type": "stream",
     "text": [
      "3*x1**2 - 6*x1*x2 - 3*x2**2\n"
     ]
    }
   ],
   "source": [
    "import sympy as sym\n",
    " \n",
    "#Derivatives of multivariable function\n",
    " \n",
    "x1 , x2,x3 = sym.symbols('x1 x2 x3')\n",
    "\n",
    "f1 = x1**3 -3*x1*x2**2 +1\n",
    "\n",
    "#Differentiating partially w.r.t x\n",
    "derivative_x1 = f1.diff(x1)\n",
    "derivative_x2 = f1.diff(x2)\n",
    "\n",
    "f = eval(f\"{derivative_x1}{derivative_x2}\")\n",
    "print(f)\n"
   ]
  },
  {
   "cell_type": "code",
   "execution_count": 4,
   "metadata": {},
   "outputs": [],
   "source": [
    "import numpy as np\n",
    "import pandas as pd\n",
    "\n",
    "def getMatrizJacobiana(F,n_variaveis):\n",
    "    \"\"\"Função que gera a matriz jacobiana de uma matriz de funções que recebe como parâmetro\\n\n",
    "    Parâmetros:\\n\n",
    "    F = matriz principal da qual se quer gerar a jacobiana\\n\n",
    "    Retorno:\\n Matriz Jaconiana de F\"\"\"\n",
    "\n",
    "    # pega a dimensao da matriz\n",
    "    n = len(F)\n",
    "    m = len(F[0])\n",
    "    # gera as variáveis\n",
    "    symbols = sym.symbols(f\"x1:{n_variaveis+1}\")\n",
    "    matrizJacobiana=list()# vriável que guardará o retorno da função\n",
    "\n",
    "    # print(n,m)\n",
    "    # print(symbols)\n",
    "    # percorre a matriz F\n",
    "    for i in range(n):\n",
    "        listaux=list()\n",
    "        for j in range(m):\n",
    "            f = F[i][j]\n",
    "        \n",
    "            # print(f\"Função= {f}\")\n",
    "\n",
    "            derivadas_list =list()\n",
    "            #calculo da derivada pra cada variável\n",
    "            for variable in symbols:\n",
    "\n",
    "                derivative = f.diff(variable)\n",
    "                # print(f\"Derivada de {variable} :{derivative}\")\n",
    "                if str(derivative)[0] ==\"-\":\n",
    "                    derivadas_list.append(str(derivative))\n",
    "                else:\n",
    "                    derivadas_list.append(\" + \"+str(derivative))\n",
    "\n",
    "            #calculo da derivada parcial\n",
    "            dx = \" \".join(derivadas_list)\n",
    "            # print(f\"Derivada parcial = {dx}\")\n",
    "            listaux.append(eval(dx))\n",
    "        # print(\"Lista de derivadas parciais = \",listaux)\n",
    "        matrizJacobiana.append(listaux)\n",
    "\n",
    "    return matrizJacobiana\n"
   ]
  },
  {
   "attachments": {},
   "cell_type": "markdown",
   "metadata": {},
   "source": [
    "### Exemplo de matriz jacobiana"
   ]
  },
  {
   "cell_type": "code",
   "execution_count": 5,
   "metadata": {},
   "outputs": [
    {
     "name": "stdout",
     "output_type": "stream",
     "text": [
      "Matriz F(X)\n"
     ]
    },
    {
     "data": {
      "text/html": [
       "<div>\n",
       "<style scoped>\n",
       "    .dataframe tbody tr th:only-of-type {\n",
       "        vertical-align: middle;\n",
       "    }\n",
       "\n",
       "    .dataframe tbody tr th {\n",
       "        vertical-align: top;\n",
       "    }\n",
       "\n",
       "    .dataframe thead th {\n",
       "        text-align: right;\n",
       "    }\n",
       "</style>\n",
       "<table border=\"1\" class=\"dataframe\">\n",
       "  <thead>\n",
       "    <tr style=\"text-align: right;\">\n",
       "      <th></th>\n",
       "      <th>0</th>\n",
       "    </tr>\n",
       "  </thead>\n",
       "  <tbody>\n",
       "    <tr>\n",
       "      <th>0</th>\n",
       "      <td>x1**3 - 3*x1*x2**2 + 1</td>\n",
       "    </tr>\n",
       "    <tr>\n",
       "      <th>1</th>\n",
       "      <td>3*x1**2*x2 - x2**3</td>\n",
       "    </tr>\n",
       "  </tbody>\n",
       "</table>\n",
       "</div>"
      ],
      "text/plain": [
       "                        0\n",
       "0  x1**3 - 3*x1*x2**2 + 1\n",
       "1      3*x1**2*x2 - x2**3"
      ]
     },
     "metadata": {},
     "output_type": "display_data"
    },
    {
     "name": "stdout",
     "output_type": "stream",
     "text": [
      "Matriz Jacobiana J(X)\n"
     ]
    },
    {
     "data": {
      "text/html": [
       "<div>\n",
       "<style scoped>\n",
       "    .dataframe tbody tr th:only-of-type {\n",
       "        vertical-align: middle;\n",
       "    }\n",
       "\n",
       "    .dataframe tbody tr th {\n",
       "        vertical-align: top;\n",
       "    }\n",
       "\n",
       "    .dataframe thead th {\n",
       "        text-align: right;\n",
       "    }\n",
       "</style>\n",
       "<table border=\"1\" class=\"dataframe\">\n",
       "  <thead>\n",
       "    <tr style=\"text-align: right;\">\n",
       "      <th></th>\n",
       "      <th>0</th>\n",
       "    </tr>\n",
       "  </thead>\n",
       "  <tbody>\n",
       "    <tr>\n",
       "      <th>0</th>\n",
       "      <td>3*x1**2 - 6*x1*x2 - 3*x2**2</td>\n",
       "    </tr>\n",
       "    <tr>\n",
       "      <th>1</th>\n",
       "      <td>3*x1**2 + 6*x1*x2 - 3*x2**2</td>\n",
       "    </tr>\n",
       "  </tbody>\n",
       "</table>\n",
       "</div>"
      ],
      "text/plain": [
       "                             0\n",
       "0  3*x1**2 - 6*x1*x2 - 3*x2**2\n",
       "1  3*x1**2 + 6*x1*x2 - 3*x2**2"
      ]
     },
     "metadata": {},
     "output_type": "display_data"
    }
   ],
   "source": [
    "\n",
    "#dada as funções f de 1 e f2 e a matriz F\n",
    "f1 = x1**3 -3*x1*x2**2 +1\n",
    "f2 = 3*x1**2*x2 - x2**3\n",
    "F=[[f1],\n",
    "   [f2]]\n",
    "\n",
    "print(\"Matriz F(X)\")\n",
    "display(pd.DataFrame(F))\n",
    "print(\"Matriz Jacobiana J(X)\")\n",
    "J = getMatrizJacobiana(F,2)\n",
    "display(pd.DataFrame(J))"
   ]
  },
  {
   "attachments": {},
   "cell_type": "markdown",
   "metadata": {},
   "source": [
    "#### Construindo a representação pra receber os valores de x"
   ]
  },
  {
   "cell_type": "code",
   "execution_count": 6,
   "metadata": {},
   "outputs": [],
   "source": [
    "def F1(x):\n",
    "    return np.matrix([\n",
    "        [x[0]**3 -3*x[0]*x[1]**2+1,3*x[0]**2*x[1] - x[1]**3],\n",
    "        [3*x[0]**2*x[1] - x[1]**3,3*x[0]**2*x[1] - x[1]**3]\n",
    "    ])\n",
    "\n",
    "def J1(x):\n",
    "        return np.matrix([\n",
    "         [3*x[0]**2 - 6*x[0]*x[1] - 3*x[1]**2,3*x[0]**2 + 6*x[0]*x[1] - 3*x[1]**2],\n",
    "         [3*x[0]**2 + 6*x[0]*x[1] - 3*x[1]**2,3*x[0]**2 + 6*x[0]*x[1] - 3*x[1]**2]\n",
    "    ])\n"
   ]
  },
  {
   "attachments": {},
   "cell_type": "markdown",
   "metadata": {},
   "source": [
    "#### Resolvendo forma 1"
   ]
  },
  {
   "cell_type": "code",
   "execution_count": 7,
   "metadata": {},
   "outputs": [
    {
     "name": "stdout",
     "output_type": "stream",
     "text": [
      "[[-10  -2]\n",
      " [ -2  -2]]\n",
      "[[-21   3]\n",
      " [  3   3]]\n"
     ]
    }
   ],
   "source": [
    "print(F1([1,2]))\n",
    "print(J1([1,2]))"
   ]
  },
  {
   "attachments": {},
   "cell_type": "markdown",
   "metadata": {},
   "source": [
    "#### Resolvendo forma 2"
   ]
  },
  {
   "cell_type": "code",
   "execution_count": 8,
   "metadata": {},
   "outputs": [],
   "source": [
    "def GetX(F,x):\n",
    "    N_variaveis = len(x)\n",
    "    symbols = sym.symbols(f\"x1:{N_variaveis+1}\")\n",
    "    dic_x={}\n",
    "    for i,v in enumerate(symbols):\n",
    "        dic_x[v]=x[i]\n",
    "\n",
    "    Results=list()\n",
    "    for i in range(len(F)):\n",
    "        list_raux=list()\n",
    "        for j in range(len(F[0])):      \n",
    "            #percorre a matriz\n",
    "            r=F[i][j].subs(dic_x)\n",
    "            # print(r)\n",
    "            list_raux.append(r)\n",
    "            # print(list_raux)\n",
    "        Results.append(list_raux)\n",
    "    return Results\n"
   ]
  },
  {
   "cell_type": "code",
   "execution_count": 9,
   "metadata": {},
   "outputs": [
    {
     "name": "stdout",
     "output_type": "stream",
     "text": [
      "[[-10], [-2]]\n",
      "[[-21], [3]]\n"
     ]
    }
   ],
   "source": [
    "print(GetX(F,[1,2]))\n",
    "print(GetX(J,[1,2]))"
   ]
  },
  {
   "attachments": {},
   "cell_type": "markdown",
   "metadata": {},
   "source": [
    "### Exemplo 2"
   ]
  },
  {
   "cell_type": "code",
   "execution_count": 10,
   "metadata": {},
   "outputs": [
    {
     "name": "stdout",
     "output_type": "stream",
     "text": [
      "Matriz F(X)\n"
     ]
    },
    {
     "data": {
      "text/html": [
       "<div>\n",
       "<style scoped>\n",
       "    .dataframe tbody tr th:only-of-type {\n",
       "        vertical-align: middle;\n",
       "    }\n",
       "\n",
       "    .dataframe tbody tr th {\n",
       "        vertical-align: top;\n",
       "    }\n",
       "\n",
       "    .dataframe thead th {\n",
       "        text-align: right;\n",
       "    }\n",
       "</style>\n",
       "<table border=\"1\" class=\"dataframe\">\n",
       "  <thead>\n",
       "    <tr style=\"text-align: right;\">\n",
       "      <th></th>\n",
       "      <th>0</th>\n",
       "    </tr>\n",
       "  </thead>\n",
       "  <tbody>\n",
       "    <tr>\n",
       "      <th>0</th>\n",
       "      <td>x1**2 - cos(x1*x2) - 1</td>\n",
       "    </tr>\n",
       "    <tr>\n",
       "      <th>1</th>\n",
       "      <td>sin(x2) - 2*cos(x1)</td>\n",
       "    </tr>\n",
       "  </tbody>\n",
       "</table>\n",
       "</div>"
      ],
      "text/plain": [
       "                        0\n",
       "0  x1**2 - cos(x1*x2) - 1\n",
       "1     sin(x2) - 2*cos(x1)"
      ]
     },
     "metadata": {},
     "output_type": "display_data"
    },
    {
     "name": "stdout",
     "output_type": "stream",
     "text": [
      "Matriz Jacobiana J(X)\n"
     ]
    },
    {
     "data": {
      "text/html": [
       "<div>\n",
       "<style scoped>\n",
       "    .dataframe tbody tr th:only-of-type {\n",
       "        vertical-align: middle;\n",
       "    }\n",
       "\n",
       "    .dataframe tbody tr th {\n",
       "        vertical-align: top;\n",
       "    }\n",
       "\n",
       "    .dataframe thead th {\n",
       "        text-align: right;\n",
       "    }\n",
       "</style>\n",
       "<table border=\"1\" class=\"dataframe\">\n",
       "  <thead>\n",
       "    <tr style=\"text-align: right;\">\n",
       "      <th></th>\n",
       "      <th>0</th>\n",
       "    </tr>\n",
       "  </thead>\n",
       "  <tbody>\n",
       "    <tr>\n",
       "      <th>0</th>\n",
       "      <td>x1*sin(x1*x2) + 2*x1 + x2*sin(x1*x2)</td>\n",
       "    </tr>\n",
       "    <tr>\n",
       "      <th>1</th>\n",
       "      <td>2*sin(x1) + cos(x2)</td>\n",
       "    </tr>\n",
       "  </tbody>\n",
       "</table>\n",
       "</div>"
      ],
      "text/plain": [
       "                                      0\n",
       "0  x1*sin(x1*x2) + 2*x1 + x2*sin(x1*x2)\n",
       "1                   2*sin(x1) + cos(x2)"
      ]
     },
     "metadata": {},
     "output_type": "display_data"
    }
   ],
   "source": [
    "from sympy import sin,cos\n",
    "f1 = x1**2 - cos(x1*x2) - 1\n",
    "f2 = sin(x2) - 2*cos(x1)\n",
    "F=[[f1],\n",
    "   [f2]]\n",
    "\n",
    "print(\"Matriz F(X)\")\n",
    "display(pd.DataFrame(F))\n",
    "print(\"Matriz Jacobiana J(X)\")\n",
    "J = getMatrizJacobiana(F,2)\n",
    "display(pd.DataFrame(J))"
   ]
  },
  {
   "cell_type": "code",
   "execution_count": 11,
   "metadata": {},
   "outputs": [],
   "source": [
    "import math\n",
    "def F2(x):\n",
    "    return np.matrix([ \n",
    "        [x[0]**2 - math.cos(x[0]*x[0]) - 1],\n",
    "        [math.sin(x[0]) - 2*math.cos(x[0])]])\n",
    "\n",
    "def J2(x):\n",
    "        return np.matrix([\n",
    "         [x[0]*math.sin(x[0]*x[1]) + 2*x[0] + x[1]*math.sin(x[0]*x[1])],\n",
    "          [2*math.sin(x[0]) + math.cos(x[1])]\n",
    "          ])\n"
   ]
  },
  {
   "cell_type": "code",
   "execution_count": 12,
   "metadata": {},
   "outputs": [],
   "source": [
    "def F(x):  \n",
    "    y = np.zeros(2)  \n",
    " \n",
    "    y[0] = x[0]**2 - np.cos(x[0]*x[1]) - 1  \n",
    "    y[1] = np.sin(x[1]) - 2*np.cos(x[0])  \n",
    " \n",
    "    return y  \n",
    " \n",
    "def JF(x):  \n",
    "    y = np.zeros((2,2))  \n",
    " \n",
    "    y[0,0] = 2*x[0] + x[1]*np.sin(x[0]*x[1])  \n",
    "    y[0,1] = x[0]*np.sin(x[0]*x[1])  \n",
    " \n",
    "    y[1,0] =  2*np.sin(x[0])  \n",
    "    y[1,1] = np.cos(x[1])  \n",
    " \n",
    "    return y"
   ]
  },
  {
   "attachments": {},
   "cell_type": "markdown",
   "metadata": {},
   "source": [
    "#### Exemplo 5 -livro"
   ]
  },
  {
   "cell_type": "code",
   "execution_count": 13,
   "metadata": {},
   "outputs": [],
   "source": [
    "def F5(x):  \n",
    "    y = np.zeros(2)  \n",
    " \n",
    "    y[0] = x[0] + x[1] - 3  \n",
    "    y[1] = x[0]**2 + x[1]**2 -9\n",
    " \n",
    "    return y  \n",
    " \n",
    "def JF5(x):  \n",
    "    y = np.zeros((2,2))  \n",
    " \n",
    "    y[0,0] = 1 \n",
    "    y[0,1] = 1\n",
    " \n",
    "    y[1,0] =  2*x[0]\n",
    "    y[1,1] = 2*x[1]  \n",
    " \n",
    "    return y"
   ]
  },
  {
   "cell_type": "code",
   "execution_count": 14,
   "metadata": {},
   "outputs": [],
   "source": [
    "def F4(x):  \n",
    "    return np.matrix([\n",
    "    x[0] + x[1] - 3 ,\n",
    "    x[0]**2 + x[1]**2 -9])\n",
    " \n",
    "    return y  \n",
    " \n",
    "def J4(x):  \n",
    "    return np.matrix([\n",
    "    [1 , 1],\n",
    "    [2*x[0],2*x[1]]])\n",
    " \n",
    "\n",
    "    return y"
   ]
  },
  {
   "cell_type": "code",
   "execution_count": 15,
   "metadata": {},
   "outputs": [
    {
     "name": "stdout",
     "output_type": "stream",
     "text": [
      "[[ 3 17]]\n",
      "[[ 1  1]\n",
      " [ 2 10]]\n"
     ]
    }
   ],
   "source": [
    "print(F4([1,5]))\n",
    "print(J4([1,5]))\n"
   ]
  },
  {
   "cell_type": "code",
   "execution_count": 16,
   "metadata": {},
   "outputs": [],
   "source": [
    "from __future__ import division  \n",
    "import numpy as np  \n",
    "from numpy import linalg  \n",
    " \n",
    "def newton(F,JF,x0,e1=precisao_maquina(),e2=precisao_maquina(),it_max = 10000):  \n",
    "    #preliminares  \n",
    "    x = np.copy(x0).astype('double')\n",
    "    print(\"Chute inicial=\",x)\n",
    "    k=0  \n",
    "    #iteracoes  \n",
    "    while (k < it_max):  \n",
    "       k += 1  \n",
    "       #iteracao Newton  \n",
    "       delta = -np.linalg.inv(JF(x)).dot(F(x))\n",
    "       print(\"DElTA: \",delta)\n",
    "       x = x + delta\n",
    "       print(f\" it {k} = {x}\")\n",
    "       #criterio de parada  \n",
    "       if (np.linalg.norm(delta,np.inf) < e1):  \n",
    "           return x  \n",
    " \n",
    "    raise NameError('num. max. iter. excedido.')"
   ]
  },
  {
   "cell_type": "code",
   "execution_count": 17,
   "metadata": {},
   "outputs": [
    {
     "name": "stdout",
     "output_type": "stream",
     "text": [
      "[1.5 0.5]\n",
      "[1.37745105 0.39349467]\n"
     ]
    }
   ],
   "source": [
    "x = np.array([1.5,0.5])  \n",
    "print(x)\n",
    "x=x-np.linalg.inv(JF(x)).dot(F(x))\n",
    "print(x)"
   ]
  },
  {
   "cell_type": "code",
   "execution_count": 18,
   "metadata": {},
   "outputs": [
    {
     "name": "stdout",
     "output_type": "stream",
     "text": [
      "Chute inicial= [1.5 0.5]\n",
      "DElTA:  [-0.12254895 -0.10650533]\n",
      " it 1 = [1.37745105 0.39349467]\n",
      "DElTA:  [-0.02857455  0.06166443]\n",
      " it 2 = [1.3488765 0.4551591]\n",
      "DElTA:  [-0.00205208  0.00512568]\n",
      " it 3 = [1.34682442 0.46028478]\n",
      "DElTA:  [-1.34685877e-05  3.47457581e-05]\n",
      " it 4 = [1.34681095 0.46031953]\n",
      "DElTA:  [-6.19484309e-10  1.60269389e-09]\n",
      " it 5 = [1.34681095 0.46031953]\n",
      "DElTA:  [-9.94345358e-17  9.25081307e-17]\n",
      " it 6 = [1.34681095 0.46031953]\n",
      "Resposta: [1.34681095 0.46031953]\n"
     ]
    }
   ],
   "source": [
    "\n",
    "R = newton(F,JF,[1.5,0.5])\n",
    "print(\"Resposta:\",R)"
   ]
  },
  {
   "cell_type": "code",
   "execution_count": 19,
   "metadata": {},
   "outputs": [
    {
     "name": "stdout",
     "output_type": "stream",
     "text": [
      "Chute inicial= [1. 5.]\n",
      "DElTA:  [-1.625 -1.375]\n",
      " it 1 = [-0.625  3.625]\n",
      "DElTA:  [ 0.53308824 -0.53308824]\n",
      " it 2 = [-0.09191176  3.09191176]\n",
      "DElTA:  [ 0.08925842 -0.08925842]\n",
      " it 3 = [-2.65334194e-03  3.00265334e+00]\n",
      "DElTA:  [ 0.002651 -0.002651]\n",
      " it 4 = [-2.34259734e-06  3.00000234e+00]\n",
      "DElTA:  [ 2.34259551e-06 -2.34259551e-06]\n",
      " it 5 = [-1.82961514e-12  3.00000000e+00]\n",
      "DElTA:  [ 1.82964754e-12 -1.82964754e-12]\n",
      " it 6 = [3.24049372e-17 3.00000000e+00]\n",
      "DElTA:  [-0. -0.]\n",
      " it 7 = [3.24049372e-17 3.00000000e+00]\n",
      "Resposta: [3.24049372e-17 3.00000000e+00]\n"
     ]
    }
   ],
   "source": [
    "###Resolução exemplo 5\n",
    "\n",
    "R = newton(F5,JF5,[1,5])\n",
    "print(\"Resposta:\",R)"
   ]
  },
  {
   "cell_type": "code",
   "execution_count": 20,
   "metadata": {},
   "outputs": [],
   "source": [
    "import numpy as np\n",
    "import pandas as pd\n",
    "\n",
    "  \n",
    "# Resolve o sistema triangular superior.\n",
    "def SistemaTriangularSuperior(Ax,b):\n",
    "  \"\"\"Função que resolve um sistema linear triangular superior do tipo  𝐴𝑥 = b que recebe como parâmetro \"\"\"\n",
    "  n = len(b) #tamanho do vetor b\n",
    "  x= [b[i]/Ax[i][i] if i == 0 else None for i in range(0,len(b))]\n",
    "\n",
    "  x[n-1] = b[n-1]/Ax[n-1][n-1]\n",
    "  iter = 0\n",
    "  for i in list(range(n-1,0,-1)):\n",
    "    iter+=1\n",
    "    s = 0\n",
    "    for j in list(range(i+1,n+1)):\n",
    "      s = s + Ax[i-1][j-1]*x[j-1]\n",
    "\n",
    "    x[i-1] = (b[i-1]-s)/(Ax[i-1][i-1])\n",
    "\n",
    "  return [x,iter]\n",
    "\n",
    "def EliminacaoDeGauss(A,b):\n",
    "  \"\"\"Função que resolve um sistema linear do tipo Ax = b que recebe como parâmetro\n",
    "     Return : retorna o vetor x resultante\"\"\"\n",
    "  \n",
    "  # ELIMINAÇÃO DE GAUSS\n",
    "  n = len(b)\n",
    "\n",
    "  # Calculo dos pivos.\n",
    "  for k in range(1,n+1):\n",
    "    # PIVOTEAMENTO PARCIAL\n",
    "    for i in range(k+1, len(A)+1):\n",
    "      if (abs(A[i-1][k-1]) > abs(A[k-1][k-1])):\n",
    "        [A[k-1], A[i-1]] = [A[i-1], A[k-1]]\n",
    "        [b[k-1], b[i-1]] = [b[i-1], b[k-1]]\n",
    "\n",
    "    # Calculo dos multiplicadores.\n",
    "    for i in list(range(k+1,n+1)):\n",
    "      m = A[i-1][k-1]/A[k-1][k-1]\n",
    "      A[i-1][k-1] = 0\n",
    "      \n",
    "      # Atualizar demais valores da linha\n",
    "      for j in list(range(k+1,n+1)):\n",
    "        A[i-1][j-1] = A[i-1][j-1]-m*A[k-1][j-1]\n",
    "      b[i-1] = b[i-1] - m*b[k-1]\n",
    "\n",
    "  # print(\"depois da eliminação\\n Ax =  \",Ax2,\"\\nb = \",b2)\n",
    "  x = SistemaTriangularSuperior(A,b)\n",
    "  return(x)"
   ]
  },
  {
   "cell_type": "code",
   "execution_count": 126,
   "metadata": {},
   "outputs": [],
   "source": [
    "def Newton_N_Lineares(F,J,x0,e1=precisao_maquina(),e2=precisao_maquina(),it_max=10000):  \n",
    "    verifica_precisao =np.max(F(x0)) \n",
    "\n",
    "    if verifica_precisao < e1:\n",
    "        return(x0)\n",
    "    xk=x0\n",
    "    # print(\"Chute Inicial : \",F(x0))\n",
    "    k=0\n",
    "\n",
    "    while(verifica_precisao>e2 and k<it_max):\n",
    "        # print(f\"\\n{k}\\n\")\n",
    "        # print(f\"J(x{k}) = \",J(xk).tolist())\n",
    "        # print(f\"-F(x{k})\",(-F(xk)[0]).tolist()[0])\n",
    "\n",
    "        s= np.matrix(EliminacaoDeGauss(J(xk).tolist(),(-F(xk)[0]).tolist()[0])[0])\n",
    "        # print(\"s = \",s)\n",
    "        xk=np.matrix(xk)\n",
    "        xkp1= xk+s # calcula 0 x^k+1\n",
    "        # print(f\"x{k+1} = {xkp1}\")\n",
    "\n",
    "        if abs(np.max(np.abs(xkp1-xk))) < e2:\n",
    "            # print(\"menor\")\n",
    "            return xkp1.tolist()[0],k\n",
    "        \n",
    "        # print(f\"{np.max(np.abs(xkp1-xk))}> e2\")\n",
    "        k+=1\n",
    "        xk=xkp1.tolist()[0] # atualiza o xk pra ser xk+1\n",
    "        # print(xk)\n",
    "        verifica_precisao =np.max(F(xk))\n",
    "\n",
    "    return xk,k"
   ]
  },
  {
   "cell_type": "code",
   "execution_count": 127,
   "metadata": {},
   "outputs": [
    {
     "name": "stdout",
     "output_type": "stream",
     "text": [
      "([1.1567124056158726e-16, 3.0], 6)\n"
     ]
    }
   ],
   "source": [
    "print(Newton_N_Lineares(F4,J4,[1,5])) "
   ]
  },
  {
   "cell_type": "code",
   "execution_count": 91,
   "metadata": {},
   "outputs": [
    {
     "name": "stdout",
     "output_type": "stream",
     "text": [
      "Chute Inicial :  [[ 3 17]]\n"
     ]
    },
    {
     "data": {
      "text/plain": [
       "[1, 5]"
      ]
     },
     "execution_count": 91,
     "metadata": {},
     "output_type": "execute_result"
    }
   ],
   "source": [
    "Newton_N_Lineares(F4,J4,[1,5])"
   ]
  },
  {
   "attachments": {},
   "cell_type": "markdown",
   "metadata": {},
   "source": [
    "### Exemplo 2"
   ]
  },
  {
   "cell_type": "code",
   "execution_count": null,
   "metadata": {},
   "outputs": [
    {
     "name": "stdout",
     "output_type": "stream",
     "text": [
      "Matriz F(X)\n"
     ]
    },
    {
     "data": {
      "text/html": [
       "<div>\n",
       "<style scoped>\n",
       "    .dataframe tbody tr th:only-of-type {\n",
       "        vertical-align: middle;\n",
       "    }\n",
       "\n",
       "    .dataframe tbody tr th {\n",
       "        vertical-align: top;\n",
       "    }\n",
       "\n",
       "    .dataframe thead th {\n",
       "        text-align: right;\n",
       "    }\n",
       "</style>\n",
       "<table border=\"1\" class=\"dataframe\">\n",
       "  <thead>\n",
       "    <tr style=\"text-align: right;\">\n",
       "      <th></th>\n",
       "      <th>0</th>\n",
       "    </tr>\n",
       "  </thead>\n",
       "  <tbody>\n",
       "    <tr>\n",
       "      <th>0</th>\n",
       "      <td>x1**2/3 + x2**2 - 1</td>\n",
       "    </tr>\n",
       "    <tr>\n",
       "      <th>1</th>\n",
       "      <td>x1**2 + x2**2/4 - 1</td>\n",
       "    </tr>\n",
       "  </tbody>\n",
       "</table>\n",
       "</div>"
      ],
      "text/plain": [
       "                     0\n",
       "0  x1**2/3 + x2**2 - 1\n",
       "1  x1**2 + x2**2/4 - 1"
      ]
     },
     "metadata": {},
     "output_type": "display_data"
    },
    {
     "name": "stdout",
     "output_type": "stream",
     "text": [
      "Matriz Jacobiana J(X)\n"
     ]
    },
    {
     "data": {
      "text/html": [
       "<div>\n",
       "<style scoped>\n",
       "    .dataframe tbody tr th:only-of-type {\n",
       "        vertical-align: middle;\n",
       "    }\n",
       "\n",
       "    .dataframe tbody tr th {\n",
       "        vertical-align: top;\n",
       "    }\n",
       "\n",
       "    .dataframe thead th {\n",
       "        text-align: right;\n",
       "    }\n",
       "</style>\n",
       "<table border=\"1\" class=\"dataframe\">\n",
       "  <thead>\n",
       "    <tr style=\"text-align: right;\">\n",
       "      <th></th>\n",
       "      <th>0</th>\n",
       "    </tr>\n",
       "  </thead>\n",
       "  <tbody>\n",
       "    <tr>\n",
       "      <th>0</th>\n",
       "      <td>2*x1/3 + 2*x2</td>\n",
       "    </tr>\n",
       "    <tr>\n",
       "      <th>1</th>\n",
       "      <td>2*x1 + x2/2</td>\n",
       "    </tr>\n",
       "  </tbody>\n",
       "</table>\n",
       "</div>"
      ],
      "text/plain": [
       "               0\n",
       "0  2*x1/3 + 2*x2\n",
       "1    2*x1 + x2/2"
      ]
     },
     "metadata": {},
     "output_type": "display_data"
    }
   ],
   "source": [
    "#dada as funções f de 1 e f2 e a matriz F\n",
    "f1 = x1**2/3 + x2**2 - 1\n",
    "f2 = x1**2 + x2**2/4 - 1\n",
    "F=[[f1],\n",
    "   [f2]]\n",
    "\n",
    "print(\"Matriz F(X)\")\n",
    "display(pd.DataFrame(F))\n",
    "print(\"Matriz Jacobiana J(X)\")\n",
    "display(pd.DataFrame(getMatrizJacobiana(F,2)))"
   ]
  },
  {
   "cell_type": "code",
   "execution_count": null,
   "metadata": {},
   "outputs": [
    {
     "name": "stdout",
     "output_type": "stream",
     "text": [
      "[[-10  -2]\n",
      " [ -2  -2]]\n",
      "[[-20  -4]\n",
      " [ -4  -4]]\n",
      "chute inicial[0][0] [[-10  -2]]\n",
      "chute inicial[1][0] [[-2 -2]]\n"
     ]
    }
   ],
   "source": [
    "Newton_N_Lineares(F1,J1,[1,2])"
   ]
  }
 ],
 "metadata": {
  "kernelspec": {
   "display_name": "Python 3",
   "language": "python",
   "name": "python3"
  },
  "language_info": {
   "codemirror_mode": {
    "name": "ipython",
    "version": 3
   },
   "file_extension": ".py",
   "mimetype": "text/x-python",
   "name": "python",
   "nbconvert_exporter": "python",
   "pygments_lexer": "ipython3",
   "version": "3.11.1"
  },
  "orig_nbformat": 4
 },
 "nbformat": 4,
 "nbformat_minor": 2
}
