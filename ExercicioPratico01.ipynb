{
 "cells": [
  {
   "attachments": {},
   "cell_type": "markdown",
   "metadata": {},
   "source": [
    "#### Exercício prático 01 \n",
    "\n",
    "##### Slide aula 02\n",
    "\n",
    "1. Teste o exemplo 1 e o exemplo 2 do início dessa apresentação em uma linguagem de programação."
   ]
  },
  {
   "attachments": {},
   "cell_type": "markdown",
   "metadata": {},
   "source": [
    "![Exemplo 01](resources\\Exemplo01-aula02-MatComput.png)"
   ]
  },
  {
   "cell_type": "code",
   "execution_count": 4,
   "metadata": {},
   "outputs": [
    {
     "name": "stdout",
     "output_type": "stream",
     "text": [
      "Considerando pi = 3.1 -> Área= 31000.0\n",
      "Area 1 = 31000.0 m^2\n",
      "Considerando pi = 3.141 -> Área= 31410.0\n",
      "Area 2 = 31410.0 m^2\n",
      "Considerando pi = 3.14159265 -> Área= 31415.9265\n",
      "Area 3 = 31415.9265 m^2\n"
     ]
    }
   ],
   "source": [
    "#exercício 01\n",
    "import math\n",
    "def Area_Cicunferencia(raio=1,Prec=2):\n",
    "    \"\"\"Função que cálcula a área de um círculo recebendo como parâmetros de entrada o valor do raio (metros) e da precisão de pi\n",
    "        Dependendo da precisão considerada o resultado será diferente\"\"\"\n",
    "    \n",
    "    #decimal.getcontext().prec=Prec#define a precisão do resultado\n",
    "    pi=float(str(math.pi)[:Prec])\n",
    "    area=pi*raio**2\n",
    "    print(f\"Considerando pi = {pi} -> Área= {area}\")\n",
    "    return(area)\n",
    "print(f\"Area 1 = {Area_Cicunferencia(100,3)} m^2\")\n",
    "print(f\"Area 2 = {Area_Cicunferencia(100,5)} m^2\")\n",
    "print(f\"Area 3 = {Area_Cicunferencia(100,10)} m^2\")"
   ]
  },
  {
   "attachments": {},
   "cell_type": "markdown",
   "metadata": {},
   "source": [
    "![Exemplo 02](resources\\Exemplo02-somatorio-aula02-MatComput.png)"
   ]
  },
  {
   "cell_type": "code",
   "execution_count": 5,
   "metadata": {},
   "outputs": [
    {
     "name": "stdout",
     "output_type": "stream",
     "text": [
      "Para Xi = 0.5 : 15000.0\n",
      "Para Xi = 0.5 : 3300.0000000006285\n"
     ]
    }
   ],
   "source": [
    "def somatorio(X=1.0,K=1,N=1):\n",
    "    \"\"\"Função pra calcular o somatório de X K-N vezes\"\"\"\n",
    "    S=0.0\n",
    "    for i in range(K,N+1) :\n",
    "        S+=X\n",
    "    return(S)\n",
    "\n",
    "print(f\"Para Xi = 0.5 : {somatorio(0.5,1,30000)}\")\n",
    "print(f\"Para Xi = 0.5 : {somatorio(0.11,1,30000)}\")"
   ]
  },
  {
   "attachments": {},
   "cell_type": "markdown",
   "metadata": {},
   "source": [
    "- os resultados são diferentes no computador e na calculadora pois um número pode ter diferentes representações dependendo da base(decimal ou binária por exemplo), assim pode ter representação finita em ma e infinita em outra por isso o computador precisa arredondar ou truncar o número chegando sempre em uma aproximação"
   ]
  },
  {
   "attachments": {},
   "cell_type": "markdown",
   "metadata": {},
   "source": [
    "2. Faça com que o computador apresente erros de overflow e arredondamento. Identifique a diferença entre os dois na prática"
   ]
  },
  {
   "cell_type": "code",
   "execution_count": 6,
   "metadata": {},
   "outputs": [
    {
     "ename": "OverflowError",
     "evalue": "int too large to convert to float",
     "output_type": "error",
     "traceback": [
      "\u001b[1;31m---------------------------------------------------------------------------\u001b[0m",
      "\u001b[1;31mOverflowError\u001b[0m                             Traceback (most recent call last)",
      "Cell \u001b[1;32mIn[6], line 2\u001b[0m\n\u001b[0;32m      1\u001b[0m \u001b[39m### erro de overflow\u001b[39;00m\n\u001b[1;32m----> 2\u001b[0m \u001b[39mprint\u001b[39m(Area_Cicunferencia(\u001b[39m10\u001b[39;49m\u001b[39m*\u001b[39;49m\u001b[39m*\u001b[39;49m\u001b[39m1000\u001b[39;49m,\u001b[39m17\u001b[39;49m))\n\u001b[0;32m      3\u001b[0m \u001b[39m#aqui o resultado é um número maior do que a máquina consegue armazenar\u001b[39;00m\n",
      "Cell \u001b[1;32mIn[4], line 9\u001b[0m, in \u001b[0;36mArea_Cicunferencia\u001b[1;34m(raio, Prec)\u001b[0m\n\u001b[0;32m      7\u001b[0m \u001b[39m#decimal.getcontext().prec=Prec#define a precisão do resultado\u001b[39;00m\n\u001b[0;32m      8\u001b[0m pi\u001b[39m=\u001b[39m\u001b[39mfloat\u001b[39m(\u001b[39mstr\u001b[39m(math\u001b[39m.\u001b[39mpi)[:Prec])\n\u001b[1;32m----> 9\u001b[0m area\u001b[39m=\u001b[39mpi\u001b[39m*\u001b[39;49mraio\u001b[39m*\u001b[39;49m\u001b[39m*\u001b[39;49m\u001b[39m2\u001b[39;49m\n\u001b[0;32m     10\u001b[0m \u001b[39mprint\u001b[39m(\u001b[39mf\u001b[39m\u001b[39m\"\u001b[39m\u001b[39mConsiderando pi = \u001b[39m\u001b[39m{\u001b[39;00mpi\u001b[39m}\u001b[39;00m\u001b[39m -> Área= \u001b[39m\u001b[39m{\u001b[39;00marea\u001b[39m}\u001b[39;00m\u001b[39m\"\u001b[39m)\n\u001b[0;32m     11\u001b[0m \u001b[39mreturn\u001b[39;00m(area)\n",
      "\u001b[1;31mOverflowError\u001b[0m: int too large to convert to float"
     ]
    }
   ],
   "source": [
    "### erro de overflow\n",
    "print(Area_Cicunferencia(10**1000,17))\n",
    "#aqui o resultado é um número maior do que a máquina consegue armazenar"
   ]
  },
  {
   "cell_type": "code",
   "execution_count": null,
   "metadata": {},
   "outputs": [
    {
     "name": "stdout",
     "output_type": "stream",
     "text": [
      "Considerando pi = 3.141592653589793 -> Área= 3.141592653589793\n",
      "3.141592653589793\n",
      "Considerando pi = 3.141592653589793 -> Área= 3.141592653589793\n",
      "17\n"
     ]
    }
   ],
   "source": [
    "### erro de arredondamento (truncamento)\n",
    "print(Area_Cicunferencia(1,55))\n",
    "print(len(str(Area_Cicunferencia(1,55))))\n",
    "#percebe-se que a precisão de pi deveria der de 55 casas decimais mas acaba sendo de 17 -> erro de truncamento"
   ]
  },
  {
   "attachments": {},
   "cell_type": "markdown",
   "metadata": {},
   "source": [
    "3.  Por que o computador consegue mostrar o valor (0.11)10 se esse número só tem solução aproximada em binário?\n",
    "\n",
    "**R = pois ele possui uma quantidade fixa de posições pra guardar os dígitos da mantissa desse número, assim ele mostra o seu valor aproximado baseado no máximo de dígitos que ele consegue armazenar**"
   ]
  },
  {
   "attachments": {},
   "cell_type": "markdown",
   "metadata": {},
   "source": [
    "#### Slide aula 03 - EXERCÍCIOS PRÁTICOS SOBRE REPRESENTAÇÃO NUMÉRICA\n",
    "\n",
    "1. Escreva um programa que obtenha os seguintes resultados:\n",
    "\n",
    "S = 10000 − **Somatório de X para valores inteiros de 1 até n**\n",
    "\n",
    "- Para:\n",
    "\n",
    "    ▪ a) 𝑛 = 100000 e 𝑥 = 0.1;\n",
    "\n",
    "    ▪ b) 𝑛 = 80000 e 𝑥 = 0.125\n",
    "\n",
    "- Qual o erro absoluto e relativo em ambos os casos?"
   ]
  },
  {
   "cell_type": "code",
   "execution_count": 7,
   "metadata": {},
   "outputs": [],
   "source": [
    "from math import fabs # calcula o valor absoluto\n",
    "def exercicio01(X=1.0,K=1,N=1):\n",
    "\n",
    "    S=0.0\n",
    "    for i in range(K,N+1) :\n",
    "        S+=X\n",
    "\n",
    "    result=10000-S # aqui representa o valor esperado menos o valor aproximado calculado no for -> ou seja, o erro absoluto do somatório em si\n",
    "\n",
    "    return(result)\n",
    "\n",
    "def ErroAbsoluto(exato,aproximado):\n",
    "    \"\"\"Calculo do erro absoluto = módulo da diferença entre o valor exato e o valor aproximado\"\"\"\n",
    "    return fabs(exato-aproximado)\n",
    "\n",
    "def ErroRelativo(exato,aproximado):\n",
    "    \"\"\"Função que recebe o valor exato e o valor aproximado de um número e retorna seu erro relativo\n",
    "        Erro relativo -> Erro absoluto dividido pelo valor exato\"\"\"\n",
    "    try:\n",
    "        E_relativo=fabs(exato-aproximado)/fabs(exato)\n",
    "        return E_relativo\n",
    "\n",
    "    except ZeroDivisionError:\n",
    "       return 'divisao impossível -> Sem Erro Relativo'\n",
    "    "
   ]
  },
  {
   "cell_type": "code",
   "execution_count": 8,
   "metadata": {},
   "outputs": [
    {
     "name": "stdout",
     "output_type": "stream",
     "text": [
      "a)  𝑛 = 100000 e 𝑥 = 0.1 : -1.8848368199542165e-08 \n",
      "a)  𝑛 = 800000 e 𝑥 = 0.125 : 0.0 \n",
      "\n",
      "Erro absoluto em a = 1.8848368199542165e-08\n",
      "Erro relativo em a = divisao impossível -> Sem Erro Relativo\n",
      "\n",
      "Erro absoluto em b = 0.0\n",
      "Erro relativo em b = divisao impossível -> Sem Erro Relativo\n"
     ]
    }
   ],
   "source": [
    "#Respostas exercício 01\n",
    "print(f\"a)  𝑛 = 100000 e 𝑥 = 0.1 : {exercicio01(0.1,1,100000)} \")\n",
    "print(f\"a)  𝑛 = 800000 e 𝑥 = 0.125 : {exercicio01(0.125,1,80000)} \")\n",
    "\n",
    "print(f\"\\nErro absoluto em a = {ErroAbsoluto(0,exercicio01(0.1,1,100000))}\")\n",
    "print(f\"Erro relativo em a = {ErroRelativo(0,exercicio01(0.1,1,100000))}\")\n",
    "print(f\"\\nErro absoluto em b = {ErroAbsoluto(0,exercicio01(0.125,1,80000))}\")\n",
    "print(f\"Erro relativo em b = {ErroRelativo(0,exercicio01(0.125,1,80000))}\")"
   ]
  },
  {
   "attachments": {},
   "cell_type": "markdown",
   "metadata": {},
   "source": [
    "2. O algoritmo a seguir estima a precisão da máquina:\n",
    "\n",
    "    ▪ Passo 1: A=1;s=2\n",
    "\n",
    "    ▪ Passo 2: Enquanto s > 1, faça A=A/2; s=1+A\n",
    "\n",
    "    ▪ Passo 3: Faça Prec=2A e imprima Prec. \n",
    "\n",
    "\n",
    "##### a) Teste este algoritmo usando uma linguagem de programação. Quando for possível, declare as variáveis em precisão simples e dupla e compare."
   ]
  },
  {
   "cell_type": "code",
   "execution_count": 9,
   "metadata": {},
   "outputs": [
    {
     "name": "stdout",
     "output_type": "stream",
     "text": [
      "Precisão da máquina = 2.220446049250313e-16\n"
     ]
    }
   ],
   "source": [
    "def precisao_maquina():\n",
    "    \"\"\"Função que calcula a precisão da máquina\", o número positivo em aritmética de ponto flutuante 𝜀, tal que 1 + 𝜀 >1.\"\"\"\n",
    "    #passo 1\n",
    "    A=1\n",
    "    S=2\n",
    "    #passo 2\n",
    "    while(S>1):\n",
    "        A=A/2\n",
    "        S=1+A\n",
    "    prec=2*A #passo 3\n",
    "    \n",
    "    return prec\n",
    "print(f\"Precisão da máquina = {precisao_maquina()}\")"
   ]
  },
  {
   "attachments": {},
   "cell_type": "markdown",
   "metadata": {},
   "source": [
    "▪ b) Interprete o passo 3 do algoritmo, isto é, por que a aproximação para Prec é escolhida como sendo o dobro do último valor de A obtido no passo 2?\n",
    "#####  R = Isso ocorre por uma questão algoritmica, pra compensar a divisão por 2 que ocorre no while, que testa a capacidade da mantissa da máquina "
   ]
  },
  {
   "attachments": {},
   "cell_type": "markdown",
   "metadata": {},
   "source": [
    "▪ c) Na definição de precisão da máquina, usamos como referência o\n",
    "número 1. Altere o algoritmo acima para que o usuário possa escolher o\n",
    "valor de referência:"
   ]
  },
  {
   "cell_type": "code",
   "execution_count": 10,
   "metadata": {},
   "outputs": [],
   "source": [
    "def precisao_maquina_ref():\n",
    "    \"\"\"Função que calcula a precisão da máquina, o número positivo em aritmética de ponto flutuante 𝜀, tal que 1 + 𝜀 >1. recebendo como parâmetro o número de referência da precisão\"\"\"\n",
    "    ref=int(input(\"Insira o valor de referência da precisão: \"))\n",
    "   #passo 1\n",
    "    A=1\n",
    "    S=ref+A\n",
    "    #passo 2\n",
    "    while(S>ref):\n",
    "        A=A/2\n",
    "        S=ref+A\n",
    "    prec=2*A #passo 3\n",
    "    return prec\n",
    "    #print(f\"Precisão da máquina: {prec}\")"
   ]
  },
  {
   "attachments": {},
   "cell_type": "markdown",
   "metadata": {},
   "source": [
    "▪ C.1) Teste o algoritmo para os valores 10, 17, 100, 184, 1000, 1575, 10000, 17893."
   ]
  },
  {
   "cell_type": "code",
   "execution_count": null,
   "metadata": {},
   "outputs": [
    {
     "name": "stdout",
     "output_type": "stream",
     "text": [
      "valor 10 = 1.7763568394002505e-15\n",
      "valor 17 = 3.552713678800501e-15\n",
      "valor 100 = 1.4210854715202004e-14\n",
      "valor 184 = 2.842170943040401e-14\n",
      "valor 1000 = 1.1368683772161603e-13\n",
      "valor 1575 = 2.2737367544323206e-13\n",
      "valor 10000 = 1.8189894035458565e-12\n",
      "valor 17893 = 3.637978807091713e-12\n"
     ]
    }
   ],
   "source": [
    "print(f\"valor 10 = {precisao_maquina_ref()}\")\n",
    "print(f\"valor 17 = {precisao_maquina_ref()}\")\n",
    "print(f\"valor 100 = {precisao_maquina_ref()}\")\n",
    "print(f\"valor 184 = {precisao_maquina_ref()}\")\n",
    "print(f\"valor 1000 = {precisao_maquina_ref()}\")\n",
    "print(f\"valor 1575 = {precisao_maquina_ref()}\")\n",
    "print(f\"valor 10000 = {precisao_maquina_ref()}\")\n",
    "print(f\"valor 17893 = {precisao_maquina_ref()}\")"
   ]
  },
  {
   "attachments": {},
   "cell_type": "markdown",
   "metadata": {},
   "source": [
    "▪ C.2) O valor de precisão se altera? Se sim, quanto e cada caso? Por que isso ocorre?\n",
    "##### R= sim, em todos os casos, pra cada referência uma precisão diferente. Pois em cada caso o algoritmo busca chegar no menor valor mais próximo da referência passada, no caso dessa ser 1, a máquiná busca valor 0 da máquina mais próximo de 1, pra medir dessa forma a precisão dela. Por isso pra cada referência um valor diferente."
   ]
  },
  {
   "attachments": {},
   "cell_type": "markdown",
   "metadata": {},
   "source": [
    "3. Escreva um algoritmo que calcula a 𝑒 𝑥 pela série de Taylor (abaixo) com 𝑛 termos. Na qual 𝑛 e 𝑥 são entradas do usuário\n",
    "\n",
    "![Série de Taylor](resources\\Serie_De_Taylor-Slide03.png)\n"
   ]
  },
  {
   "cell_type": "code",
   "execution_count": 11,
   "metadata": {},
   "outputs": [],
   "source": [
    "import math\n",
    "def SerieDeTaylor(X=1,N=1):\n",
    "    \"\"\"Função que calcula o valor da série de taylor recebendo X e N como parâmetro\n",
    "    Série de taylor: e^x = somatório de X**k/k! N vezes\"\"\"\n",
    "    if X <0:\n",
    "        y=-X\n",
    "        return 1/math.exp(y)\n",
    "    result=0.0\n",
    "    for k in range(0,N+1):\n",
    "        SAux=X**k/math.factorial(k)\n",
    "        #somatório\n",
    "        result+=SAux\n",
    "    return(result)\n",
    "\n",
    "def ExercicioSerieTaylor():\n",
    "    \"\"\"Exercício pra receber os parâmetros X e N da série de taylor do usuário e mostrar o resultado\"\"\"\n",
    "    print(\"{:#^60}\".format(\"\\nSérie de Taylor\\n\"))\n",
    "    X=int(input(\"Insira o valor de X da série de taylor: \"))\n",
    "    N = int(input(\"Insira o valor de N da série de taylor: \"))\n",
    "    print(f\"Para X = {X} e N = {N}, o cálculo da série de taylor é {SerieDeTaylor(X,N)}\")\n"
   ]
  },
  {
   "cell_type": "code",
   "execution_count": 12,
   "metadata": {},
   "outputs": [
    {
     "name": "stdout",
     "output_type": "stream",
     "text": [
      "#####################\n",
      "Série de Taylor\n",
      "######################\n",
      "Para X = 2 e N = 50, o cálculo da série de taylor é 7.389056098930649\n"
     ]
    }
   ],
   "source": [
    "ExercicioSerieTaylor()"
   ]
  },
  {
   "attachments": {},
   "cell_type": "markdown",
   "metadata": {},
   "source": [
    "- Teste seu programa para vários valores de x (próximo e distante de 0) e para vários valores de n. Faça uma análise desses resultados.\n"
   ]
  },
  {
   "cell_type": "code",
   "execution_count": null,
   "metadata": {},
   "outputs": [
    {
     "name": "stdout",
     "output_type": "stream",
     "text": [
      "#####################\n",
      "Série de Taylor\n",
      "######################\n",
      "Para X = 2 e N = 5, o cálculo da série de taylor é 7.266666666666667\n",
      "#####################\n",
      "Série de Taylor\n",
      "######################\n",
      "Para X = 2 e N = 10, o cálculo da série de taylor é 7.388994708994708\n",
      "#####################\n",
      "Série de Taylor\n",
      "######################\n",
      "Para X = 50 e N = 50, o cálculo da série de taylor é 2.786865758774142e+21\n",
      "#####################\n",
      "Série de Taylor\n",
      "######################\n",
      "Para X = 2 e N = 50, o cálculo da série de taylor é 7.389056098930649\n",
      "#####################\n",
      "Série de Taylor\n",
      "######################\n",
      "Para X = -1 e N = 50, o cálculo da série de taylor é 0.36787944117144233\n",
      "#####################\n",
      "Série de Taylor\n",
      "######################\n",
      "Para X = 1 e N = 50, o cálculo da série de taylor é 2.7182818284590455\n",
      "#####################\n",
      "Série de Taylor\n",
      "######################\n",
      "Para X = 1000 e N = 10, o cálculo da série de taylor é 2.7835392555952153e+23\n",
      "#####################\n",
      "Série de Taylor\n",
      "######################\n"
     ]
    },
    {
     "ename": "OverflowError",
     "evalue": "integer division result too large for a float",
     "output_type": "error",
     "traceback": [
      "\u001b[1;31m---------------------------------------------------------------------------\u001b[0m",
      "\u001b[1;31mOverflowError\u001b[0m                             Traceback (most recent call last)",
      "Cell \u001b[1;32mIn[188], line 3\u001b[0m\n\u001b[0;32m      1\u001b[0m Continue\u001b[39m=\u001b[39m\u001b[39m\"\u001b[39m\u001b[39mS\u001b[39m\u001b[39m\"\u001b[39m\n\u001b[0;32m      2\u001b[0m \u001b[39mwhile\u001b[39;00m (Continue \u001b[39m!=\u001b[39m\u001b[39m\"\u001b[39m\u001b[39mN\u001b[39m\u001b[39m\"\u001b[39m):\n\u001b[1;32m----> 3\u001b[0m     ExercicioSerieTaylor()\n\u001b[0;32m      4\u001b[0m     Continue \u001b[39m=\u001b[39m (\u001b[39minput\u001b[39m(\u001b[39m\"\u001b[39m\u001b[39mDeseja Continuar? [S/N]\u001b[39m\u001b[39m\"\u001b[39m))\u001b[39m.\u001b[39mstrip()\u001b[39m.\u001b[39mupper()\n",
      "Cell \u001b[1;32mIn[184], line 17\u001b[0m, in \u001b[0;36mExercicioSerieTaylor\u001b[1;34m()\u001b[0m\n\u001b[0;32m     15\u001b[0m X\u001b[39m=\u001b[39m\u001b[39mint\u001b[39m(\u001b[39minput\u001b[39m(\u001b[39m\"\u001b[39m\u001b[39mInsira o valor de X da série de taylor: \u001b[39m\u001b[39m\"\u001b[39m))\n\u001b[0;32m     16\u001b[0m N \u001b[39m=\u001b[39m \u001b[39mint\u001b[39m(\u001b[39minput\u001b[39m(\u001b[39m\"\u001b[39m\u001b[39mInsira o valor de N da série de taylor: \u001b[39m\u001b[39m\"\u001b[39m))\n\u001b[1;32m---> 17\u001b[0m \u001b[39mprint\u001b[39m(\u001b[39mf\u001b[39m\u001b[39m\"\u001b[39m\u001b[39mPara X = \u001b[39m\u001b[39m{\u001b[39;00mX\u001b[39m}\u001b[39;00m\u001b[39m e N = \u001b[39m\u001b[39m{\u001b[39;00mN\u001b[39m}\u001b[39;00m\u001b[39m, o cálculo da série de taylor é \u001b[39m\u001b[39m{\u001b[39;00mSerieDeTaylor(X,N)\u001b[39m}\u001b[39;00m\u001b[39m\"\u001b[39m)\n",
      "Cell \u001b[1;32mIn[184], line 8\u001b[0m, in \u001b[0;36mSerieDeTaylor\u001b[1;34m(X, N)\u001b[0m\n\u001b[0;32m      6\u001b[0m result\u001b[39m=\u001b[39m\u001b[39m0.0\u001b[39m\n\u001b[0;32m      7\u001b[0m \u001b[39mfor\u001b[39;00m k \u001b[39min\u001b[39;00m \u001b[39mrange\u001b[39m(\u001b[39m0\u001b[39m,N\u001b[39m+\u001b[39m\u001b[39m1\u001b[39m):\n\u001b[1;32m----> 8\u001b[0m     SAux\u001b[39m=\u001b[39mX\u001b[39m*\u001b[39;49m\u001b[39m*\u001b[39;49mk\u001b[39m/\u001b[39;49mmath\u001b[39m.\u001b[39;49mfactorial(k)\n\u001b[0;32m      9\u001b[0m     \u001b[39m#somatório\u001b[39;00m\n\u001b[0;32m     10\u001b[0m     result\u001b[39m+\u001b[39m\u001b[39m=\u001b[39mSAux\n",
      "\u001b[1;31mOverflowError\u001b[0m: integer division result too large for a float"
     ]
    }
   ],
   "source": [
    "Continue=\"S\"\n",
    "while (Continue !=\"N\"):\n",
    "    ExercicioSerieTaylor()\n",
    "    Continue = (input(\"Deseja Continuar? [S/N]\")).strip().upper()"
   ]
  },
  {
   "attachments": {},
   "cell_type": "markdown",
   "metadata": {},
   "source": [
    "- **Resposta análise = Pode se oberver que quanto maior o valor de N maior a precisão dos resultados e melhor a aproximação. Contudo, pra números muito altos como X = 1000 e N = 1000 pode ocorrer overflow.**"
   ]
  },
  {
   "attachments": {},
   "cell_type": "markdown",
   "metadata": {},
   "source": [
    "- O cálculo de 𝑘! necessário na série de Taylor pode ser feito de modo a evitar a ocorrência de overflow. \n",
    "- Analise o cálculo de cada termo de 𝑥**𝑘/𝑘!\n",
    "- Tente misturar o cálculo do numerador e do denominador e realizar divisões intermediárias.Implemente de modo que não ocorra mais overflow.\n"
   ]
  },
  {
   "cell_type": "code",
   "execution_count": 13,
   "metadata": {},
   "outputs": [
    {
     "name": "stdout",
     "output_type": "stream",
     "text": [
      "\n",
      " \u001b[31mNúmero máximo de interações (valor de N máximo que a máquina foi capaz de calcular) = 347\u001b[m\n",
      " Máximo Valor Aproximado para X = 1000 e N = 345 ->  6.299633567138809e+307\n"
     ]
    }
   ],
   "source": [
    "import math\n",
    "def SerieDeTaylor_NoOverflow(X=1,N=1):\n",
    "    \"\"\"Função que calcula a série de Taylor recebendo X e N como parâmetros e evitando a ocorrência de Overflow\"\"\"\n",
    "    if X <0:\n",
    "        y=-X\n",
    "        return 1/math.exp(y)\n",
    "    result=0.0\n",
    "    try:\n",
    "        for k in range(0,N+1):\n",
    "            Xk = X**k\n",
    "            K_factor=math.factorial(k)\n",
    "            #print(Xk)\n",
    "            #print(K_factor)\n",
    "            SAux=Xk/K_factor\n",
    "            #somatório\n",
    "            result+=SAux\n",
    "        return(result)\n",
    "    except:\n",
    "        print(f\"\\n \\033[31mNúmero máximo de interações (valor de N máximo que a máquina foi capaz de calcular) = {k}\\033[m\")\n",
    "        print(f\" Máximo Valor Aproximado para X = {X} e N = {k-2} -> \",SerieDeTaylor_NoOverflow(X,k-2))\n",
    "    \n",
    "SerieDeTaylor_NoOverflow(1000,347)"
   ]
  },
  {
   "attachments": {},
   "cell_type": "markdown",
   "metadata": {},
   "source": [
    "- Uma vez que não ocorre mais overflow. Qual critério de parada é melhor se adotar para 𝑛?\n",
    "\n",
    "**R = duas unidades a menos que o máximo de iterações que a máquina consegue calcular, pois o máximo dá overflow e pra uma unidade a menos o resultado é infinito.**"
   ]
  }
 ],
 "metadata": {
  "kernelspec": {
   "display_name": "Python 3",
   "language": "python",
   "name": "python3"
  },
  "language_info": {
   "codemirror_mode": {
    "name": "ipython",
    "version": 3
   },
   "file_extension": ".py",
   "mimetype": "text/x-python",
   "name": "python",
   "nbconvert_exporter": "python",
   "pygments_lexer": "ipython3",
   "version": "3.10.10"
  },
  "orig_nbformat": 4
 },
 "nbformat": 4,
 "nbformat_minor": 2
}
