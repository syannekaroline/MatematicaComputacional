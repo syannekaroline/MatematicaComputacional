{
 "cells": [
  {
   "attachments": {},
   "cell_type": "markdown",
   "metadata": {},
   "source": [
    "### Exercício Prático 07 - Integração numérica - Syanne Tavares"
   ]
  },
  {
   "attachments": {},
   "cell_type": "markdown",
   "metadata": {},
   "source": [
    "### 1 - Escolha 3 funções ao acaso, sendo uma polinomial, outra exponencial e outra senoidal."
   ]
  },
  {
   "cell_type": "code",
   "execution_count": 35,
   "metadata": {},
   "outputs": [],
   "source": [
    "import numpy as np\n",
    "import math\n",
    "from numpy.linalg import solve\n",
    "import matplotlib.pyplot as plt\n",
    "import plotly.graph_objects as go\n",
    "\n",
    "f = lambda x : math.exp(x)\n",
    "f3 = lambda x: math.sin(x) * math.cos(x)"
   ]
  },
  {
   "attachments": {},
   "cell_type": "markdown",
   "metadata": {},
   "source": [
    "#### 2 - Calcule a integral numérica dessas funções em 5 pontos (𝑥1 − 𝑥0 ≈ 0) igualmente espaçados;"
   ]
  },
  {
   "attachments": {},
   "cell_type": "markdown",
   "metadata": {},
   "source": [
    "3 -Utilize esses 5 pontos para fazer um ajuste de curva e\n",
    "encontrar a integral aproximada para qualquer ponto por meio\n",
    "da curva encontrada.\n",
    "\n",
    "4- Mostre a resposta visualmente por meio de um gráfico."
   ]
  },
  {
   "attachments": {},
   "cell_type": "markdown",
   "metadata": {},
   "source": [
    "##### Calculo das integrais\n",
    "1- Regra do trapézio"
   ]
  },
  {
   "cell_type": "code",
   "execution_count": 36,
   "metadata": {},
   "outputs": [],
   "source": [
    "def trapezio(f,a,b):\n",
    "  \"\"\"Função que calcula a regra do trapézio/ integral de uma função f no intervalo [a,b].\"\"\"\n",
    "  h = b - a\n",
    "  b = (f(a) + f(b))/2\n",
    "  y = b*h \n",
    "  return y"
   ]
  },
  {
   "cell_type": "code",
   "execution_count": 37,
   "metadata": {},
   "outputs": [
    {
     "name": "stdout",
     "output_type": "stream",
     "text": [
      "e^1 =  2.718281828459045\n",
      " Integral de f no intervalo  [0 , 1] =  1.8591409142295225\n"
     ]
    }
   ],
   "source": [
    "print(\"e^1 = \",f(1))\n",
    "x = [0, 1]\n",
    "print(f\" Integral de f no intervalo  [{x[0]} , {x[1]}] = \",trapezio(f,0,1))"
   ]
  },
  {
   "attachments": {},
   "cell_type": "markdown",
   "metadata": {},
   "source": [
    "2- Regra do trapézio repetida"
   ]
  },
  {
   "cell_type": "code",
   "execution_count": 38,
   "metadata": {},
   "outputs": [],
   "source": [
    "# a = inicio, b = fim, m = iteração\n",
    "def trapezioR(f, LimInferior, LimSuperior, N_Iteracoes):\n",
    "  \"\"\"Função que calcula a regra dos trapézios/ Integral de uma função f no intervalo recebido por parâmetro.\\n\n",
    "  Parâmetros:\\n\n",
    "  f -> Função pro calculo da integral.\\n\n",
    "  LimInferior -> limite inferior da integral\\n\n",
    "  LimSuperior -> limite superior da integral.\\n\n",
    "  N_Interações -> número de iterações.\"\"\"\n",
    "\n",
    "  H = LimSuperior-LimInferior\n",
    "  h = H/N_Iteracoes\n",
    "  sum = f(LimInferior)+f(LimSuperior)\n",
    "  sum_aux= 0\n",
    "  for i in range(1, N_Iteracoes):\n",
    "    sum_aux+=f(LimInferior+i*h)\n",
    "  sum += 2*sum_aux\n",
    "  sum*=h/2\n",
    "  return sum"
   ]
  },
  {
   "cell_type": "code",
   "execution_count": 39,
   "metadata": {},
   "outputs": [
    {
     "name": "stdout",
     "output_type": "stream",
     "text": [
      "e^1 =  2.718281828459045\n",
      " Integral de f no intervalo  [0 , 1] =  1.7182819716491962\n"
     ]
    }
   ],
   "source": [
    "\n",
    "print(\"e^1 = \",f(1))\n",
    "x = [0, 1]\n",
    "print(f\" Integral de f no intervalo  [{x[0]} , {x[1]}] = \",trapezioR(f,x[0],x[1],1000))"
   ]
  },
  {
   "cell_type": "code",
   "execution_count": 40,
   "metadata": {},
   "outputs": [],
   "source": [
    "def GetIntegral(f, limInf, LimSup, N_pontos):\n",
    "  \"\"\"Função que calcula a integral em pontos igualmente espaçados.\\n\n",
    "  Parâmetros:\\n\n",
    "  f -> função pro calculo da integral.\\n\n",
    "  limInf -> limite inferior pro calculo da integral.\\n\n",
    "  limSup -> limite superior pro calculo da integral.\\n\n",
    "  N_pontos -> Número de pontos entre o intervalo.\\n\n",
    "  Retorna uma lista com os valores da integral pros pontos x.\\n\n",
    "  \"\"\"\n",
    "\n",
    "  p = 1e-10\n",
    "  x = np.linspace(limInf, LimSup, N_pontos)\n",
    "  result = []\n",
    "  for e in x:\n",
    "    result.append(trapezioR(f, e, e+p, 10000))\n",
    "\n",
    "  return result"
   ]
  },
  {
   "attachments": {},
   "cell_type": "markdown",
   "metadata": {},
   "source": [
    "### Código do ajuste de curva"
   ]
  },
  {
   "cell_type": "code",
   "execution_count": 41,
   "metadata": {},
   "outputs": [],
   "source": [
    "class MQ:\n",
    "  def __init__(self):\n",
    "    self.alfas = []\n",
    "\n",
    "  def fit_exp(self, x, y,printValues=False):\n",
    "    self.alfas=[]\n",
    "    z = np.log(y)# calcula o vetor z ln(y)\n",
    "    # linearização\n",
    "    self.fit(x, z, [lambda x:1, lambda x:x]) # calcula os valores de alfa com vetor z g1=1 e g2 = x\n",
    "    self.alfas[0] = math.e**self.alfas[0] # calcula o a1\n",
    "\n",
    "    if printValues:\n",
    "      print(\"Valores do sistema linear Criado:\")\n",
    "      print(f\"Alfas: {self.alfas}\")\n",
    "\n",
    "    self.alfas[1] = -self.alfas[1] # calcula o a2\n",
    "\n",
    "  def fit(self,x,y,G,printValues=False):\n",
    "    \"\"\"método que calcula os valores deo vetor de alfas.\\n\n",
    "      Parâmetros:\\n\n",
    "      x= vetor de valores de xi tabelados\\n\n",
    "      y= vetor de valores de yi tabelados\\n\n",
    "      G= Vetor com as n funções g1(x),...gn(x), ex: [lambda x:1, lambda x:x,lambda x:x**2].\\n\\n \n",
    "      \n",
    "      Retorno:\\n\n",
    "      calcula os valores de alfas\n",
    "      printa os valores dos alfas calculados.\"\"\"\n",
    "    self.G=G\n",
    "    A=[]\n",
    "    B=[]\n",
    "    j=0\n",
    "    for g_lin in G:\n",
    "      b=0\n",
    "      for i in range(0,len(x)):\n",
    "        b+=g_lin(x[i])*y[i]\n",
    "      B.append(b)\n",
    "      A.append([])\n",
    "      for g_col in G:\n",
    "        a=0\n",
    "        for i in range(0,len(x)):\n",
    "          a+=g_lin(x[i])*g_col(x[i])\n",
    "        A[j].append(a)\n",
    "      j+=1\n",
    "\n",
    "    mat = np.append(A, np.array([B]).T,axis=1)\n",
    "    #Valores do sistema linear Criado.\n",
    "    self.alfas = solve(A, B)\n",
    "    \n",
    "    if printValues:\n",
    "      print(\"Valores do sistema linear Criado:\")\n",
    "      print('A: ', A)\n",
    "      print('B: ', B)\n",
    "      print('Matriz:\\n', mat)\n",
    "      print(f\"Alfas: {self.alfas}\")\n",
    "\n",
    "  def calc(self, x):\n",
    "    \"\"\"Calcula o somatório do valor de x aplicado em cada função vo vetor de funções g.\"\"\"\n",
    "    s = 0\n",
    "    # print(self.alfas)\n",
    "    for i in range(0,len(self.G)):\n",
    "      s+=self.alfas[i]*self.G[i](x)\n",
    "    return s\n",
    "  \n",
    "  def calc_exp(self, x):\n",
    "    \"\"\"retorna o valor da função phi no ponto x para casos não lineares.\"\"\"\n",
    "    # calculo da phi pra um ponto x\n",
    "    return self.alfas[0]*(math.e**(-self.alfas[1]*x))\n",
    "  \n",
    "  def plotPontos(self,x,y):\n",
    "    \"\"\"Método que plota o gráfico dos pontos tabelados\"\"\"\n",
    "    plt.plot(x, y,'ro')# plota como pontos\n",
    "    plt.title('Gráfico dos pontos tabelados')\n",
    "\n",
    "    plt.grid()\n",
    "    plt.show()\n",
    "\n",
    "  def PrintAjusteCurva(self,x,y,Linear=True,NaoLinear=False):\n",
    "    \"\"\"Método que mostra o gráfico do ajuste de curva.Os alfas já devem ter sido calculados com o método fit.\"\"\"\n",
    "    x_line = np.linspace(min(x)-0.0001, max(x)+0.0001, 100)\n",
    "    ###############\n",
    "    graph = go.Figure()\n",
    "    graph.update_layout(\n",
    "      title=\"Ajuste De Curva\",\n",
    "      xaxis_title=\"X\",\n",
    "      yaxis_title=\"Y\",\n",
    "      font=dict(\n",
    "          family=\"Courier New, monospace\",\n",
    "          size=18,\n",
    "          color=\"RebeccaPurple\"\n",
    "      ),\n",
    "      width=800, \n",
    "      height=500\n",
    "    )\n",
    "    ##############\n",
    "    if Linear:\n",
    "      y_line = list(map(lambda x: self.calc(x), x_line))\n",
    "      plt.plot(x_line,y_line,'g-',label= 'Função linear')\n",
    "      graph.add_trace(go.Scatter(x=x_line, y=y_line,mode='lines', name='Linear'))\n",
    "    plt.title('Gráfico Ajuste de Curva')\n",
    "\n",
    "    if NaoLinear:\n",
    "      self.fit_exp(x, y)\n",
    "      y_nlinear = list(map(lambda x: self.calc_exp(x), x_line))\n",
    "      plt.plot(x_line,y_nlinear,'b-',label= 'Função Não linear')\n",
    "      graph.add_trace(go.Scatter(x=x_line, y=y_nlinear,mode='lines', name='Exponecial'))\n",
    "    plt.plot(x, y,'ro')# plota como pontos \n",
    "    plt.legend()\n",
    "    plt.grid()\n",
    "    plt.show()\n",
    "\n",
    "    \n",
    "    graph.add_trace(go.Scatter(x=x, y=y,mode='markers', name='(x,y)'))\n",
    "    graph.show()"
   ]
  },
  {
   "attachments": {},
   "cell_type": "markdown",
   "metadata": {},
   "source": [
    "## f1 = lambda x: 3*x**3 - 3*x+1"
   ]
  },
  {
   "cell_type": "code",
   "execution_count": 42,
   "metadata": {},
   "outputs": [
    {
     "name": "stdout",
     "output_type": "stream",
     "text": [
      "[1.   1.75 2.5  3.25 4.  ]\n",
      "[1.0000000830403712e-10, 1.1828125979891589e-09, 4.037500334330498e-09, 9.423438280159028e-09, 1.8100001498305675e-08]\n"
     ]
    },
    {
     "data": {
      "image/png": "[encoded data removed]",
      "text/plain": [
       "<Figure size 640x480 with 1 Axes>"
      ]
     },
     "metadata": {},
     "output_type": "display_data"
    }
   ],
   "source": [
    "f1 = lambda x: 3*x**3 - 3*x+1\n",
    "X1 = np.linspace(1,4,5)\n",
    "Y1 = GetIntegral(f1,1,4,5)\n",
    "\n",
    "print(X1)\n",
    "print(Y1)\n",
    "\n",
    "###### Calulando o auste de curva \n",
    "mq = MQ()\n",
    "\n",
    "mq.plotPontos(X1,Y1)"
   ]
  },
  {
   "cell_type": "code",
   "execution_count": 43,
   "metadata": {},
   "outputs": [
    {
     "data": {
      "image/png": "[encoded data removed]",
      "text/plain": [
       "<Figure size 640x480 with 1 Axes>"
      ]
     },
     "metadata": {},
     "output_type": "display_data"
    },
    {
     "data": {
      "application/vnd.plotly.v1+json": {
       "config": {
        "plotlyServerURL": "https://plot.ly"
       },
       "data": [
        {
         "mode": "lines",
         "name": "Exponecial",
         "type": "scatter",
         "x": [
          0.9999,
          1.0302050505050504,
          1.060510101010101,
          1.0908151515151516,
          1.121120202020202,
          1.1514252525252524,
          1.181730303030303,
          1.2120353535353536,
          1.242340404040404,
          1.2726454545454544,
          1.302950505050505,
          1.3332555555555556,
          1.363560606060606,
          1.3938656565656564,
          1.424170707070707,
          1.4544757575757576,
          1.484780808080808,
          1.5150858585858584,
          1.545390909090909,
          1.5756959595959596,
          1.60600101010101,
          1.6363060606060604,
          1.666611111111111,
          1.6969161616161617,
          1.727221212121212,
          1.7575262626262624,
          1.787831313131313,
          1.8181363636363637,
          1.848441414141414,
          1.8787464646464644,
          1.909051515151515,
          1.9393565656565657,
          1.969661616161616,
          1.9999666666666667,
          2.030271717171717,
          2.0605767676767677,
          2.090881818181818,
          2.121186868686869,
          2.151491919191919,
          2.1817969696969692,
          2.2121020202020203,
          2.2424070707070705,
          2.272712121212121,
          2.3030171717171717,
          2.333322222222222,
          2.363627272727273,
          2.393932323232323,
          2.4242373737373732,
          2.4545424242424243,
          2.4848474747474745,
          2.515152525252525,
          2.5454575757575757,
          2.575762626262626,
          2.606067676767677,
          2.636372727272727,
          2.6666777777777773,
          2.6969828282828283,
          2.7272878787878785,
          2.757592929292929,
          2.7878979797979797,
          2.81820303030303,
          2.848508080808081,
          2.878813131313131,
          2.9091181818181813,
          2.9394232323232323,
          2.9697282828282825,
          3.0000333333333336,
          3.0303383838383837,
          3.060643434343434,
          3.090948484848485,
          3.121253535353535,
          3.1515585858585853,
          3.1818636363636363,
          3.2121686868686865,
          3.2424737373737376,
          3.2727787878787877,
          3.303083838383838,
          3.333388888888889,
          3.363693939393939,
          3.3939989898989893,
          3.4243040404040404,
          3.4546090909090905,
          3.4849141414141416,
          3.5152191919191917,
          3.545524242424242,
          3.575829292929293,
          3.606134343434343,
          3.6364393939393933,
          3.6667444444444444,
          3.6970494949494945,
          3.7273545454545456,
          3.7576595959595958,
          3.787964646464646,
          3.818269696969697,
          3.848574747474747,
          3.8788797979797973,
          3.9091848484848484,
          3.9394898989898985,
          3.9697949494949496,
          4.0001
         ],
         "y": [
          1.9896696177751856e-10,
          2.0925116486714964e-10,
          2.2006693778246396e-10,
          2.3144175630132327e-10,
          2.434045163694255e-10,
          2.5598560750593123e-10,
          2.6921699000327947e-10,
          2.8313227611730686e-10,
          2.9776681545392206e-10,
          3.1315778476924503e-10,
          3.293442824113367e-10,
          3.4636742764342984e-10,
          3.6427046510098136e-10,
          3.8309887464789827e-10,
          4.029004869110117e-10,
          4.2372560478629666e-10,
          4.456271312255039e-10,
          4.686607036278272e-10,
          4.928848351780062e-10,
          5.183610634899104e-10,
          5.451541069332151e-10,
          5.73332029040287e-10,
          6.029664114109327e-10,
          6.341325355542466e-10,
          6.669095741294996e-10,
          7.013807920718851e-10,
          7.376337581140528e-10,
          7.757605672407627e-10,
          8.158580746417772e-10,
          8.580281417573094e-10,
          9.02377895041063e-10,
          9.490199980982186e-10,
          9.980729378896843e-10,
          1.0496613257296704e-9,
          1.1039162138412255e-9,
          1.160975428273894e-9,
          1.2209839190292123e-9,
          1.2840941282835068e-9,
          1.3504663776433626e-9,
          1.4202692754175795e-9,
          1.4936801449401815e-9,
          1.570885475032577e-9,
          1.6520813937492298e-9,
          1.737474166610265e-9,
          1.8272807205867376e-9,
          1.921729195169643e-9,
          2.021059521922569e-9,
          2.1255240339902844e-9,
          2.235388107111587e-9,
          2.350930833764805e-9,
          2.472445732158581e-9,
          2.600241491868894e-9,
          2.7346427580166193e-9,
          2.875990955977646e-9,
          3.024645158720557e-9,
          3.180982998975332e-9,
          3.3454016285501593e-9,
          3.518318727233423e-9,
          3.7001735638438357e-9,
          3.891428112124094e-9,
          4.092568224312839e-9,
          4.304104865376231e-9,
          4.526575411034429e-9,
          4.760545012880499e-9,
          5.006608034059558e-9,
          5.265389559155271e-9,
          5.537546982119431e-9,
          5.8237716762783e-9,
          6.124790750658384e-9,
          6.441368897093066e-9,
          6.774310332802434e-9,
          7.124460843381307e-9,
          7.492709931385117e-9,
          7.879993075971822e-9,
          8.287294109340364e-9,
          8.715647716002258e-9,
          9.166142061235681e-9,
          9.639921555398968e-9,
          1.0138189761125961e-8,
          1.0662212450788492e-8,
          1.1213320821992931e-8,
          1.179291487927925e-8,
          1.2402466990613484e-8,
          1.3043525627707895e-8,
          1.3717719299671138e-8,
          1.4426760689980569e-8,
          1.5172451007286455e-8,
          1.5956684561100714e-8,
          1.6781453573993626e-8,
          1.764885324252325e-8,
          1.856108705975448e-8,
          1.952047241288805e-8,
          2.0529446470220035e-8,
          2.1590572372386333e-8,
          2.2706545743620104e-8,
          2.388020153956327e-8,
          2.511452124902743e-8,
          2.6412640467999376e-8,
          2.7777856865131976e-8,
          2.921363855895484e-8
         ]
        },
        {
         "mode": "markers",
         "name": "(x,y)",
         "type": "scatter",
         "x": [
          1,
          1.75,
          2.5,
          3.25,
          4
         ],
         "y": [
          1.0000000830403712e-10,
          1.1828125979891589e-9,
          4.037500334330498e-9,
          9.423438280159028e-9,
          1.8100001498305675e-8
         ]
        }
       ],
       "layout": {
        "font": {
         "color": "RebeccaPurple",
         "family": "Courier New, monospace",
         "size": 18
        },
        "height": 500,
        "template": {
         "data": {
          "bar": [
           {
            "error_x": {
             "color": "#2a3f5f"
            },
            "error_y": {
             "color": "#2a3f5f"
            },
            "marker": {
             "line": {
              "color": "#E5ECF6",
              "width": 0.5
             },
             "pattern": {
              "fillmode": "overlay",
              "size": 10,
              "solidity": 0.2
             }
            },
            "type": "bar"
           }
          ],
          "barpolar": [
           {
            "marker": {
             "line": {
              "color": "#E5ECF6",
              "width": 0.5
             },
             "pattern": {
              "fillmode": "overlay",
              "size": 10,
              "solidity": 0.2
             }
            },
            "type": "barpolar"
           }
          ],
          "carpet": [
           {
            "aaxis": {
             "endlinecolor": "#2a3f5f",
             "gridcolor": "white",
             "linecolor": "white",
             "minorgridcolor": "white",
             "startlinecolor": "#2a3f5f"
            },
            "baxis": {
             "endlinecolor": "#2a3f5f",
             "gridcolor": "white",
             "linecolor": "white",
             "minorgridcolor": "white",
             "startlinecolor": "#2a3f5f"
            },
            "type": "carpet"
           }
          ],
          "choropleth": [
           {
            "colorbar": {
             "outlinewidth": 0,
             "ticks": ""
            },
            "type": "choropleth"
           }
          ],
          "contour": [
           {
            "colorbar": {
             "outlinewidth": 0,
             "ticks": ""
            },
            "colorscale": [
             [
              0,
              "#0d0887"
             ],
             [
              0.1111111111111111,
              "#46039f"
             ],
             [
              0.2222222222222222,
              "#7201a8"
             ],
             [
              0.3333333333333333,
              "#9c179e"
             ],
             [
              0.4444444444444444,
              "#bd3786"
             ],
             [
              0.5555555555555556,
              "#d8576b"
             ],
             [
              0.6666666666666666,
              "#ed7953"
             ],
             [
              0.7777777777777778,
              "#fb9f3a"
             ],
             [
              0.8888888888888888,
              "#fdca26"
             ],
             [
              1,
              "#f0f921"
             ]
            ],
            "type": "contour"
           }
          ],
          "contourcarpet": [
           {
            "colorbar": {
             "outlinewidth": 0,
             "ticks": ""
            },
            "type": "contourcarpet"
           }
          ],
          "heatmap": [
           {
            "colorbar": {
             "outlinewidth": 0,
             "ticks": ""
            },
            "colorscale": [
             [
              0,
              "#0d0887"
             ],
             [
              0.1111111111111111,
              "#46039f"
             ],
             [
              0.2222222222222222,
              "#7201a8"
             ],
             [
              0.3333333333333333,
              "#9c179e"
             ],
             [
              0.4444444444444444,
              "#bd3786"
             ],
             [
              0.5555555555555556,
              "#d8576b"
             ],
             [
              0.6666666666666666,
              "#ed7953"
             ],
             [
              0.7777777777777778,
              "#fb9f3a"
             ],
             [
              0.8888888888888888,
              "#fdca26"
             ],
             [
              1,
              "#f0f921"
             ]
            ],
            "type": "heatmap"
           }
          ],
          "heatmapgl": [
           {
            "colorbar": {
             "outlinewidth": 0,
             "ticks": ""
            },
            "colorscale": [
             [
              0,
              "#0d0887"
             ],
             [
              0.1111111111111111,
              "#46039f"
             ],
             [
              0.2222222222222222,
              "#7201a8"
             ],
             [
              0.3333333333333333,
              "#9c179e"
             ],
             [
              0.4444444444444444,
              "#bd3786"
             ],
             [
              0.5555555555555556,
              "#d8576b"
             ],
             [
              0.6666666666666666,
              "#ed7953"
             ],
             [
              0.7777777777777778,
              "#fb9f3a"
             ],
             [
              0.8888888888888888,
              "#fdca26"
             ],
             [
              1,
              "#f0f921"
             ]
            ],
            "type": "heatmapgl"
           }
          ],
          "histogram": [
           {
            "marker": {
             "pattern": {
              "fillmode": "overlay",
              "size": 10,
              "solidity": 0.2
             }
            },
            "type": "histogram"
           }
          ],
          "histogram2d": [
           {
            "colorbar": {
             "outlinewidth": 0,
             "ticks": ""
            },
            "colorscale": [
             [
              0,
              "#0d0887"
             ],
             [
              0.1111111111111111,
              "#46039f"
             ],
             [
              0.2222222222222222,
              "#7201a8"
             ],
             [
              0.3333333333333333,
              "#9c179e"
             ],
             [
              0.4444444444444444,
              "#bd3786"
             ],
             [
              0.5555555555555556,
              "#d8576b"
             ],
             [
              0.6666666666666666,
              "#ed7953"
             ],
             [
              0.7777777777777778,
              "#fb9f3a"
             ],
             [
              0.8888888888888888,
              "#fdca26"
             ],
             [
              1,
              "#f0f921"
             ]
            ],
            "type": "histogram2d"
           }
          ],
          "histogram2dcontour": [
           {
            "colorbar": {
             "outlinewidth": 0,
             "ticks": ""
            },
            "colorscale": [
             [
              0,
              "#0d0887"
             ],
             [
              0.1111111111111111,
              "#46039f"
             ],
             [
              0.2222222222222222,
              "#7201a8"
             ],
             [
              0.3333333333333333,
              "#9c179e"
             ],
             [
              0.4444444444444444,
              "#bd3786"
             ],
             [
              0.5555555555555556,
              "#d8576b"
             ],
             [
              0.6666666666666666,
              "#ed7953"
             ],
             [
              0.7777777777777778,
              "#fb9f3a"
             ],
             [
              0.8888888888888888,
              "#fdca26"
             ],
             [
              1,
              "#f0f921"
             ]
            ],
            "type": "histogram2dcontour"
           }
          ],
          "mesh3d": [
           {
            "colorbar": {
             "outlinewidth": 0,
             "ticks": ""
            },
            "type": "mesh3d"
           }
          ],
          "parcoords": [
           {
            "line": {
             "colorbar": {
              "outlinewidth": 0,
              "ticks": ""
             }
            },
            "type": "parcoords"
           }
          ],
          "pie": [
           {
            "automargin": true,
            "type": "pie"
           }
          ],
          "scatter": [
           {
            "fillpattern": {
             "fillmode": "overlay",
             "size": 10,
             "solidity": 0.2
            },
            "type": "scatter"
           }
          ],
          "scatter3d": [
           {
            "line": {
             "colorbar": {
              "outlinewidth": 0,
              "ticks": ""
             }
            },
            "marker": {
             "colorbar": {
              "outlinewidth": 0,
              "ticks": ""
             }
            },
            "type": "scatter3d"
           }
          ],
          "scattercarpet": [
           {
            "marker": {
             "colorbar": {
              "outlinewidth": 0,
              "ticks": ""
             }
            },
            "type": "scattercarpet"
           }
          ],
          "scattergeo": [
           {
            "marker": {
             "colorbar": {
              "outlinewidth": 0,
              "ticks": ""
             }
            },
            "type": "scattergeo"
           }
          ],
          "scattergl": [
           {
            "marker": {
             "colorbar": {
              "outlinewidth": 0,
              "ticks": ""
             }
            },
            "type": "scattergl"
           }
          ],
          "scattermapbox": [
           {
            "marker": {
             "colorbar": {
              "outlinewidth": 0,
              "ticks": ""
             }
            },
            "type": "scattermapbox"
           }
          ],
          "scatterpolar": [
           {
            "marker": {
             "colorbar": {
              "outlinewidth": 0,
              "ticks": ""
             }
            },
            "type": "scatterpolar"
           }
          ],
          "scatterpolargl": [
           {
            "marker": {
             "colorbar": {
              "outlinewidth": 0,
              "ticks": ""
             }
            },
            "type": "scatterpolargl"
           }
          ],
          "scatterternary": [
           {
            "marker": {
             "colorbar": {
              "outlinewidth": 0,
              "ticks": ""
             }
            },
            "type": "scatterternary"
           }
          ],
          "surface": [
           {
            "colorbar": {
             "outlinewidth": 0,
             "ticks": ""
            },
            "colorscale": [
             [
              0,
              "#0d0887"
             ],
             [
              0.1111111111111111,
              "#46039f"
             ],
             [
              0.2222222222222222,
              "#7201a8"
             ],
             [
              0.3333333333333333,
              "#9c179e"
             ],
             [
              0.4444444444444444,
              "#bd3786"
             ],
             [
              0.5555555555555556,
              "#d8576b"
             ],
             [
              0.6666666666666666,
              "#ed7953"
             ],
             [
              0.7777777777777778,
              "#fb9f3a"
             ],
             [
              0.8888888888888888,
              "#fdca26"
             ],
             [
              1,
              "#f0f921"
             ]
            ],
            "type": "surface"
           }
          ],
          "table": [
           {
            "cells": {
             "fill": {
              "color": "#EBF0F8"
             },
             "line": {
              "color": "white"
             }
            },
            "header": {
             "fill": {
              "color": "#C8D4E3"
             },
             "line": {
              "color": "white"
             }
            },
            "type": "table"
           }
          ]
         },
         "layout": {
          "annotationdefaults": {
           "arrowcolor": "#2a3f5f",
           "arrowhead": 0,
           "arrowwidth": 1
          },
          "autotypenumbers": "strict",
          "coloraxis": {
           "colorbar": {
            "outlinewidth": 0,
            "ticks": ""
           }
          },
          "colorscale": {
           "diverging": [
            [
             0,
             "#8e0152"
            ],
            [
             0.1,
             "#c51b7d"
            ],
            [
             0.2,
             "#de77ae"
            ],
            [
             0.3,
             "#f1b6da"
            ],
            [
             0.4,
             "#fde0ef"
            ],
            [
             0.5,
             "#f7f7f7"
            ],
            [
             0.6,
             "#e6f5d0"
            ],
            [
             0.7,
             "#b8e186"
            ],
            [
             0.8,
             "#7fbc41"
            ],
            [
             0.9,
             "#4d9221"
            ],
            [
             1,
             "#276419"
            ]
           ],
           "sequential": [
            [
             0,
             "#0d0887"
            ],
            [
             0.1111111111111111,
             "#46039f"
            ],
            [
             0.2222222222222222,
             "#7201a8"
            ],
            [
             0.3333333333333333,
             "#9c179e"
            ],
            [
             0.4444444444444444,
             "#bd3786"
            ],
            [
             0.5555555555555556,
             "#d8576b"
            ],
            [
             0.6666666666666666,
             "#ed7953"
            ],
            [
             0.7777777777777778,
             "#fb9f3a"
            ],
            [
             0.8888888888888888,
             "#fdca26"
            ],
            [
             1,
             "#f0f921"
            ]
           ],
           "sequentialminus": [
            [
             0,
             "#0d0887"
            ],
            [
             0.1111111111111111,
             "#46039f"
            ],
            [
             0.2222222222222222,
             "#7201a8"
            ],
            [
             0.3333333333333333,
             "#9c179e"
            ],
            [
             0.4444444444444444,
             "#bd3786"
            ],
            [
             0.5555555555555556,
             "#d8576b"
            ],
            [
             0.6666666666666666,
             "#ed7953"
            ],
            [
             0.7777777777777778,
             "#fb9f3a"
            ],
            [
             0.8888888888888888,
             "#fdca26"
            ],
            [
             1,
             "#f0f921"
            ]
           ]
          },
          "colorway": [
           "#636efa",
           "#EF553B",
           "#00cc96",
           "#ab63fa",
           "#FFA15A",
           "#19d3f3",
           "#FF6692",
           "#B6E880",
           "#FF97FF",
           "#FECB52"
          ],
          "font": {
           "color": "#2a3f5f"
          },
          "geo": {
           "bgcolor": "white",
           "lakecolor": "white",
           "landcolor": "#E5ECF6",
           "showlakes": true,
           "showland": true,
           "subunitcolor": "white"
          },
          "hoverlabel": {
           "align": "left"
          },
          "hovermode": "closest",
          "mapbox": {
           "style": "light"
          },
          "paper_bgcolor": "white",
          "plot_bgcolor": "#E5ECF6",
          "polar": {
           "angularaxis": {
            "gridcolor": "white",
            "linecolor": "white",
            "ticks": ""
           },
           "bgcolor": "#E5ECF6",
           "radialaxis": {
            "gridcolor": "white",
            "linecolor": "white",
            "ticks": ""
           }
          },
          "scene": {
           "xaxis": {
            "backgroundcolor": "#E5ECF6",
            "gridcolor": "white",
            "gridwidth": 2,
            "linecolor": "white",
            "showbackground": true,
            "ticks": "",
            "zerolinecolor": "white"
           },
           "yaxis": {
            "backgroundcolor": "#E5ECF6",
            "gridcolor": "white",
            "gridwidth": 2,
            "linecolor": "white",
            "showbackground": true,
            "ticks": "",
            "zerolinecolor": "white"
           },
           "zaxis": {
            "backgroundcolor": "#E5ECF6",
            "gridcolor": "white",
            "gridwidth": 2,
            "linecolor": "white",
            "showbackground": true,
            "ticks": "",
            "zerolinecolor": "white"
           }
          },
          "shapedefaults": {
           "line": {
            "color": "#2a3f5f"
           }
          },
          "ternary": {
           "aaxis": {
            "gridcolor": "white",
            "linecolor": "white",
            "ticks": ""
           },
           "baxis": {
            "gridcolor": "white",
            "linecolor": "white",
            "ticks": ""
           },
           "bgcolor": "#E5ECF6",
           "caxis": {
            "gridcolor": "white",
            "linecolor": "white",
            "ticks": ""
           }
          },
          "title": {
           "x": 0.05
          },
          "xaxis": {
           "automargin": true,
           "gridcolor": "white",
           "linecolor": "white",
           "ticks": "",
           "title": {
            "standoff": 15
           },
           "zerolinecolor": "white",
           "zerolinewidth": 2
          },
          "yaxis": {
           "automargin": true,
           "gridcolor": "white",
           "linecolor": "white",
           "ticks": "",
           "title": {
            "standoff": 15
           },
           "zerolinecolor": "white",
           "zerolinewidth": 2
          }
         }
        },
        "title": {
         "text": "Ajuste De Curva"
        },
        "width": 800,
        "xaxis": {
         "title": {
          "text": "X"
         }
        },
        "yaxis": {
         "title": {
          "text": "Y"
         }
        }
       }
      }
     },
     "metadata": {},
     "output_type": "display_data"
    }
   ],
   "source": [
    "mq.fit(X1,Y1,[lambda x : math.sin(x)])\n",
    "mq.PrintAjusteCurva(X1,Y1,False,True)"
   ]
  },
  {
   "attachments": {},
   "cell_type": "markdown",
   "metadata": {},
   "source": [
    "#### f2= lambda x : math.exp(x)\n"
   ]
  },
  {
   "cell_type": "code",
   "execution_count": 44,
   "metadata": {},
   "outputs": [
    {
     "name": "stdout",
     "output_type": "stream",
     "text": [
      "[1.   1.25 1.5  1.75 2.  ]\n",
      "[2.7182820535066026e-10, 3.490343246428629e-10, 4.4816894413787656e-10, 5.754603152431419e-10, 7.389056710673373e-10]\n"
     ]
    },
    {
     "data": {
      "image/png": "[encoded data removed]",
      "text/plain": [
       "<Figure size 640x480 with 1 Axes>"
      ]
     },
     "metadata": {},
     "output_type": "display_data"
    }
   ],
   "source": [
    "f1 = lambda x: math.exp(x)\n",
    "X1 = np.linspace(1,2,5)\n",
    "Y1 = GetIntegral(f1,1,2,5)\n",
    "\n",
    "print(X1)\n",
    "print(Y1)\n",
    "\n",
    "###### Calulando o auste de curva \n",
    "mq = MQ()\n",
    "\n",
    "mq.plotPontos(X1,Y1)"
   ]
  },
  {
   "cell_type": "code",
   "execution_count": 46,
   "metadata": {},
   "outputs": [
    {
     "data": {
      "image/png": "[encoded data removed]",
      "text/plain": [
       "<Figure size 640x480 with 1 Axes>"
      ]
     },
     "metadata": {},
     "output_type": "display_data"
    },
    {
     "data": {
      "application/vnd.plotly.v1+json": {
       "config": {
        "plotlyServerURL": "https://plot.ly"
       },
       "data": [
        {
         "mode": "lines",
         "name": "Linear",
         "type": "scatter",
         "x": [
          0.9999,
          1.0100030303030303,
          1.0201060606060606,
          1.0302090909090909,
          1.0403121212121211,
          1.0504151515151516,
          1.060518181818182,
          1.0706212121212122,
          1.0807242424242425,
          1.0908272727272728,
          1.100930303030303,
          1.1110333333333333,
          1.1211363636363636,
          1.1312393939393939,
          1.1413424242424242,
          1.1514454545454547,
          1.161548484848485,
          1.1716515151515152,
          1.1817545454545455,
          1.1918575757575758,
          1.201960606060606,
          1.2120636363636363,
          1.2221666666666666,
          1.2322696969696971,
          1.2423727272727274,
          1.2524757575757577,
          1.262578787878788,
          1.2726818181818182,
          1.2827848484848485,
          1.2928878787878788,
          1.302990909090909,
          1.3130939393939394,
          1.3231969696969696,
          1.3333,
          1.3434030303030304,
          1.3535060606060607,
          1.363609090909091,
          1.3737121212121213,
          1.3838151515151516,
          1.3939181818181818,
          1.4040212121212123,
          1.4141242424242426,
          1.424227272727273,
          1.4343303030303032,
          1.4444333333333335,
          1.4545363636363637,
          1.464639393939394,
          1.4747424242424243,
          1.4848454545454546,
          1.4949484848484849,
          1.5050515151515151,
          1.5151545454545454,
          1.5252575757575757,
          1.5353606060606062,
          1.5454636363636365,
          1.5555666666666668,
          1.565669696969697,
          1.5757727272727273,
          1.5858757575757578,
          1.595978787878788,
          1.6060818181818184,
          1.6161848484848487,
          1.626287878787879,
          1.6363909090909092,
          1.6464939393939395,
          1.6565969696969698,
          1.6667,
          1.6768030303030304,
          1.6869060606060606,
          1.697009090909091,
          1.7071121212121212,
          1.7172151515151517,
          1.727318181818182,
          1.7374212121212123,
          1.7475242424242425,
          1.7576272727272728,
          1.7677303030303033,
          1.7778333333333336,
          1.7879363636363639,
          1.7980393939393942,
          1.8081424242424244,
          1.8182454545454547,
          1.828348484848485,
          1.8384515151515153,
          1.8485545454545456,
          1.8586575757575758,
          1.8687606060606061,
          1.8788636363636364,
          1.8889666666666667,
          1.899069696969697,
          1.9091727272727275,
          1.9192757575757577,
          1.929378787878788,
          1.9394818181818183,
          1.9495848484848488,
          1.959687878787879,
          1.9697909090909094,
          1.9798939393939397,
          1.98999696969697,
          2.0001
         ],
         "y": [
          2.718010238892219e-10,
          2.74560956234262e-10,
          2.7734891358980497e-10,
          2.801651805284837e-10,
          2.830100445125491e-10,
          2.858837959232126e-10,
          2.8878672809028533e-10,
          2.9171913732211934e-10,
          2.946813229358521e-10,
          2.97673587287959e-10,
          3.006962358051147e-10,
          3.0374957701536924e-10,
          3.0683392257964e-10,
          3.099495873235234e-10,
          3.1309688926943035e-10,
          3.1627614966904657e-10,
          3.194876930361242e-10,
          3.2273184717960533e-10,
          3.260089432370822e-10,
          3.293193157085968e-10,
          3.3266330249078443e-10,
          3.3604124491136333e-10,
          3.3945348776397456e-10,
          3.429003793433761e-10,
          3.463822714809937e-10,
          3.498995195808335e-10,
          3.5345248265575816e-10,
          3.570415233641329e-10,
          3.6066700804684214e-10,
          3.643293067646829e-10,
          3.680287933361379e-10,
          3.7176584537553147e-10,
          3.7554084433157403e-10,
          3.7935417552629684e-10,
          3.8320622819438313e-10,
          3.8709739552289753e-10,
          3.910280746914199e-10,
          3.949986669125863e-10,
          3.9900957747304134e-10,
          4.0306121577480673e-10,
          4.0715399537707007e-10,
          4.1128833403839707e-10,
          4.154646537593739e-10,
          4.196833808256807e-10,
          4.2394494585160445e-10,
          4.2824978382399197e-10,
          4.3259833414664994e-10,
          4.369910406851964e-10,
          4.414283518123662e-10,
          4.4591072045377817e-10,
          4.504386041341652e-10,
          4.5501246502407595e-10,
          4.596327699870484e-10,
          4.6429999062726455e-10,
          4.69014603337687e-10,
          4.737770893486868e-10,
          4.785879347771623e-10,
          4.834476306761585e-10,
          4.883566730849906e-10,
          4.933155630798743e-10,
          4.983248068250735e-10,
          5.03384915624564e-10,
          5.084964059742241e-10,
          5.136597996145545e-10,
          5.18875623583933e-10,
          5.241444102724109e-10,
          5.294666974760543e-10,
          5.348430284518393e-10,
          5.402739519731026e-10,
          5.457600223855561e-10,
          5.513017996638697e-10,
          5.568998494688305e-10,
          5.625547432050786e-10,
          5.682670580794339e-10,
          5.740373771598118e-10,
          5.798662894347378e-10,
          5.857543898734676e-10,
          5.917022794867161e-10,
          5.977105653880044e-10,
          6.037798608556289e-10,
          6.099107853952599e-10,
          6.161039648031757e-10,
          6.223600312301395e-10,
          6.286796232459234e-10,
          6.350633859044895e-10,
          6.415119708098313e-10,
          6.480260361824845e-10,
          6.54606246926713e-10,
          6.612532746983769e-10,
          6.6796779797349e-10,
          6.74750502117473e-10,
          6.816020794551105e-10,
          6.885232293412179e-10,
          6.955146582320258e-10,
          7.025770797572901e-10,
          7.097112147931325e-10,
          7.169177915356234e-10,
          7.24197545575109e-10,
          7.315512199712953e-10,
          7.389795653290936e-10
         ]
        },
        {
         "mode": "markers",
         "name": "(x,y)",
         "type": "scatter",
         "x": [
          1,
          1.25,
          1.5,
          1.75,
          2
         ],
         "y": [
          2.7182820535066026e-10,
          3.490343246428629e-10,
          4.4816894413787656e-10,
          5.754603152431419e-10,
          7.389056710673373e-10
         ]
        }
       ],
       "layout": {
        "font": {
         "color": "RebeccaPurple",
         "family": "Courier New, monospace",
         "size": 18
        },
        "height": 500,
        "template": {
         "data": {
          "bar": [
           {
            "error_x": {
             "color": "#2a3f5f"
            },
            "error_y": {
             "color": "#2a3f5f"
            },
            "marker": {
             "line": {
              "color": "#E5ECF6",
              "width": 0.5
             },
             "pattern": {
              "fillmode": "overlay",
              "size": 10,
              "solidity": 0.2
             }
            },
            "type": "bar"
           }
          ],
          "barpolar": [
           {
            "marker": {
             "line": {
              "color": "#E5ECF6",
              "width": 0.5
             },
             "pattern": {
              "fillmode": "overlay",
              "size": 10,
              "solidity": 0.2
             }
            },
            "type": "barpolar"
           }
          ],
          "carpet": [
           {
            "aaxis": {
             "endlinecolor": "#2a3f5f",
             "gridcolor": "white",
             "linecolor": "white",
             "minorgridcolor": "white",
             "startlinecolor": "#2a3f5f"
            },
            "baxis": {
             "endlinecolor": "#2a3f5f",
             "gridcolor": "white",
             "linecolor": "white",
             "minorgridcolor": "white",
             "startlinecolor": "#2a3f5f"
            },
            "type": "carpet"
           }
          ],
          "choropleth": [
           {
            "colorbar": {
             "outlinewidth": 0,
             "ticks": ""
            },
            "type": "choropleth"
           }
          ],
          "contour": [
           {
            "colorbar": {
             "outlinewidth": 0,
             "ticks": ""
            },
            "colorscale": [
             [
              0,
              "#0d0887"
             ],
             [
              0.1111111111111111,
              "#46039f"
             ],
             [
              0.2222222222222222,
              "#7201a8"
             ],
             [
              0.3333333333333333,
              "#9c179e"
             ],
             [
              0.4444444444444444,
              "#bd3786"
             ],
             [
              0.5555555555555556,
              "#d8576b"
             ],
             [
              0.6666666666666666,
              "#ed7953"
             ],
             [
              0.7777777777777778,
              "#fb9f3a"
             ],
             [
              0.8888888888888888,
              "#fdca26"
             ],
             [
              1,
              "#f0f921"
             ]
            ],
            "type": "contour"
           }
          ],
          "contourcarpet": [
           {
            "colorbar": {
             "outlinewidth": 0,
             "ticks": ""
            },
            "type": "contourcarpet"
           }
          ],
          "heatmap": [
           {
            "colorbar": {
             "outlinewidth": 0,
             "ticks": ""
            },
            "colorscale": [
             [
              0,
              "#0d0887"
             ],
             [
              0.1111111111111111,
              "#46039f"
             ],
             [
              0.2222222222222222,
              "#7201a8"
             ],
             [
              0.3333333333333333,
              "#9c179e"
             ],
             [
              0.4444444444444444,
              "#bd3786"
             ],
             [
              0.5555555555555556,
              "#d8576b"
             ],
             [
              0.6666666666666666,
              "#ed7953"
             ],
             [
              0.7777777777777778,
              "#fb9f3a"
             ],
             [
              0.8888888888888888,
              "#fdca26"
             ],
             [
              1,
              "#f0f921"
             ]
            ],
            "type": "heatmap"
           }
          ],
          "heatmapgl": [
           {
            "colorbar": {
             "outlinewidth": 0,
             "ticks": ""
            },
            "colorscale": [
             [
              0,
              "#0d0887"
             ],
             [
              0.1111111111111111,
              "#46039f"
             ],
             [
              0.2222222222222222,
              "#7201a8"
             ],
             [
              0.3333333333333333,
              "#9c179e"
             ],
             [
              0.4444444444444444,
              "#bd3786"
             ],
             [
              0.5555555555555556,
              "#d8576b"
             ],
             [
              0.6666666666666666,
              "#ed7953"
             ],
             [
              0.7777777777777778,
              "#fb9f3a"
             ],
             [
              0.8888888888888888,
              "#fdca26"
             ],
             [
              1,
              "#f0f921"
             ]
            ],
            "type": "heatmapgl"
           }
          ],
          "histogram": [
           {
            "marker": {
             "pattern": {
              "fillmode": "overlay",
              "size": 10,
              "solidity": 0.2
             }
            },
            "type": "histogram"
           }
          ],
          "histogram2d": [
           {
            "colorbar": {
             "outlinewidth": 0,
             "ticks": ""
            },
            "colorscale": [
             [
              0,
              "#0d0887"
             ],
             [
              0.1111111111111111,
              "#46039f"
             ],
             [
              0.2222222222222222,
              "#7201a8"
             ],
             [
              0.3333333333333333,
              "#9c179e"
             ],
             [
              0.4444444444444444,
              "#bd3786"
             ],
             [
              0.5555555555555556,
              "#d8576b"
             ],
             [
              0.6666666666666666,
              "#ed7953"
             ],
             [
              0.7777777777777778,
              "#fb9f3a"
             ],
             [
              0.8888888888888888,
              "#fdca26"
             ],
             [
              1,
              "#f0f921"
             ]
            ],
            "type": "histogram2d"
           }
          ],
          "histogram2dcontour": [
           {
            "colorbar": {
             "outlinewidth": 0,
             "ticks": ""
            },
            "colorscale": [
             [
              0,
              "#0d0887"
             ],
             [
              0.1111111111111111,
              "#46039f"
             ],
             [
              0.2222222222222222,
              "#7201a8"
             ],
             [
              0.3333333333333333,
              "#9c179e"
             ],
             [
              0.4444444444444444,
              "#bd3786"
             ],
             [
              0.5555555555555556,
              "#d8576b"
             ],
             [
              0.6666666666666666,
              "#ed7953"
             ],
             [
              0.7777777777777778,
              "#fb9f3a"
             ],
             [
              0.8888888888888888,
              "#fdca26"
             ],
             [
              1,
              "#f0f921"
             ]
            ],
            "type": "histogram2dcontour"
           }
          ],
          "mesh3d": [
           {
            "colorbar": {
             "outlinewidth": 0,
             "ticks": ""
            },
            "type": "mesh3d"
           }
          ],
          "parcoords": [
           {
            "line": {
             "colorbar": {
              "outlinewidth": 0,
              "ticks": ""
             }
            },
            "type": "parcoords"
           }
          ],
          "pie": [
           {
            "automargin": true,
            "type": "pie"
           }
          ],
          "scatter": [
           {
            "fillpattern": {
             "fillmode": "overlay",
             "size": 10,
             "solidity": 0.2
            },
            "type": "scatter"
           }
          ],
          "scatter3d": [
           {
            "line": {
             "colorbar": {
              "outlinewidth": 0,
              "ticks": ""
             }
            },
            "marker": {
             "colorbar": {
              "outlinewidth": 0,
              "ticks": ""
             }
            },
            "type": "scatter3d"
           }
          ],
          "scattercarpet": [
           {
            "marker": {
             "colorbar": {
              "outlinewidth": 0,
              "ticks": ""
             }
            },
            "type": "scattercarpet"
           }
          ],
          "scattergeo": [
           {
            "marker": {
             "colorbar": {
              "outlinewidth": 0,
              "ticks": ""
             }
            },
            "type": "scattergeo"
           }
          ],
          "scattergl": [
           {
            "marker": {
             "colorbar": {
              "outlinewidth": 0,
              "ticks": ""
             }
            },
            "type": "scattergl"
           }
          ],
          "scattermapbox": [
           {
            "marker": {
             "colorbar": {
              "outlinewidth": 0,
              "ticks": ""
             }
            },
            "type": "scattermapbox"
           }
          ],
          "scatterpolar": [
           {
            "marker": {
             "colorbar": {
              "outlinewidth": 0,
              "ticks": ""
             }
            },
            "type": "scatterpolar"
           }
          ],
          "scatterpolargl": [
           {
            "marker": {
             "colorbar": {
              "outlinewidth": 0,
              "ticks": ""
             }
            },
            "type": "scatterpolargl"
           }
          ],
          "scatterternary": [
           {
            "marker": {
             "colorbar": {
              "outlinewidth": 0,
              "ticks": ""
             }
            },
            "type": "scatterternary"
           }
          ],
          "surface": [
           {
            "colorbar": {
             "outlinewidth": 0,
             "ticks": ""
            },
            "colorscale": [
             [
              0,
              "#0d0887"
             ],
             [
              0.1111111111111111,
              "#46039f"
             ],
             [
              0.2222222222222222,
              "#7201a8"
             ],
             [
              0.3333333333333333,
              "#9c179e"
             ],
             [
              0.4444444444444444,
              "#bd3786"
             ],
             [
              0.5555555555555556,
              "#d8576b"
             ],
             [
              0.6666666666666666,
              "#ed7953"
             ],
             [
              0.7777777777777778,
              "#fb9f3a"
             ],
             [
              0.8888888888888888,
              "#fdca26"
             ],
             [
              1,
              "#f0f921"
             ]
            ],
            "type": "surface"
           }
          ],
          "table": [
           {
            "cells": {
             "fill": {
              "color": "#EBF0F8"
             },
             "line": {
              "color": "white"
             }
            },
            "header": {
             "fill": {
              "color": "#C8D4E3"
             },
             "line": {
              "color": "white"
             }
            },
            "type": "table"
           }
          ]
         },
         "layout": {
          "annotationdefaults": {
           "arrowcolor": "#2a3f5f",
           "arrowhead": 0,
           "arrowwidth": 1
          },
          "autotypenumbers": "strict",
          "coloraxis": {
           "colorbar": {
            "outlinewidth": 0,
            "ticks": ""
           }
          },
          "colorscale": {
           "diverging": [
            [
             0,
             "#8e0152"
            ],
            [
             0.1,
             "#c51b7d"
            ],
            [
             0.2,
             "#de77ae"
            ],
            [
             0.3,
             "#f1b6da"
            ],
            [
             0.4,
             "#fde0ef"
            ],
            [
             0.5,
             "#f7f7f7"
            ],
            [
             0.6,
             "#e6f5d0"
            ],
            [
             0.7,
             "#b8e186"
            ],
            [
             0.8,
             "#7fbc41"
            ],
            [
             0.9,
             "#4d9221"
            ],
            [
             1,
             "#276419"
            ]
           ],
           "sequential": [
            [
             0,
             "#0d0887"
            ],
            [
             0.1111111111111111,
             "#46039f"
            ],
            [
             0.2222222222222222,
             "#7201a8"
            ],
            [
             0.3333333333333333,
             "#9c179e"
            ],
            [
             0.4444444444444444,
             "#bd3786"
            ],
            [
             0.5555555555555556,
             "#d8576b"
            ],
            [
             0.6666666666666666,
             "#ed7953"
            ],
            [
             0.7777777777777778,
             "#fb9f3a"
            ],
            [
             0.8888888888888888,
             "#fdca26"
            ],
            [
             1,
             "#f0f921"
            ]
           ],
           "sequentialminus": [
            [
             0,
             "#0d0887"
            ],
            [
             0.1111111111111111,
             "#46039f"
            ],
            [
             0.2222222222222222,
             "#7201a8"
            ],
            [
             0.3333333333333333,
             "#9c179e"
            ],
            [
             0.4444444444444444,
             "#bd3786"
            ],
            [
             0.5555555555555556,
             "#d8576b"
            ],
            [
             0.6666666666666666,
             "#ed7953"
            ],
            [
             0.7777777777777778,
             "#fb9f3a"
            ],
            [
             0.8888888888888888,
             "#fdca26"
            ],
            [
             1,
             "#f0f921"
            ]
           ]
          },
          "colorway": [
           "#636efa",
           "#EF553B",
           "#00cc96",
           "#ab63fa",
           "#FFA15A",
           "#19d3f3",
           "#FF6692",
           "#B6E880",
           "#FF97FF",
           "#FECB52"
          ],
          "font": {
           "color": "#2a3f5f"
          },
          "geo": {
           "bgcolor": "white",
           "lakecolor": "white",
           "landcolor": "#E5ECF6",
           "showlakes": true,
           "showland": true,
           "subunitcolor": "white"
          },
          "hoverlabel": {
           "align": "left"
          },
          "hovermode": "closest",
          "mapbox": {
           "style": "light"
          },
          "paper_bgcolor": "white",
          "plot_bgcolor": "#E5ECF6",
          "polar": {
           "angularaxis": {
            "gridcolor": "white",
            "linecolor": "white",
            "ticks": ""
           },
           "bgcolor": "#E5ECF6",
           "radialaxis": {
            "gridcolor": "white",
            "linecolor": "white",
            "ticks": ""
           }
          },
          "scene": {
           "xaxis": {
            "backgroundcolor": "#E5ECF6",
            "gridcolor": "white",
            "gridwidth": 2,
            "linecolor": "white",
            "showbackground": true,
            "ticks": "",
            "zerolinecolor": "white"
           },
           "yaxis": {
            "backgroundcolor": "#E5ECF6",
            "gridcolor": "white",
            "gridwidth": 2,
            "linecolor": "white",
            "showbackground": true,
            "ticks": "",
            "zerolinecolor": "white"
           },
           "zaxis": {
            "backgroundcolor": "#E5ECF6",
            "gridcolor": "white",
            "gridwidth": 2,
            "linecolor": "white",
            "showbackground": true,
            "ticks": "",
            "zerolinecolor": "white"
           }
          },
          "shapedefaults": {
           "line": {
            "color": "#2a3f5f"
           }
          },
          "ternary": {
           "aaxis": {
            "gridcolor": "white",
            "linecolor": "white",
            "ticks": ""
           },
           "baxis": {
            "gridcolor": "white",
            "linecolor": "white",
            "ticks": ""
           },
           "bgcolor": "#E5ECF6",
           "caxis": {
            "gridcolor": "white",
            "linecolor": "white",
            "ticks": ""
           }
          },
          "title": {
           "x": 0.05
          },
          "xaxis": {
           "automargin": true,
           "gridcolor": "white",
           "linecolor": "white",
           "ticks": "",
           "title": {
            "standoff": 15
           },
           "zerolinecolor": "white",
           "zerolinewidth": 2
          },
          "yaxis": {
           "automargin": true,
           "gridcolor": "white",
           "linecolor": "white",
           "ticks": "",
           "title": {
            "standoff": 15
           },
           "zerolinecolor": "white",
           "zerolinewidth": 2
          }
         }
        },
        "title": {
         "text": "Ajuste De Curva"
        },
        "width": 800,
        "xaxis": {
         "title": {
          "text": "X"
         }
        },
        "yaxis": {
         "title": {
          "text": "Y"
         }
        }
       }
      }
     },
     "metadata": {},
     "output_type": "display_data"
    }
   ],
   "source": [
    "mq.fit(X1,Y1,[lambda x : x, lambda x : math.exp(x)])\n",
    "mq.PrintAjusteCurva(X1,Y1,True)"
   ]
  }
 ],
 "metadata": {
  "kernelspec": {
   "display_name": "Python 3",
   "language": "python",
   "name": "python3"
  },
  "language_info": {
   "codemirror_mode": {
    "name": "ipython",
    "version": 3
   },
   "file_extension": ".py",
   "mimetype": "text/x-python",
   "name": "python",
   "nbconvert_exporter": "python",
   "pygments_lexer": "ipython3",
   "version": "3.11.1"
  },
  "orig_nbformat": 4
 },
 "nbformat": 4,
 "nbformat_minor": 2
}
