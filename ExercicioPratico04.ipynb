{
 "cells": [
  {
   "attachments": {},
   "cell_type": "markdown",
   "metadata": {},
   "source": [
    "### Exercícios práticos 04 - Syanne Tavares\n",
    "\n",
    "#### Resolução de sistemas lineares\n",
    "\n",
    "- Podem ter 3 situações\n",
    "\n",
    "1. Solução única -> retas concorrentes -> se tocam em 1 único ponto\n",
    "2. Infinitas soluções -> retas coicidentes - pode ser qualquer tipo de valor\n",
    "3. Sem solução -> Reta paralelas \n",
    "\n",
    "- 2 formas de resolver \n",
    "1. Métodos Diretos \n",
    "2. Métodos iterativos\n",
    "\n",
    "\n",
    "## Exercício 01 - \n",
    "\n",
    "Implemente todas as técnicas de solução de sistemas lineares vistas em aula e faça uma comparação entre elas para as seguintes situações\n",
    "\n",
    "# Métodos Diretos\n",
    "## Fornecem soluções exatas com um número finito de operações. Podem ocorrer erros de arredondamento\n"
   ]
  },
  {
   "attachments": {},
   "cell_type": "markdown",
   "metadata": {},
   "source": [
    "# 1. Eliminação de Gauss\n",
    "Resumidamente -> transforma o sistema em um sistema equivalente do tipo triangular superior e resolve a partir disso"
   ]
  },
  {
   "cell_type": "code",
   "execution_count": 2,
   "metadata": {},
   "outputs": [],
   "source": [
    "import numpy as np\n",
    "import pandas as pd\n",
    "\n",
    "  \n",
    "# Resolve o sistema triangular superior.\n",
    "def SistemaTriangularSuperior(Ax,b):\n",
    "  \"\"\"Função que resolve um sistema linear triangular superior do tipo  𝐴𝑥 = b que recebe como parâmetro \"\"\"\n",
    "  n = len(b) #tamanho do vetor b\n",
    "  x= [b[i]/Ax[i][i] if i == 0 else None for i in range(0,len(b))]\n",
    "\n",
    "  x[n-1] = b[n-1]/Ax[n-1][n-1]\n",
    "\n",
    "  for i in list(range(n-1,0,-1)):\n",
    "    s = 0\n",
    "    for j in list(range(i+1,n+1)):\n",
    "      s = s + Ax[i-1][j-1]*x[j-1]\n",
    "\n",
    "    x[i-1] = (b[i-1]-s)/(Ax[i-1][i-1])\n",
    "\n",
    "  return x\n",
    "\n",
    "def EliminacaoDeGauss(A,b):\n",
    "  \"\"\"Função que resolve um sistema linear do tipo Ax = b que recebe como parâmetro\n",
    "     Return : retorna o vetor x resultante\"\"\"\n",
    "  \n",
    "  # ELIMINAÇÃO DE GAUSS\n",
    "  n = len(b)\n",
    "\n",
    "  # Calculo dos pivos.\n",
    "  for k in range(1,n+1):\n",
    "    # PIVOTEAMENTO PARCIAL\n",
    "    for i in range(k+1, len(A)+1):\n",
    "      if (abs(A[i-1][k-1]) > abs(A[k-1][k-1])):\n",
    "        [A[k-1], A[i-1]] = [A[i-1], A[k-1]]\n",
    "        [b[k-1], b[i-1]] = [b[i-1], b[k-1]]\n",
    "\n",
    "    # Calculo dos multiplicadores.\n",
    "    for i in list(range(k+1,n+1)):\n",
    "      m = A[i-1][k-1]/A[k-1][k-1]\n",
    "      A[i-1][k-1] = 0\n",
    "      \n",
    "      # Atualizar demais valores da linha\n",
    "      for j in list(range(k+1,n+1)):\n",
    "        A[i-1][j-1] = A[i-1][j-1]-m*A[k-1][j-1]\n",
    "      b[i-1] = b[i-1] - m*b[k-1]\n",
    "\n",
    "  # print(\"depois da eliminação\\n Ax =  \",Ax2,\"\\nb = \",b2)\n",
    "  x = SistemaTriangularSuperior(A,b)\n",
    "  return(x)\n"
   ]
  },
  {
   "cell_type": "code",
   "execution_count": 3,
   "metadata": {},
   "outputs": [
    {
     "name": "stdout",
     "output_type": "stream",
     "text": [
      "X:  [-3.0, 5.0, 0.0]\n"
     ]
    }
   ],
   "source": [
    "Ax = [[3, 2, 4],\n",
    "      [1, 1, 2],\n",
    "      [4, 3,-2]]\n",
    "b = [1, 2, 3]\n",
    "\n",
    "print(\"X: \",EliminacaoDeGauss(Ax,b))"
   ]
  },
  {
   "cell_type": "code",
   "execution_count": 4,
   "metadata": {},
   "outputs": [
    {
     "name": "stdout",
     "output_type": "stream",
     "text": [
      "X:  [4.999999999999999, 9.0, 3.000000000000001]\n"
     ]
    }
   ],
   "source": [
    "#exemplo 2\n",
    "Ax = [[0,9, 8],\n",
    "    [4, 5 ,6],\n",
    "    [6, 4, 9]]\n",
    "\n",
    "b =  [105, 83 ,93]\n",
    "print(\"X: \",EliminacaoDeGauss(Ax,b))"
   ]
  },
  {
   "attachments": {},
   "cell_type": "markdown",
   "metadata": {},
   "source": [
    "# Fatoração LU com pivoteamento parcial\n",
    "\n",
    "#### O processo de fatoração consistem em decompor a matriz A em um produto de dois ou mais fatores\n",
    "▪ De forma que seja mais fácil resolver o sistema em etapas"
   ]
  },
  {
   "cell_type": "code",
   "execution_count": 5,
   "metadata": {},
   "outputs": [],
   "source": [
    "def formata_matriz(M):\n",
    "  \"\"\"Função que printa uma matriz formatando-a\"\"\"\n",
    "  m = len(M) # número de linhas\n",
    "  n = len(M[0]) # número de colunas\n",
    "  s = \"\"\n",
    "  for i in range(m):\n",
    "      for j in range(n):\n",
    "          s += \"%9.3f \" % M[i][j]\n",
    "      s +=  \"\\n\"\n",
    "  return s\n",
    "\n",
    "# Resolve o sistema triangular inferior.\n",
    "def SistemaTriangularInferior(Ax,b):\n",
    "  \"\"\"Função que resolve um sistema triangular inferior\"\"\"\n",
    "  n = len(b)\n",
    "  \n",
    "  y= [b[i]/Ax[i][i] if i == 0 else None for i in range(0,len(b))]\n",
    "\n",
    "  for i in list(range(1,n+1,1)):\n",
    "    s = 0\n",
    "    for j in list(range(1,i,1)):\n",
    "      s = s + Ax[i-1][j-1]*y[j-1]\n",
    "\n",
    "    y[i-1] = b[i-1] - s\n",
    "\n",
    "  return y\n",
    "\n",
    "def LU_PivParc(A,b):\n",
    "  \"\"\"Função que resolve um sistema linear do tipo Ax = b usando o método de Fatoração LU com pivoteamento parcial \n",
    "     A = matriz de coeficientes\n",
    "     b = vetor b resultante\n",
    "     Retorna um vetor x calculado\"\"\"\n",
    "  n = len(A)\n",
    "  p=[0]*n\n",
    "  \n",
    "\n",
    "  ###### pivoteamento parcial \n",
    "  p = list(range(1,n+1)) #\"matriz permutação\"\n",
    "\n",
    "  for k in range(1,n):\n",
    "    pv = abs(A[k-1][k-1])\n",
    "    Lpivo = k\n",
    "\n",
    "    for i in range(k+1,n+1):\n",
    "        if abs(A[i-1][k-1])> pv :\n",
    "          pv = abs(A[i-1][k-1])\n",
    "          Lpivo = i\n",
    "  \n",
    "    if pv == 0: \n",
    "      return None #matriz singular\n",
    "      \n",
    "\n",
    "    if Lpivo != k : # se for diferente então tem que realizar a permutação\n",
    "      [p[k-1],p[Lpivo-1]] = [p[Lpivo-1],p[k-1]] # recurso guanabaristico\n",
    "    \n",
    "      for j in range(1,n+1):\n",
    "          [A[k-1][j-1],A[Lpivo-1][j-1]] = [A[Lpivo-1][j-1],A[k-1][j-1]] \n",
    "\n",
    "  # resolução dos sistemas triangulares\n",
    "  # Calculo dos pivos.\n",
    "  for k in list(range(1,n,1)):\n",
    "    # Calculo dos multiplicadores.\n",
    "    for i in list(range(k+1,n+1,1)):\n",
    "      m = A[i-1][k-1]/A[k-1][k-1]\n",
    "      A[i-1][k-1] = m\n",
    "      # Atualizar demais valores da linha\n",
    "      for j in list(range(k+1,n+1,1)):\n",
    "        A[i-1][j-1] = A[i-1][j-1]-m*A[k-1][j-1]\n",
    "  ### multiplicação da b pela \"matriz permutação\"\n",
    "  c=[None for _ in range(0,len(b))]\n",
    "  for i in range(1,n+1):\n",
    "    Lpivo = p[i-1]\n",
    "    c[i-1]=b[Lpivo-1]\n",
    "\n",
    "  # resolução dos sistemas \n",
    "  y = SistemaTriangularInferior(A,c)\n",
    "  x = SistemaTriangularSuperior(A,y)\n",
    "\n",
    "  return x"
   ]
  },
  {
   "cell_type": "code",
   "execution_count": 6,
   "metadata": {},
   "outputs": [
    {
     "name": "stdout",
     "output_type": "stream",
     "text": [
      "Ai = \n",
      "     3.000    -4.000     1.000 \n",
      "    1.000     2.000     2.000 \n",
      "    4.000     0.000    -3.000 \n",
      "\n",
      "X =\n",
      "[1.0, -1.0, 2.0]\n"
     ]
    }
   ],
   "source": [
    "# Teste com dados.\n",
    "Ai = [[3, -4, 1],\n",
    "      [1, 2, 2],\n",
    "      [4, 0, -3]]\n",
    "\n",
    "bi = [9, 3, -2]\n",
    "\n",
    "print(\"Ai = \\n\",formata_matriz(Ai))\n",
    "#Obtendo os fatores L e U.\n",
    "print(\"X =\")\n",
    "print(LU_PivParc(Ai,bi))"
   ]
  },
  {
   "attachments": {},
   "cell_type": "markdown",
   "metadata": {},
   "source": [
    "## Métodos iterativos\n",
    "\n",
    "### 3. Gauss-Jacobi"
   ]
  },
  {
   "cell_type": "code",
   "execution_count": 7,
   "metadata": {},
   "outputs": [],
   "source": [
    "import math\n",
    "def TesteConvergencia(MatrizA):\n",
    "    \"\"\"Função que realiza teste de convergência pra uma matriz A\n",
    "        Retorna True caso a seja convergente e False caso contrário\"\"\"\n",
    "    Alfas=list()\n",
    "\n",
    "    for i in range(len(MatrizA)):\n",
    "        s=0\n",
    "        for j in range(len(MatrizA)):\n",
    "            if j!=i:\n",
    "                s+=MatrizA[i][j]\n",
    "\n",
    "        Alfas.append(s/MatrizA[i][i])\n",
    "    # print(Alfas)\n",
    "    # print(max(Alfas))\n",
    "\n",
    "    if max(Alfas) < 1:\n",
    "        return True\n",
    "    else:\n",
    "        return False\n",
    "def criterioParada(x,xk,precisao):\n",
    "    \"\"\"Função que compara x com x-1 verificando a precisão do método como um critério de parada\"\"\"\n",
    "    soma = 0\n",
    "    zip_object = zip(x, xk) # une as informações de duas variáveis\n",
    "    for list1_i, list2_i in zip_object:\n",
    "        soma = soma + math.fabs(list1_i-list2_i)\n",
    "\n",
    "    if (soma < precisao):\n",
    "        return True\n",
    "    else:\n",
    "        return False   \n",
    "            \n",
    "def GaussJacobi(MatrizA,b,max_iteracoes,precisao):\n",
    "    \"\"\"Função que resolve um sistema linear do tipo Ax = b através do método iterativo de Gauss-Jacobi \n",
    "    Parâmetros:\n",
    "        MatrizA = matriz de coeficientes do sistema linear\n",
    "        b = vetor b\n",
    "        max_iteracoes = npumero máximo de iterações\n",
    "        precisao = precisão do erro\n",
    "        \n",
    "        retorno: tupla com\n",
    "      vetor x resultante e com o número de iterações\"\"\"\n",
    "    n= len(b) #tamanho de do vetor base\n",
    "\n",
    "    X=b.copy() # copiando b pra x como chute inicial\n",
    "    solucao = True\n",
    "    # gerar chute inicial\n",
    "    for i in list(range(1,n+1)): # percorre cada elemento de x de 1 até n\n",
    "        # dividir pelo elemento da diagonal principal\n",
    "        if math.fabs(MatrizA[i-1][i-1])> 0 :# verifica se é possível realizar divisão se a diagonal é diferente de zero\n",
    "            X[i-1] = b[i-1]/MatrizA[i-1][i-1]\n",
    "        else:\n",
    "            solucao = False # não se pode calcular o chute inicial\n",
    "            break\n",
    "    if solucao and TesteConvergencia(MatrizA):\n",
    "        # print(\"Iteração 0\")\n",
    "        # print(\"x = \",X)\n",
    "\n",
    "        xk = X.copy()\n",
    "\n",
    "        iter = 0\n",
    "        \n",
    "        # realiza o calculo de uma função iteração\n",
    "        while (iter < max_iteracoes): # início das iterações\n",
    "            iter = iter + 1\n",
    "            for i in list(range(1,n+1)):\n",
    "                s = 0\n",
    "\n",
    "                #realiza o somatório\n",
    "                for j in list(range(1,n+1)):\n",
    "                    if ((i-1) != (j-1)):\n",
    "                        s = s + MatrizA[i-1][j-1]*X[j-1] # somando os termos que não são da diagonal\n",
    "\n",
    "                xk[i-1] = (1/MatrizA[i-1][i-1])*(b[i-1]-s) # equivale a 1/a(ii)*(bi - somatório de aij*xj)\n",
    "                \n",
    "            # print(\"Iteração: \",iter)\n",
    "            # print(\"xk = \",xk)\n",
    "\n",
    "            #verifica o critério de parada ->  O processo é repetido até ue x^k e x^k-1 eestejam suficientemente próximos\n",
    "            if criterioParada(X,xk,precisao):\n",
    "                X = xk.copy()\n",
    "                break    \n",
    "            X = xk.copy()\n",
    "      \n",
    "        return X,iter\n",
    "    else:\n",
    "        return None,None\n"
   ]
  },
  {
   "cell_type": "code",
   "execution_count": 8,
   "metadata": {},
   "outputs": [
    {
     "name": "stdout",
     "output_type": "stream",
     "text": [
      "x =  [1.000236, -1.9989360000000003, 1.000284]\n",
      "N iterações =  5\n"
     ]
    }
   ],
   "source": [
    "#exemplo \n",
    "\n",
    "A = [[10, 2,  1],\n",
    "     [ 1, 5,  1],\n",
    "     [ 2, 3, 10]]\n",
    "\n",
    "b = [7, -8, 6]\n",
    "\n",
    "x,iter = GaussJacobi(A,b,10,0.01)\n",
    "print(\"x = \",x)\n",
    "print(\"N iterações = \",iter)\n",
    "\n"
   ]
  },
  {
   "attachments": {},
   "cell_type": "markdown",
   "metadata": {},
   "source": [
    "### 4. Gauss-Seidel"
   ]
  },
  {
   "cell_type": "code",
   "execution_count": 9,
   "metadata": {},
   "outputs": [],
   "source": [
    "def GaussSeidel(MatrizA,b,max_iteracoes,precisao):\n",
    "    \"\"\"Função que resolve um sistema linear do tipo Ax = b através do método iterativo de Gauss-Seidel\n",
    "      Parâmetros:\n",
    "      MatrizA = matriz de coeficientes do sistema linear\n",
    "      b = vetor b\n",
    "      max_iteracoes = npumero máximo de iterações\n",
    "      precisao = precisão do erro\n",
    "      \n",
    "      retorno: tupla com\n",
    "      vetor x resultante e com o número de iterações \"\"\"\n",
    "    n= len(b) #tamanho de do vetor base\n",
    "\n",
    "    X=b.copy() # copiando b pra x como chute inicial\n",
    "    solucao = True\n",
    "    # gerar chute inicial\n",
    "    for i in list(range(1,n+1)): # percorre cada elemento de x de 1 até n\n",
    "        # dividir pelo elemento da diagonal principal\n",
    "        if math.fabs(MatrizA[i-1][i-1])> 0 :# verifica se é possível realizar divisão se a diagonal é diferente de zero\n",
    "            X[i-1] = b[i-1]/MatrizA[i-1][i-1]\n",
    "        else:\n",
    "            solucao = False # não se pode calcular o chute inicial\n",
    "            break\n",
    "    if solucao and TesteConvergencia(MatrizA):\n",
    "      # print(\"Iteração 0\")\n",
    "      # print(\"x = \",X)\n",
    "\n",
    "      xk = X.copy()\n",
    "\n",
    "      iter    = 0\n",
    "      \n",
    "      # realiza o calculo de uma função iteração\n",
    "      while (iter < max_iteracoes): # início das iterações\n",
    "        iter = iter + 1\n",
    "        for i in list(range(1,n+1)):\n",
    "          s = 0\n",
    "\n",
    "          #realiza o somatório\n",
    "          for j in list(range(1,n+1)):\n",
    "            if ((i-1) > (j-1)): # se o índice da linha é maior que o da coluna\n",
    "              s = s + MatrizA[i-1][j-1]*xk[j-1] # usa o xk que tem os valores atualizados\n",
    "            elif ((i-1) < (j-1)): # se o índice da linha é maior que o da coluna\n",
    "              s = s + MatrizA[i-1][j-1]*X[j-1] \n",
    "\n",
    "          xk[i-1] = (1/MatrizA[i-1][i-1])*(b[i-1]-s) # equivale a 1/a(ii)*(bi - somatório de aij*xj)\n",
    "      \n",
    "        # print(\"Iteração: \",iter)\n",
    "        # print(\"xk = \",xk)\n",
    "\n",
    "        #verifica o critério de parada ->  O processo é repetido até ue x^k e x^k-1 eestejam suficientemente próximos\n",
    "        if criterioParada(X,xk,precisao):\n",
    "          X = xk.copy()\n",
    "          break    \n",
    "        X = xk.copy()\n",
    "     \n",
    "      return X,iter\n",
    "    else:\n",
    "       return None,None"
   ]
  },
  {
   "cell_type": "code",
   "execution_count": 10,
   "metadata": {},
   "outputs": [
    {
     "name": "stdout",
     "output_type": "stream",
     "text": [
      "x =  [0.9999577430400001, -2.000046123328, 1.0000222883904002]\n",
      "N iterações =  4\n"
     ]
    }
   ],
   "source": [
    "#exemplo \n",
    "\n",
    "A = [[10, 2,  1],\n",
    "     [ 1, 5,  1],\n",
    "     [ 2, 3, 10]]\n",
    "\n",
    "b = [7, -8, 6]\n",
    "\n",
    "x,iter = GaussSeidel(A,b,10,0.01)\n",
    "print(\"x = \",x)\n",
    "print(\"N iterações = \",iter)\n"
   ]
  },
  {
   "attachments": {},
   "cell_type": "markdown",
   "metadata": {},
   "source": [
    "## Comparação entre os métodos"
   ]
  },
  {
   "cell_type": "code",
   "execution_count": 11,
   "metadata": {},
   "outputs": [],
   "source": [
    "def GeraMatriz(n):\n",
    "    \"\"\"Função que gera matriz quadrada de simensão nxn com inteiros aleatórios \"\"\"\n",
    "\n",
    "    array = np.random.randint(10, size=(n, n))\n",
    "\n",
    "    return array\n",
    "\n",
    "def MultiplicaMatrizes(MatrizA,MatrizB):\n",
    "    \"\"\"Função que multiplica duas matrizes que recebe com parâmatro e retorna o resultado\"\"\"\n",
    "\n",
    "    result=np.zeros((len(MatrizA),len(MatrizA)))\n",
    "  \n",
    "    result = np.dot(MatrizA,MatrizB) \n",
    "    \n",
    "    # for r in result: \n",
    "    #     print(r)\n",
    "    return result "
   ]
  },
  {
   "cell_type": "code",
   "execution_count": 12,
   "metadata": {},
   "outputs": [
    {
     "name": "stdout",
     "output_type": "stream",
     "text": [
      "[[2 3 4 6 0 4 4 5 6 2]\n",
      " [5 8 3 4 2 3 6 3 2 1]\n",
      " [7 1 5 0 4 6 2 0 4 5]\n",
      " [5 3 8 7 2 4 5 7 5 1]\n",
      " [9 4 5 0 1 9 3 7 7 1]\n",
      " [7 3 8 2 7 5 4 2 6 3]\n",
      " [4 7 3 2 5 7 1 2 7 9]\n",
      " [2 2 3 2 8 4 7 6 4 0]\n",
      " [3 9 9 9 2 3 2 3 9 9]\n",
      " [0 4 2 3 9 6 7 2 5 9]]\n",
      "b =  [7 0 4 1 7 0 6 9 0 1]\n"
     ]
    },
    {
     "data": {
      "text/plain": [
       "array([107, 129, 114, 182, 172, 177, 110, 180, 128, 143])"
      ]
     },
     "execution_count": 12,
     "metadata": {},
     "output_type": "execute_result"
    }
   ],
   "source": [
    "# exemplo \n",
    "\n",
    "#n = 10\n",
    "b  = np.random.randint(10, size=(10)) \n",
    "Matriz_10 = GeraMatriz(10)\n",
    "\n",
    "print(Matriz_10)\n",
    "print(\"b = \" ,b)\n",
    "\n",
    "MultiplicaMatrizes(Matriz_10,b)\n",
    "\n"
   ]
  },
  {
   "cell_type": "code",
   "execution_count": 13,
   "metadata": {},
   "outputs": [],
   "source": [
    "def GetExemplo(Dimensao_n):\n",
    "    x = np.random.randint(10, size=(Dimensao_n)) \n",
    "    Matriz = GeraMatriz(Dimensao_n)\n",
    "    b = MultiplicaMatrizes(Matriz,x)\n",
    "\n",
    "    print(f\"Matriz{Dimensao_n}x{Dimensao_n} Gerada :\")\n",
    "    print(Matriz)\n",
    "    print(\"x = \" ,x)\n",
    "    print(\"b = \",b)\n",
    "    print(\"Ax = b\")\n",
    "    \n",
    "    return Matriz,x,b"
   ]
  },
  {
   "attachments": {},
   "cell_type": "markdown",
   "metadata": {},
   "source": [
    "### Exemplo 1 -> n = 10"
   ]
  },
  {
   "cell_type": "code",
   "execution_count": 14,
   "metadata": {},
   "outputs": [
    {
     "name": "stdout",
     "output_type": "stream",
     "text": [
      "X:  [4.999999999999999, 9.0, 3.000000000000001]\n"
     ]
    }
   ],
   "source": [
    "Ax = [[0,9, 8],\n",
    "    [4, 5 ,6],\n",
    "    [6, 4, 9]]\n",
    "\n",
    "b =  [105, 83 ,93]\n",
    "print(\"X: \",EliminacaoDeGauss(Ax,b))"
   ]
  },
  {
   "cell_type": "code",
   "execution_count": 15,
   "metadata": {},
   "outputs": [
    {
     "name": "stdout",
     "output_type": "stream",
     "text": [
      "X:  [4.999999999999997, 8.999999999999996, 3.0000000000000027]\n"
     ]
    }
   ],
   "source": [
    "Ax = [[0,9, 8],\n",
    "    [4, 5 ,6],\n",
    "    [6, 4, 9]]\n",
    "\n",
    "b =  [105, 83 ,93]\n",
    "print(\"X: \",LU_PivParc(Ax,b))"
   ]
  },
  {
   "cell_type": "code",
   "execution_count": 16,
   "metadata": {},
   "outputs": [
    {
     "name": "stdout",
     "output_type": "stream",
     "text": [
      "X por Gauss-Jacobi: None, com None iterações\n"
     ]
    }
   ],
   "source": [
    "Ax = [[0,9, 8],\n",
    "    [4, 5 ,6],\n",
    "    [6, 4, 9]]\n",
    "\n",
    "b =  [105, 83 ,93]\n",
    "resultJacobi,iteracoes = GaussJacobi(Ax,b,10000,0.000001)\n",
    "print(f\"X por Gauss-Jacobi: {resultJacobi}, com {iteracoes} iterações\")"
   ]
  },
  {
   "cell_type": "code",
   "execution_count": 28,
   "metadata": {},
   "outputs": [
    {
     "name": "stdout",
     "output_type": "stream",
     "text": [
      "Matriz4x4 Gerada :\n",
      "[[4 0 4 1]\n",
      " [0 4 4 0]\n",
      " [0 0 8 9]\n",
      " [3 0 8 5]]\n",
      "x =  [4 3 7 7]\n",
      "b =  [ 51  40 119 103]\n",
      "Ax = b\n",
      "X por eliminação de gauss:  [6.625, 6.375, 3.625, 10.0]\n",
      "X por Fatoração LU com pivoteamento parcial:  [6.625, 6.375, 3.625, 10.0]\n",
      "X por Gauss-Jacobi: None, com None iterações\n",
      "X por Gauss-Seidel: None, com None iterações\n"
     ]
    }
   ],
   "source": [
    "Ax,x,b = GetExemplo(4)\n",
    "print(\"X por eliminação de gauss: \",EliminacaoDeGauss(Ax,b))\n",
    "print(\"X por Fatoração LU com pivoteamento parcial: \",LU_PivParc(Ax,b))\n",
    "resultJacobi,iteracoes = GaussJacobi(Ax,b,100,0.000001)\n",
    "print(f\"X por Gauss-Jacobi: {resultJacobi}, com {iteracoes} iterações\")\n",
    "resultSeidel,iteracoes = GaussSeidel(Ax,b,1000,0.000001)\n",
    "print(f\"X por Gauss-Seidel: {resultSeidel}, com {iteracoes} iterações\")"
   ]
  },
  {
   "cell_type": "code",
   "execution_count": null,
   "metadata": {},
   "outputs": [],
   "source": []
  }
 ],
 "metadata": {
  "kernelspec": {
   "display_name": "Python 3",
   "language": "python",
   "name": "python3"
  },
  "language_info": {
   "codemirror_mode": {
    "name": "ipython",
    "version": 3
   },
   "file_extension": ".py",
   "mimetype": "text/x-python",
   "name": "python",
   "nbconvert_exporter": "python",
   "pygments_lexer": "ipython3",
   "version": "3.10.11"
  },
  "orig_nbformat": 4
 },
 "nbformat": 4,
 "nbformat_minor": 2
}
