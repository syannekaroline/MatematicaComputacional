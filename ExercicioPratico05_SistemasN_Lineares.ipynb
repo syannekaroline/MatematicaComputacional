{
 "cells": [
  {
   "attachments": {},
   "cell_type": "markdown",
   "metadata": {},
   "source": [
    "# Exercício prático 05 - Resolução de sistemas não lineares  \n",
    "### Resolução das matrizes jacobianas - matrizes das derivadas parciais\n",
    "### Método de newton para sistemas não Lineares\n",
    "\n"
   ]
  },
  {
   "cell_type": "code",
   "execution_count": 38,
   "metadata": {},
   "outputs": [],
   "source": [
    "def precisao_maquina():\n",
    "    \"\"\"Função que calcula a precisão da máquina\", o número positivo em aritmética de ponto flutuante 𝜀, tal que 1 + 𝜀 >1.\"\"\"\n",
    "    #passo 1\n",
    "    A=1\n",
    "    S=2\n",
    "    #passo 2\n",
    "    while(S>1):\n",
    "        A=A/2\n",
    "        S=1+A\n",
    "    prec=2*A #passo 3\n",
    "    \n",
    "    return prec\n",
    "\n",
    "# def MétodoNewton_NaoLineares(M_Jacobiana,precisao = precisao_maquina() ):\n"
   ]
  },
  {
   "cell_type": "code",
   "execution_count": 5,
   "metadata": {},
   "outputs": [],
   "source": [
    "import numpy as np\n",
    "import pandas as pd\n",
    "import sympy as sym\n",
    "\n",
    "def getMatrizJacobiana(F,n_variaveis):\n",
    "    \"\"\"Função que gera a matriz jacobiana de uma matriz de funções que recebe como parâmetro\\n\n",
    "    Parâmetros:\\n\n",
    "    F = matriz principal da qual se quer gerar a jacobiana\\n\n",
    "    Retorno:\\n Matriz Jaconiana de F\"\"\"\n",
    "\n",
    "    # pega a dimensao da matriz\n",
    "    n = len(F)\n",
    "    m = len(F[0])\n",
    "    # gera as variáveis\n",
    "    symbols = sym.symbols(f\"x1:{n_variaveis+1}\")\n",
    "    matrizJacobiana=list()# vriável que guardará o retorno da função\n",
    "\n",
    "    # print(n,m)\n",
    "    # print(symbols)\n",
    "    # percorre a matriz F\n",
    "    for i in range(n):\n",
    "        listaux=list()\n",
    "        for j in range(m):\n",
    "            f = F[i][j]\n",
    "        \n",
    "            # print(f\"Função= {f}\")\n",
    "\n",
    "            derivadas_list =list()\n",
    "            #calculo da derivada pra cada variável\n",
    "            for variable in symbols:\n",
    "                #calculo da derivada parcial\n",
    "                derivative = f.diff(variable)\n",
    "                # print(f\"Derivada de {variable} :{derivative}\")\n",
    "                derivadas_list.append(derivative)\n",
    "              \n",
    "            \n",
    "            listaux.append(derivadas_list)\n",
    "        # print(\"Lista de derivadas parciais = \",listaux)\n",
    "        matrizJacobiana.append(listaux)\n",
    "\n",
    "    return matrizJacobiana\n"
   ]
  },
  {
   "attachments": {},
   "cell_type": "markdown",
   "metadata": {},
   "source": [
    "### Exemplo de matriz jacobiana"
   ]
  },
  {
   "cell_type": "code",
   "execution_count": 64,
   "metadata": {},
   "outputs": [
    {
     "name": "stdout",
     "output_type": "stream",
     "text": [
      "Matriz F(X)\n"
     ]
    },
    {
     "data": {
      "text/html": [
       "<div>\n",
       "<style scoped>\n",
       "    .dataframe tbody tr th:only-of-type {\n",
       "        vertical-align: middle;\n",
       "    }\n",
       "\n",
       "    .dataframe tbody tr th {\n",
       "        vertical-align: top;\n",
       "    }\n",
       "\n",
       "    .dataframe thead th {\n",
       "        text-align: right;\n",
       "    }\n",
       "</style>\n",
       "<table border=\"1\" class=\"dataframe\">\n",
       "  <thead>\n",
       "    <tr style=\"text-align: right;\">\n",
       "      <th></th>\n",
       "      <th>0</th>\n",
       "    </tr>\n",
       "  </thead>\n",
       "  <tbody>\n",
       "    <tr>\n",
       "      <th>0</th>\n",
       "      <td>x1**3 - 3*x1*x2**2 + 1</td>\n",
       "    </tr>\n",
       "    <tr>\n",
       "      <th>1</th>\n",
       "      <td>3*x1**2*x2 - x2**3</td>\n",
       "    </tr>\n",
       "  </tbody>\n",
       "</table>\n",
       "</div>"
      ],
      "text/plain": [
       "                        0\n",
       "0  x1**3 - 3*x1*x2**2 + 1\n",
       "1      3*x1**2*x2 - x2**3"
      ]
     },
     "metadata": {},
     "output_type": "display_data"
    },
    {
     "name": "stdout",
     "output_type": "stream",
     "text": [
      "Matriz Jacobiana J(X)\n"
     ]
    },
    {
     "data": {
      "text/html": [
       "<div>\n",
       "<style scoped>\n",
       "    .dataframe tbody tr th:only-of-type {\n",
       "        vertical-align: middle;\n",
       "    }\n",
       "\n",
       "    .dataframe tbody tr th {\n",
       "        vertical-align: top;\n",
       "    }\n",
       "\n",
       "    .dataframe thead th {\n",
       "        text-align: right;\n",
       "    }\n",
       "</style>\n",
       "<table border=\"1\" class=\"dataframe\">\n",
       "  <thead>\n",
       "    <tr style=\"text-align: right;\">\n",
       "      <th></th>\n",
       "      <th>0</th>\n",
       "    </tr>\n",
       "  </thead>\n",
       "  <tbody>\n",
       "    <tr>\n",
       "      <th>0</th>\n",
       "      <td>[3*x1**2 - 3*x2**2, -6*x1*x2]</td>\n",
       "    </tr>\n",
       "    <tr>\n",
       "      <th>1</th>\n",
       "      <td>[6*x1*x2, 3*x1**2 - 3*x2**2]</td>\n",
       "    </tr>\n",
       "  </tbody>\n",
       "</table>\n",
       "</div>"
      ],
      "text/plain": [
       "                               0\n",
       "0  [3*x1**2 - 3*x2**2, -6*x1*x2]\n",
       "1   [6*x1*x2, 3*x1**2 - 3*x2**2]"
      ]
     },
     "metadata": {},
     "output_type": "display_data"
    }
   ],
   "source": [
    "\n",
    "#dada as funções f de 1 e f2 e a matriz F\n",
    "x1,x2 = sym.symbols(\"x1 x2\")\n",
    "f1 = x1**3 -3*x1*x2**2 +1\n",
    "f2 = 3*x1**2*x2 - x2**3\n",
    "F=[[f1],\n",
    "   [f2]]\n",
    "\n",
    "print(\"Matriz F(X)\")\n",
    "display(pd.DataFrame(F))\n",
    "print(\"Matriz Jacobiana J(X)\")\n",
    "J = getMatrizJacobiana(F,2)\n",
    "display(pd.DataFrame(J))"
   ]
  },
  {
   "attachments": {},
   "cell_type": "markdown",
   "metadata": {},
   "source": [
    "#### Construindo a representação da matriz pra receber os valores de x"
   ]
  },
  {
   "cell_type": "code",
   "execution_count": 91,
   "metadata": {},
   "outputs": [],
   "source": [
    "def F1(x):\n",
    "    return np.matrix([\n",
    "        [x[0]**3 -3*x[0]*x[1]**2+1],\n",
    "        [3*x[0]**2*x[1] - x[1]**3]\n",
    "    ])\n",
    "\n",
    "def J1(x):\n",
    "        return np.matrix([\n",
    "         [3*x[0]**2 - 3*x[1]**2 , -6*x[0]*x[1]],\n",
    "         [ 6*x[0]*x[1], 3*x[0]**2  - 3*x[1]**2 ]\n",
    "    ])\n"
   ]
  },
  {
   "attachments": {},
   "cell_type": "markdown",
   "metadata": {},
   "source": [
    "#### Resolvendo forma 1"
   ]
  },
  {
   "cell_type": "code",
   "execution_count": 90,
   "metadata": {},
   "outputs": [
    {
     "name": "stdout",
     "output_type": "stream",
     "text": [
      "[[-10]\n",
      " [ -2]]\n",
      "[[ -9 -12]\n",
      " [ 12  -9]]\n"
     ]
    }
   ],
   "source": [
    "print(F1([1,2]))\n",
    "print(J1([1,2]))"
   ]
  },
  {
   "attachments": {},
   "cell_type": "markdown",
   "metadata": {},
   "source": [
    "### Exemplo 2"
   ]
  },
  {
   "cell_type": "code",
   "execution_count": 67,
   "metadata": {},
   "outputs": [
    {
     "name": "stdout",
     "output_type": "stream",
     "text": [
      "Matriz F2(X)\n"
     ]
    },
    {
     "data": {
      "text/html": [
       "<div>\n",
       "<style scoped>\n",
       "    .dataframe tbody tr th:only-of-type {\n",
       "        vertical-align: middle;\n",
       "    }\n",
       "\n",
       "    .dataframe tbody tr th {\n",
       "        vertical-align: top;\n",
       "    }\n",
       "\n",
       "    .dataframe thead th {\n",
       "        text-align: right;\n",
       "    }\n",
       "</style>\n",
       "<table border=\"1\" class=\"dataframe\">\n",
       "  <thead>\n",
       "    <tr style=\"text-align: right;\">\n",
       "      <th></th>\n",
       "      <th>0</th>\n",
       "    </tr>\n",
       "  </thead>\n",
       "  <tbody>\n",
       "    <tr>\n",
       "      <th>0</th>\n",
       "      <td>x1**2 - cos(x1*x2) - 1</td>\n",
       "    </tr>\n",
       "    <tr>\n",
       "      <th>1</th>\n",
       "      <td>sin(x2) - 2*cos(x1)</td>\n",
       "    </tr>\n",
       "  </tbody>\n",
       "</table>\n",
       "</div>"
      ],
      "text/plain": [
       "                        0\n",
       "0  x1**2 - cos(x1*x2) - 1\n",
       "1     sin(x2) - 2*cos(x1)"
      ]
     },
     "metadata": {},
     "output_type": "display_data"
    },
    {
     "name": "stdout",
     "output_type": "stream",
     "text": [
      "Matriz Jacobiana J2(X)\n"
     ]
    },
    {
     "data": {
      "text/html": [
       "<div>\n",
       "<style scoped>\n",
       "    .dataframe tbody tr th:only-of-type {\n",
       "        vertical-align: middle;\n",
       "    }\n",
       "\n",
       "    .dataframe tbody tr th {\n",
       "        vertical-align: top;\n",
       "    }\n",
       "\n",
       "    .dataframe thead th {\n",
       "        text-align: right;\n",
       "    }\n",
       "</style>\n",
       "<table border=\"1\" class=\"dataframe\">\n",
       "  <thead>\n",
       "    <tr style=\"text-align: right;\">\n",
       "      <th></th>\n",
       "      <th>0</th>\n",
       "    </tr>\n",
       "  </thead>\n",
       "  <tbody>\n",
       "    <tr>\n",
       "      <th>0</th>\n",
       "      <td>[3*x1**2 - 3*x2**2, -6*x1*x2]</td>\n",
       "    </tr>\n",
       "    <tr>\n",
       "      <th>1</th>\n",
       "      <td>[6*x1*x2, 3*x1**2 - 3*x2**2]</td>\n",
       "    </tr>\n",
       "  </tbody>\n",
       "</table>\n",
       "</div>"
      ],
      "text/plain": [
       "                               0\n",
       "0  [3*x1**2 - 3*x2**2, -6*x1*x2]\n",
       "1   [6*x1*x2, 3*x1**2 - 3*x2**2]"
      ]
     },
     "metadata": {},
     "output_type": "display_data"
    }
   ],
   "source": [
    "from sympy import sin,cos\n",
    "f1 = x1**2 - cos(x1*x2) - 1\n",
    "f2 = sin(x2) - 2*cos(x1)\n",
    "F2_df=[[f1],\n",
    "      [f2]]\n",
    "\n",
    "print(\"Matriz F2(X)\")\n",
    "F2_df=pd.DataFrame(F2_df)\n",
    "display(F2_df)\n",
    "print(\"Matriz Jacobiana J2(X)\")\n",
    "J2_df = pd.DataFrame(getMatrizJacobiana(F,2))\n",
    "display(J2_df)"
   ]
  },
  {
   "cell_type": "code",
   "execution_count": 68,
   "metadata": {},
   "outputs": [],
   "source": [
    "import math\n",
    "def F2(x):\n",
    "    return np.matrix([ \n",
    "        [x[0]**2 - math.cos(x[0]*x[0]) - 1],\n",
    "        [math.sin(x[0]) - 2*math.cos(x[0])]])\n",
    "\n",
    "def J2(x):\n",
    "        return np.matrix([\n",
    "        [ 2*x[0] + x[1]*math.sin(x[0]*x[1]),x[0]*math.sin(x[0]*x[1]) ],\n",
    "        [2*math.sin(x[0]) , math.cos(x[1])]\n",
    "          ])\n"
   ]
  },
  {
   "attachments": {},
   "cell_type": "markdown",
   "metadata": {},
   "source": [
    "#### Exemplo 3 - livro(exemplo 5)"
   ]
  },
  {
   "cell_type": "code",
   "execution_count": 71,
   "metadata": {},
   "outputs": [
    {
     "name": "stdout",
     "output_type": "stream",
     "text": [
      "Matriz F3(X)\n"
     ]
    },
    {
     "data": {
      "text/html": [
       "<div>\n",
       "<style scoped>\n",
       "    .dataframe tbody tr th:only-of-type {\n",
       "        vertical-align: middle;\n",
       "    }\n",
       "\n",
       "    .dataframe tbody tr th {\n",
       "        vertical-align: top;\n",
       "    }\n",
       "\n",
       "    .dataframe thead th {\n",
       "        text-align: right;\n",
       "    }\n",
       "</style>\n",
       "<table border=\"1\" class=\"dataframe\">\n",
       "  <thead>\n",
       "    <tr style=\"text-align: right;\">\n",
       "      <th></th>\n",
       "      <th>0</th>\n",
       "    </tr>\n",
       "  </thead>\n",
       "  <tbody>\n",
       "    <tr>\n",
       "      <th>0</th>\n",
       "      <td>x1 + x2 - 3</td>\n",
       "    </tr>\n",
       "    <tr>\n",
       "      <th>1</th>\n",
       "      <td>x1**2 + x2**2 - 9</td>\n",
       "    </tr>\n",
       "  </tbody>\n",
       "</table>\n",
       "</div>"
      ],
      "text/plain": [
       "                   0\n",
       "0        x1 + x2 - 3\n",
       "1  x1**2 + x2**2 - 9"
      ]
     },
     "metadata": {},
     "output_type": "display_data"
    },
    {
     "name": "stdout",
     "output_type": "stream",
     "text": [
      "Matriz Jacobiana J3(X)\n"
     ]
    },
    {
     "data": {
      "text/html": [
       "<div>\n",
       "<style scoped>\n",
       "    .dataframe tbody tr th:only-of-type {\n",
       "        vertical-align: middle;\n",
       "    }\n",
       "\n",
       "    .dataframe tbody tr th {\n",
       "        vertical-align: top;\n",
       "    }\n",
       "\n",
       "    .dataframe thead th {\n",
       "        text-align: right;\n",
       "    }\n",
       "</style>\n",
       "<table border=\"1\" class=\"dataframe\">\n",
       "  <thead>\n",
       "    <tr style=\"text-align: right;\">\n",
       "      <th></th>\n",
       "      <th>0</th>\n",
       "    </tr>\n",
       "  </thead>\n",
       "  <tbody>\n",
       "    <tr>\n",
       "      <th>0</th>\n",
       "      <td>[1, 1]</td>\n",
       "    </tr>\n",
       "    <tr>\n",
       "      <th>1</th>\n",
       "      <td>[2*x1, 2*x2]</td>\n",
       "    </tr>\n",
       "  </tbody>\n",
       "</table>\n",
       "</div>"
      ],
      "text/plain": [
       "              0\n",
       "0        [1, 1]\n",
       "1  [2*x1, 2*x2]"
      ]
     },
     "metadata": {},
     "output_type": "display_data"
    }
   ],
   "source": [
    "\n",
    "F3_df=[[x1 + x2 - 3] ,\n",
    "        [x1**2 + x2**2 -9]]\n",
    "\n",
    "print(\"Matriz F3(X)\")\n",
    "display(pd.DataFrame(F3_df))\n",
    "print(\"Matriz Jacobiana J3(X)\")\n",
    "J3_df = pd.DataFrame(getMatrizJacobiana(F3_df,2))\n",
    "display(J3_df)"
   ]
  },
  {
   "cell_type": "code",
   "execution_count": 72,
   "metadata": {},
   "outputs": [],
   "source": [
    "def F3(x):  \n",
    "    return np.matrix([\n",
    "    x[0] + x[1] - 3 ,\n",
    "    x[0]**2 + x[1]**2 -9])\n",
    " \n",
    "def J3(x):  \n",
    "    return np.matrix([\n",
    "    [1 , 1],\n",
    "    [2*x[0],2*x[1]]])\n"
   ]
  },
  {
   "attachments": {},
   "cell_type": "markdown",
   "metadata": {},
   "source": [
    "## Método de newton para sistemsa não lineares"
   ]
  },
  {
   "attachments": {},
   "cell_type": "markdown",
   "metadata": {},
   "source": [
    "#### Eliminação de Gauss"
   ]
  },
  {
   "cell_type": "code",
   "execution_count": 41,
   "metadata": {},
   "outputs": [],
   "source": [
    "import numpy as np\n",
    "import pandas as pd\n",
    "\n",
    "# Resolve o sistema triangular superior.\n",
    "def SistemaTriangularSuperior(Ax,b):\n",
    "  \"\"\"Função que resolve um sistema linear triangular superior do tipo  𝐴𝑥 = b que recebe como parâmetro \"\"\"\n",
    "  n = len(b) #tamanho do vetor b\n",
    "  x= [b[i]/Ax[i][i] if i == 0 else None for i in range(0,len(b))]\n",
    "\n",
    "  x[n-1] = b[n-1]/Ax[n-1][n-1]\n",
    "  iter = 0\n",
    "  for i in list(range(n-1,0,-1)):\n",
    "    iter+=1\n",
    "    s = 0\n",
    "    for j in list(range(i+1,n+1)):\n",
    "      s = s + Ax[i-1][j-1]*x[j-1]\n",
    "\n",
    "    x[i-1] = (b[i-1]-s)/(Ax[i-1][i-1])\n",
    "\n",
    "  return [x,iter]\n",
    "\n",
    "def EliminacaoDeGauss(A,b):\n",
    "  \"\"\"Função que resolve um sistema linear do tipo Ax = b que recebe como parâmetro\n",
    "     Return : retorna o vetor x resultante\"\"\"\n",
    "  \n",
    "  # ELIMINAÇÃO DE GAUSS\n",
    "  n = len(b)\n",
    "\n",
    "  # Calculo dos pivos.\n",
    "  for k in range(1,n+1):\n",
    "    # PIVOTEAMENTO PARCIAL\n",
    "    for i in range(k+1, len(A)+1):\n",
    "      if (abs(A[i-1][k-1]) > abs(A[k-1][k-1])):\n",
    "        [A[k-1], A[i-1]] = [A[i-1], A[k-1]]\n",
    "        [b[k-1], b[i-1]] = [b[i-1], b[k-1]]\n",
    "\n",
    "    # Calculo dos multiplicadores.\n",
    "    for i in list(range(k+1,n+1)):\n",
    "      m = A[i-1][k-1]/A[k-1][k-1]\n",
    "      A[i-1][k-1] = 0\n",
    "      \n",
    "      # Atualizar demais valores da linha\n",
    "      for j in list(range(k+1,n+1)):\n",
    "        A[i-1][j-1] = A[i-1][j-1]-m*A[k-1][j-1]\n",
    "      b[i-1] = b[i-1] - m*b[k-1]\n",
    "\n",
    "  # print(\"depois da eliminação\\n Ax =  \",Ax2,\"\\nb = \",b2)\n",
    "  x = SistemaTriangularSuperior(A,b)\n",
    "  return(x)"
   ]
  },
  {
   "attachments": {},
   "cell_type": "markdown",
   "metadata": {},
   "source": [
    "#### Algoritmo de newton pra sistemas não lineares"
   ]
  },
  {
   "cell_type": "code",
   "execution_count": 96,
   "metadata": {},
   "outputs": [],
   "source": [
    "def Newton_N_Lineares(F,J,x0,e1=precisao_maquina(),e2=precisao_maquina(),it_max=10000,nw_modificado=False):  \n",
    "    verifica_precisao =np.max(F(x0)) \n",
    "\n",
    "    if verifica_precisao < e1:\n",
    "        return(x0,0)\n",
    "    xk=x0\n",
    "    # print(\"Chute Inicial : \",F(x0))\n",
    "    k=0\n",
    "\n",
    "    while(verifica_precisao>e2 and k<it_max):\n",
    "        # print(f\"\\n{k}\\n\")\n",
    "        # print(f\"J(x{k}) = \",J(xk).tolist())\n",
    "        # print(f\"-F(x{k})\",(-F(xk)[0]).tolist()[0])\n",
    "\n",
    "        s= np.matrix(EliminacaoDeGauss(J(x0).tolist(),(-F(xk)[0]).tolist()[0])[0]) if nw_modificado else np.matrix(EliminacaoDeGauss(J(xk).tolist(),(-F(xk)[0]).tolist()[0])[0])\n",
    "\n",
    "        # print(\"s = \",s)\n",
    "        xk=np.matrix(xk)\n",
    "        xkp1=xk+s # calcula 0 x^k+1\n",
    "        # print(f\"x{k+1} = {xkp1}\")\n",
    "\n",
    "        if abs(np.max(np.abs(xkp1-xk))) < e2:\n",
    "            # print(\"menor\")\n",
    "            return xkp1.tolist()[0],k\n",
    "        \n",
    "        # print(f\"{np.max(np.abs(xkp1-xk))}> e2\")\n",
    "        k+=1\n",
    "        xk=xkp1.tolist()[0] # atualiza o xk pra ser xk+1\n",
    "        # print(xk)\n",
    "        verifica_precisao=np.max(F(xk))\n",
    "\n",
    "    return xk,k"
   ]
  },
  {
   "attachments": {},
   "cell_type": "markdown",
   "metadata": {},
   "source": [
    "### Resolução do exemplo 3"
   ]
  },
  {
   "cell_type": "code",
   "execution_count": 97,
   "metadata": {},
   "outputs": [
    {
     "name": "stdout",
     "output_type": "stream",
     "text": [
      "Matriz F3(X)\n"
     ]
    },
    {
     "data": {
      "text/html": [
       "<div>\n",
       "<style scoped>\n",
       "    .dataframe tbody tr th:only-of-type {\n",
       "        vertical-align: middle;\n",
       "    }\n",
       "\n",
       "    .dataframe tbody tr th {\n",
       "        vertical-align: top;\n",
       "    }\n",
       "\n",
       "    .dataframe thead th {\n",
       "        text-align: right;\n",
       "    }\n",
       "</style>\n",
       "<table border=\"1\" class=\"dataframe\">\n",
       "  <thead>\n",
       "    <tr style=\"text-align: right;\">\n",
       "      <th></th>\n",
       "      <th>0</th>\n",
       "    </tr>\n",
       "  </thead>\n",
       "  <tbody>\n",
       "    <tr>\n",
       "      <th>0</th>\n",
       "      <td>x1 + x2 - 3</td>\n",
       "    </tr>\n",
       "    <tr>\n",
       "      <th>1</th>\n",
       "      <td>x1**2 + x2**2 - 9</td>\n",
       "    </tr>\n",
       "  </tbody>\n",
       "</table>\n",
       "</div>"
      ],
      "text/plain": [
       "                   0\n",
       "0        x1 + x2 - 3\n",
       "1  x1**2 + x2**2 - 9"
      ]
     },
     "metadata": {},
     "output_type": "display_data"
    },
    {
     "name": "stdout",
     "output_type": "stream",
     "text": [
      "Matriz Jacobiana J3(X)\n"
     ]
    },
    {
     "data": {
      "text/html": [
       "<div>\n",
       "<style scoped>\n",
       "    .dataframe tbody tr th:only-of-type {\n",
       "        vertical-align: middle;\n",
       "    }\n",
       "\n",
       "    .dataframe tbody tr th {\n",
       "        vertical-align: top;\n",
       "    }\n",
       "\n",
       "    .dataframe thead th {\n",
       "        text-align: right;\n",
       "    }\n",
       "</style>\n",
       "<table border=\"1\" class=\"dataframe\">\n",
       "  <thead>\n",
       "    <tr style=\"text-align: right;\">\n",
       "      <th></th>\n",
       "      <th>0</th>\n",
       "    </tr>\n",
       "  </thead>\n",
       "  <tbody>\n",
       "    <tr>\n",
       "      <th>0</th>\n",
       "      <td>[1, 1]</td>\n",
       "    </tr>\n",
       "    <tr>\n",
       "      <th>1</th>\n",
       "      <td>[2*x1, 2*x2]</td>\n",
       "    </tr>\n",
       "  </tbody>\n",
       "</table>\n",
       "</div>"
      ],
      "text/plain": [
       "              0\n",
       "0        [1, 1]\n",
       "1  [2*x1, 2*x2]"
      ]
     },
     "metadata": {},
     "output_type": "display_data"
    },
    {
     "name": "stdout",
     "output_type": "stream",
     "text": [
      "([1.1567124056158726e-16, 3.0], 6)\n",
      " X = [1.1567124056158726e-16, 3.0] com 6 iterações\n"
     ]
    }
   ],
   "source": [
    "print(\"Matriz F3(X)\")\n",
    "display(pd.DataFrame(F3_df))\n",
    "print(\"Matriz Jacobiana J3(X)\")\n",
    "display(J3_df)\n",
    "R1=Newton_N_Lineares(F3,J3,[1,5])\n",
    "print(R1)\n",
    "print(f\" X = {R1[0]} com {R1[1]} iterações\")"
   ]
  },
  {
   "cell_type": "code",
   "execution_count": 98,
   "metadata": {},
   "outputs": [
    {
     "name": "stdout",
     "output_type": "stream",
     "text": [
      "Matriz F2(X)\n"
     ]
    },
    {
     "data": {
      "text/html": [
       "<div>\n",
       "<style scoped>\n",
       "    .dataframe tbody tr th:only-of-type {\n",
       "        vertical-align: middle;\n",
       "    }\n",
       "\n",
       "    .dataframe tbody tr th {\n",
       "        vertical-align: top;\n",
       "    }\n",
       "\n",
       "    .dataframe thead th {\n",
       "        text-align: right;\n",
       "    }\n",
       "</style>\n",
       "<table border=\"1\" class=\"dataframe\">\n",
       "  <thead>\n",
       "    <tr style=\"text-align: right;\">\n",
       "      <th></th>\n",
       "      <th>0</th>\n",
       "    </tr>\n",
       "  </thead>\n",
       "  <tbody>\n",
       "    <tr>\n",
       "      <th>0</th>\n",
       "      <td>x1**2 - cos(x1*x2) - 1</td>\n",
       "    </tr>\n",
       "    <tr>\n",
       "      <th>1</th>\n",
       "      <td>sin(x2) - 2*cos(x1)</td>\n",
       "    </tr>\n",
       "  </tbody>\n",
       "</table>\n",
       "</div>"
      ],
      "text/plain": [
       "                        0\n",
       "0  x1**2 - cos(x1*x2) - 1\n",
       "1     sin(x2) - 2*cos(x1)"
      ]
     },
     "metadata": {},
     "output_type": "display_data"
    },
    {
     "name": "stdout",
     "output_type": "stream",
     "text": [
      "Matriz Jacobiana J3(X)\n"
     ]
    },
    {
     "data": {
      "text/html": [
       "<div>\n",
       "<style scoped>\n",
       "    .dataframe tbody tr th:only-of-type {\n",
       "        vertical-align: middle;\n",
       "    }\n",
       "\n",
       "    .dataframe tbody tr th {\n",
       "        vertical-align: top;\n",
       "    }\n",
       "\n",
       "    .dataframe thead th {\n",
       "        text-align: right;\n",
       "    }\n",
       "</style>\n",
       "<table border=\"1\" class=\"dataframe\">\n",
       "  <thead>\n",
       "    <tr style=\"text-align: right;\">\n",
       "      <th></th>\n",
       "      <th>0</th>\n",
       "    </tr>\n",
       "  </thead>\n",
       "  <tbody>\n",
       "    <tr>\n",
       "      <th>0</th>\n",
       "      <td>[3*x1**2 - 3*x2**2, -6*x1*x2]</td>\n",
       "    </tr>\n",
       "    <tr>\n",
       "      <th>1</th>\n",
       "      <td>[6*x1*x2, 3*x1**2 - 3*x2**2]</td>\n",
       "    </tr>\n",
       "  </tbody>\n",
       "</table>\n",
       "</div>"
      ],
      "text/plain": [
       "                               0\n",
       "0  [3*x1**2 - 3*x2**2, -6*x1*x2]\n",
       "1   [6*x1*x2, 3*x1**2 - 3*x2**2]"
      ]
     },
     "metadata": {},
     "output_type": "display_data"
    },
    {
     "name": "stdout",
     "output_type": "stream",
     "text": [
      "([0.9378104862657436, -0.06218951373425641], 1)\n",
      " X = [0.9378104862657436, -0.06218951373425641] com 1 iterações\n"
     ]
    }
   ],
   "source": [
    "print(\"Matriz F2(X)\")\n",
    "display(pd.DataFrame(F2_df))\n",
    "print(\"Matriz Jacobiana J3(X)\")\n",
    "display(J2_df)\n",
    "R1=Newton_N_Lineares(F2,J2,[1.5,0.5])\n",
    "print(R1)\n",
    "print(f\" X = {R1[0]} com {R1[1]} iterações\")"
   ]
  },
  {
   "attachments": {},
   "cell_type": "markdown",
   "metadata": {},
   "source": [
    "### Exemplo 6 - livro"
   ]
  },
  {
   "cell_type": "code",
   "execution_count": 102,
   "metadata": {},
   "outputs": [
    {
     "name": "stdout",
     "output_type": "stream",
     "text": [
      " X = [0.0, 3.0] com 26 iterações\n"
     ]
    }
   ],
   "source": [
    "def F6(x):  \n",
    "    return np.matrix([\n",
    "    x[0] + x[1] - 3 ,\n",
    "    x[0]**2 + x[1]**2 -9])\n",
    " \n",
    "def J6(x):  \n",
    "    return np.matrix([\n",
    "    [1 , 1],\n",
    "    [2*x[0],2*x[1]]\n",
    "    ])\n",
    "\n",
    "R=Newton_N_Lineares(F6,J6,[1,5],nw_modificado = True)\n",
    "print(f\" X = {R[0]} com {R[1]} iterações\")"
   ]
  }
 ],
 "metadata": {
  "kernelspec": {
   "display_name": "Python 3",
   "language": "python",
   "name": "python3"
  },
  "language_info": {
   "codemirror_mode": {
    "name": "ipython",
    "version": 3
   },
   "file_extension": ".py",
   "mimetype": "text/x-python",
   "name": "python",
   "nbconvert_exporter": "python",
   "pygments_lexer": "ipython3",
   "version": "3.11.1"
  },
  "orig_nbformat": 4
 },
 "nbformat": 4,
 "nbformat_minor": 2
}
