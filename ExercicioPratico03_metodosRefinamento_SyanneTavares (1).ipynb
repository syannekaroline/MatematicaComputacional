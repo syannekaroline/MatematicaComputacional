{
  "cells": [
    {
      "cell_type": "markdown",
      "metadata": {
        "id": "b47QAgMKFfuh"
      },
      "source": [
        "## Exercício prático 04"
      ]
    },
    {
      "cell_type": "markdown",
      "metadata": {
        "id": "LRGwswKoFk5p"
      },
      "source": [
        "## Eliminação de Gauss - jacobi"
      ]
    },
    {
      "cell_type": "code",
      "execution_count": 57,
      "metadata": {
        "id": "g0hq3q0aFtZJ"
      },
      "outputs": [],
      "source": [
        "import numpy as np\n",
        "import pandas as pd\n",
        "\n",
        "def pivoteamentoParcial(A):\n",
        "\n",
        "  return A\n",
        "  \n",
        "# Resolve o sistema triangular superior.\n",
        "def SistemaTriangularSuperior(Ax,b):\n",
        "  \"\"\"Função que resolve um sistema linear do tipo  𝐴𝑥 = b \"\"\"\n",
        "  n = len(b) #tamanho do vetor b\n",
        "  x= [b[i]/Ax[i][i] if i == 0 else None for i in range(0,len(b))]\n",
        "\n",
        "  x[n-1] = b[n-1]/Ax[n-1][n-1]\n",
        "\n",
        "  for i in list(range(n-1,0,-1)):\n",
        "    s = 0\n",
        "    for j in list(range(i+1,n+1)):\n",
        "      s = s + Ax[i-1][j-1]*x[j-1]\n",
        "\n",
        "    x[i-1] = (b[i-1]-s)/(Ax[i-1][i-1])\n",
        "\n",
        "  return x\n",
        "\n",
        "\n",
        "def eliminacao(A,b):\n",
        "  n = len(b)\n",
        "  x = [0]*n\n",
        "\n",
        "  # Calculo dos pivos.\n",
        "  for k in list(range(1,n)):\n",
        "    # PIVOTEAMENTO PARCIAL\n",
        "    for i in range(k+1, len(A)+1):\n",
        "      if (abs(A[i-1][k-1]) > abs(A[k-1][k-1])):\n",
        "        [A[k-1], A[i-1]] = [A[i-1], A[k-1]]\n",
        "        [b[k-1], b[i-1]] = [b[i-1], b[k-1]]\n",
        "    # Calculo dos multiplicadores.\n",
        "    for i in list(range(k+1,n+1)):\n",
        "      m = A[i-1][k-1]/A[k-1][k-1]\n",
        "      A[i-1][k-1] = 0\n",
        "      # Atualizar demais valores da linha\n",
        "      for j in list(range(k+1,n+1)):\n",
        "        A[i-1][j-1] = A[i-1][j-1]-m*A[k-1][j-1]\n",
        "      b[i-1] = b[i-1] - m*b[k-1]\n",
        "\n",
        "  return A,b\n",
        "\n",
        "def EliminacaoDeGauss(Ax,b):\n",
        "  A = pivoteamentoParcial(Ax)\n",
        "  Ax2,b2 = eliminacao(A,b)\n",
        " \n",
        "  print(\"depois da eliminação\\n Ax =  \",Ax2,\"\\nb = \",b2)\n",
        "  x = SistemaTriangularSuperior(Ax2,b2)\n",
        "  return(x)"
      ]
    },
    {
      "cell_type": "code",
      "execution_count": 58,
      "metadata": {
        "colab": {
          "base_uri": "https://localhost:8080/"
        },
        "id": "-Aa4vodCF1BR",
        "outputId": "8d945157-2677-4edd-941c-d28da631972e"
      },
      "outputs": [
        {
          "name": "stdout",
          "output_type": "stream",
          "text": [
            "depois da eliminação\n",
            " Ax =   [[4, 0, -3], [0, -4.0, 3.25], [0, 0, 4.375]] \n",
            "b =  [-2, 10.5, 8.75]\n",
            "[1.0, -1.0, 2.0]\n"
          ]
        }
      ],
      "source": [
        "Ai = [[3, -4, 1],\n",
        "      [1, 2, 2],\n",
        "      [4, 0, -3]]\n",
        "\n",
        "bi = [9, 3, -2]\n",
        "\n",
        "print(EliminacaoDeGauss(Ai,bi))"
      ]
    },
    {
      "cell_type": "markdown",
      "metadata": {
        "id": "CxnWj384F4JZ"
      },
      "source": [
        "## Fatoração LU com pivoteamento LU"
      ]
    },
    {
      "cell_type": "code",
      "execution_count": 63,
      "metadata": {
        "id": "hVpvrLBIGBOp"
      },
      "outputs": [],
      "source": [
        "def formata_matriz(M):\n",
        "  m = len(M) # número de linhas\n",
        "  n = len(M[0]) # número de colunas\n",
        "  s = \"\"\n",
        "  for i in range(m):\n",
        "      for j in range(n):\n",
        "          s += \"%9.3f \" % M[i][j]\n",
        "      s +=  \"\\n\"\n",
        "  return s\n",
        "\n",
        "# Resolve o sistema triangular inferior.\n",
        "def SistemaTriangularInferior(L,b):\n",
        "  n = len(b)\n",
        "  \n",
        "  y= [b[i]/L[i][i] if i == 0 else None for i in range(0,len(b))]\n",
        "\n",
        "  for i in list(range(1,n+1,1)):\n",
        "    s = 0\n",
        "    for j in list(range(1,i,1)):\n",
        "      s = s + L[i-1][j-1]*y[j-1]\n",
        "\n",
        "    y[i-1] = b[i-1] - s\n",
        "\n",
        "  return y\n",
        "\n",
        "def LU_PivParc(A,b):\n",
        "  n = len(A)\n",
        "  p=[0]*n\n",
        "  \n",
        "\n",
        "  ###### pivoteamento parcial \n",
        "  p = list(range(1,n+1)) #\"matriz permutação\"\n",
        "\n",
        "  for k in range(1,n):\n",
        "    pv = abs(A[k-1][k-1])\n",
        "    Lpivo = k\n",
        "\n",
        "    for i in range(k+1,n+1):\n",
        "        if abs(A[i-1][k-1])> pv :\n",
        "          pv = abs(A[i-1][k-1])\n",
        "          Lpivo = i\n",
        "  \n",
        "    if pv == 0: \n",
        "      print(\"Matriz Singular\")\n",
        "      break\n",
        "\n",
        "    if Lpivo != k : # se for diferente então tem que realizar a permutação\n",
        "      [p[k-1],p[Lpivo-1]] = [p[Lpivo-1],p[k-1]] # recurso guanabaristico\n",
        "    \n",
        "      for j in range(1,n+1):\n",
        "          [A[k-1][j-1],A[Lpivo-1][j-1]] = [A[Lpivo-1][j-1],A[k-1][j-1]] \n",
        "\n",
        "  # resolução dos sistemas triangulares\n",
        "  # Calculo dos pivos.\n",
        "  for k in list(range(1,n,1)):\n",
        "    # Calculo dos multiplicadores.\n",
        "    for i in list(range(k+1,n+1,1)):\n",
        "      m = A[i-1][k-1]/A[k-1][k-1]\n",
        "      A[i-1][k-1] = m\n",
        "      # Atualizar demais valores da linha\n",
        "      for j in list(range(k+1,n+1,1)):\n",
        "        A[i-1][j-1] = A[i-1][j-1]-m*A[k-1][j-1]\n",
        "  ### multiplicação da b pela \"matriz permutação\"\n",
        "  c=[None for _ in range(0,len(b))]\n",
        "  for i in range(1,n+1):\n",
        "    Lpivo = p[i-1]\n",
        "    c[i-1]=b[Lpivo-1]\n",
        "\n",
        "  # resolução dos sistemas \n",
        "  y = SistemaTriangularInferior(A,c)\n",
        "  x = SistemaTriangularSuperior(A,y)\n",
        "\n",
        "  return x"
      ]
    },
    {
      "cell_type": "code",
      "execution_count": 64,
      "metadata": {
        "colab": {
          "base_uri": "https://localhost:8080/"
        },
        "id": "RW8j3mP-GJup",
        "outputId": "ae8cd516-4c85-4469-fab7-58cba2a0e89c"
      },
      "outputs": [
        {
          "name": "stdout",
          "output_type": "stream",
          "text": [
            "Resolução final\n",
            "[1.0, -1.0, 2.0]\n"
          ]
        }
      ],
      "source": [
        "# Teste com dados.\n",
        "Ai = [[3, -4, 1],\n",
        "      [1, 2, 2],\n",
        "      [4, 0, -3]]\n",
        "\n",
        "bi = [9, 3, -2]\n",
        "\n",
        "# Obtendo os fatores L e U.\n",
        "\n",
        "print(\"Resolução final\")\n",
        "\n",
        "print(LU_PivParc(Ai,bi))"
      ]
    },
    {
      "cell_type": "markdown",
      "metadata": {
        "id": "HoK43PO0SScy"
      },
      "source": [
        "## Gauss - jacobi"
      ]
    },
    {
      "cell_type": "code",
      "execution_count": null,
      "metadata": {
        "id": "WonHXnJFSs2k"
      },
      "outputs": [],
      "source": [
        "import math\n",
        "\n",
        "def comparar(x,xk,eps):\n",
        "  soma = 0\n",
        "  zip_object = zip(x, xk)\n",
        "  for list1_i, list2_i in zip_object:\n",
        "    soma = soma + math.fabs(list1_i-list2_i)\n",
        "\n",
        "  if (soma < eps):\n",
        "    return True\n",
        "  else:\n",
        "    return False   \n",
        "\n",
        "\n",
        "def gaussJacobi(A,b,maxiter,eps):\n",
        "  n = len(b)\n",
        "  sol = True\n",
        "  x = b.copy()\n",
        "  for i in list(range(1,n+1,1)):\n",
        "    if (math.fabs(A[i-1][i-1]) > 0.0):\n",
        "      x[i-1] = b[i-1]/A[i-1][i-1]\n",
        "    else:\n",
        "      sol = False\n",
        "      break\n",
        "  \n",
        "  if (sol):\n",
        "    print(\"Iteração 0\")\n",
        "    print(\"x = \",x)\n",
        "    xk = x.copy()\n",
        "    #maxiter = 10\n",
        "    #eps     = 0.01\n",
        "    iter    = 0\n",
        " \n",
        "    while (iter < maxiter):\n",
        "      iter = iter + 1\n",
        "      for i in list(range(1,n+1,1)):\n",
        "        s = 0\n",
        "        for j in list(range(1,n+1,1)):\n",
        "          if ((i-1) != (j-1)):\n",
        "            s = s + A[i-1][j-1]*x[j-1]\n",
        "\n",
        "        xk[i-1] = (1/A[i-1][i-1])*(b[i-1]-s)\n",
        "     \n",
        "      print(\"Iteração: \",iter)\n",
        "      print(\"xk = \",xk)\n",
        "      if comparar(x,xk,eps):\n",
        "        x = xk.copy()\n",
        "        break    \n",
        "      x = xk.copy()\n",
        "     \n",
        "   \n",
        "  return x\n",
        "\n",
        "\n",
        "\n",
        "\n",
        "A = [[10, 2,  1],\n",
        "     [ 1, 5,  1],\n",
        "     [ 2, 3, 10]]\n",
        "\n",
        "b = [7, -8, 6]\n",
        "\n",
        "x = gaussJacobi(A,b,10,0.01)\n",
        "print(\"x = \",x)"
      ]
    }
  ],
  "metadata": {
    "colab": {
      "provenance": []
    },
    "kernelspec": {
      "display_name": "Python 3",
      "language": "python",
      "name": "python3"
    },
    "language_info": {
      "codemirror_mode": {
        "name": "ipython",
        "version": 3
      },
      "file_extension": ".py",
      "mimetype": "text/x-python",
      "name": "python",
      "nbconvert_exporter": "python",
      "pygments_lexer": "ipython3",
      "version": "3.10.11"
    },
    "orig_nbformat": 4
  },
  "nbformat": 4,
  "nbformat_minor": 0
}
