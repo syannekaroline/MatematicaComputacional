{
 "cells": [
  {
   "attachments": {},
   "cell_type": "markdown",
   "metadata": {},
   "source": [
    "### Exercício Prático 07 - Integração numérica - Syanne Tavares"
   ]
  },
  {
   "attachments": {},
   "cell_type": "markdown",
   "metadata": {},
   "source": [
    "### 1 - Escolha 3 funções ao acaso, sendo uma polinomial, outra exponencial e outra senoidal."
   ]
  },
  {
   "cell_type": "code",
   "execution_count": 105,
   "metadata": {},
   "outputs": [],
   "source": [
    "import numpy as np\n",
    "import math\n",
    "from numpy.linalg import solve\n",
    "import matplotlib.pyplot as plt\n",
    "import plotly.graph_objects as go"
   ]
  },
  {
   "attachments": {},
   "cell_type": "markdown",
   "metadata": {},
   "source": [
    "#### 2 - Calcule a integral numérica dessas funções em 5 pontos (𝑥1 − 𝑥0 ≈ 0) igualmente espaçados;"
   ]
  },
  {
   "attachments": {},
   "cell_type": "markdown",
   "metadata": {},
   "source": [
    "3 -Utilize esses 5 pontos para fazer um ajuste de curva e\n",
    "encontrar a integral aproximada para qualquer ponto por meio\n",
    "da curva encontrada.\n",
    "\n",
    "4- Mostre a resposta visualmente por meio de um gráfico."
   ]
  },
  {
   "attachments": {},
   "cell_type": "markdown",
   "metadata": {},
   "source": [
    "##### Calculo das integrais\n",
    "1- Regra do trapézio"
   ]
  },
  {
   "cell_type": "code",
   "execution_count": 106,
   "metadata": {},
   "outputs": [],
   "source": [
    "f = lambda x : math.exp(x)\n",
    "\n",
    "def trapezio(f,a,b):\n",
    "  \"\"\"Função que calcula a regra do trapézio/ integral de uma função f no intervalo [a,b].\"\"\"\n",
    "  h = b - a\n",
    "  b = (f(a) + f(b))/2\n",
    "  y = b*h \n",
    "  return y"
   ]
  },
  {
   "cell_type": "code",
   "execution_count": 107,
   "metadata": {},
   "outputs": [
    {
     "name": "stdout",
     "output_type": "stream",
     "text": [
      "e^1 =  2.718281828459045\n",
      " Integral de f no intervalo  [0 , 1] =  1.8591409142295225\n"
     ]
    }
   ],
   "source": [
    "print(\"e^1 = \",f(1))\n",
    "x = [0, 1]\n",
    "print(f\" Integral de f no intervalo  [{x[0]} , {x[1]}] = \",trapezio(f,0,1))"
   ]
  },
  {
   "attachments": {},
   "cell_type": "markdown",
   "metadata": {},
   "source": [
    "2- Regra do trapézio repetida"
   ]
  },
  {
   "cell_type": "code",
   "execution_count": 108,
   "metadata": {},
   "outputs": [],
   "source": [
    "# a = inicio, b = fim, m = iteração\n",
    "def trapezioR(f, LimInferior, LimSuperior, N_Iteracoes):\n",
    "  \"\"\"Função que calcula a regra dos trapézios/ Integral de uma função f no intervalo recebido por parâmetro.\\n\n",
    "  Parâmetros:\\n\n",
    "  f -> Função pro calculo da integral.\\n\n",
    "  LimInferior -> limite inferior da integral\\n\n",
    "  LimSuperior -> limite superior da integral.\\n\n",
    "  N_Interações -> número de iterações.\"\"\"\n",
    "\n",
    "  H = LimSuperior-LimInferior\n",
    "  h = H/N_Iteracoes\n",
    "  sum = f(LimInferior)+f(LimSuperior)\n",
    "  sum_aux= 0\n",
    "  for i in range(1, N_Iteracoes):\n",
    "    sum_aux+=f(LimInferior+i*h)\n",
    "  sum += 2*sum_aux\n",
    "  sum*=h/2\n",
    "  return sum"
   ]
  },
  {
   "cell_type": "code",
   "execution_count": 109,
   "metadata": {},
   "outputs": [
    {
     "name": "stdout",
     "output_type": "stream",
     "text": [
      "e^1 =  2.718281828459045\n",
      " Integral de f no intervalo  [0 , 1] =  1.7182819716491962\n"
     ]
    }
   ],
   "source": [
    "\n",
    "print(\"e^1 = \",f(1))\n",
    "x = [0, 1]\n",
    "print(f\" Integral de f no intervalo  [{x[0]} , {x[1]}] = \",trapezioR(f,x[0],x[1],1000))"
   ]
  },
  {
   "cell_type": "code",
   "execution_count": 110,
   "metadata": {},
   "outputs": [],
   "source": [
    "def GetIntegral(f, limInf, LimSup, N_pontos):\n",
    "  \"\"\"Função que calcula a integral em pontos igualmente espaçados.\\n\n",
    "  Parâmetros:\\n\n",
    "  f -> função pro calculo da integral.\\n\n",
    "  limInf -> limite inferior pro calculo da integral.\\n\n",
    "  limSup -> limite superior pro calculo da integral.\\n\n",
    "  N_pontos -> Número de pontos entre o intervalo.\\n\n",
    "  Retorna uma lista com os valores da integral pros pontos x.\\n\n",
    "  \"\"\"\n",
    "\n",
    "  p = 1e-10\n",
    "  x = np.linspace(limInf, LimSup, N_pontos)\n",
    "  result = []\n",
    "  for e in x:\n",
    "    result.append(trapezioR(f, e, e+p, 10000))\n",
    "\n",
    "  return result"
   ]
  },
  {
   "attachments": {},
   "cell_type": "markdown",
   "metadata": {},
   "source": [
    "### Código do ajuste de curva"
   ]
  },
  {
   "cell_type": "code",
   "execution_count": 199,
   "metadata": {},
   "outputs": [],
   "source": [
    "class MQ:\n",
    "  def __init__(self):\n",
    "    self.alfas = []\n",
    "\n",
    "  def fit_exp(self, x, y,printValues=False):\n",
    "\n",
    "    self.alfas=[]\n",
    "    z = np.log(y)# calcula o vetor z ln(y)\n",
    "    # linearização\n",
    "    self.fit(x, z, [lambda x:1, lambda x:x]) # calcula os valores de alfa com vetor z g1=1 e g2 = x\n",
    "    self.alfas[0] = math.e**self.alfas[0] # calcula o a1\n",
    "    self.alfas[1] = -self.alfas[1] # calcula o a2\n",
    "    \n",
    "    if printValues:\n",
    "      print(\"Valores do sistema linear Criado:\")\n",
    "\n",
    "\n",
    "  def fit(self,x,y,G,printValues=False):\n",
    "    \"\"\"método que calcula os valores deo vetor de alfas.\\n\n",
    "      Parâmetros:\\n\n",
    "      x= vetor de valores de xi tabelados\\n\n",
    "      y= vetor de valores de yi tabelados\\n\n",
    "      G= Vetor com as n funções g1(x),...gn(x), ex: [lambda x:1, lambda x:x,lambda x:x**2].\\n\\n \n",
    "      \n",
    "      Retorno:\\n\n",
    "      calcula os valores de alfas\n",
    "      printa os valores dos alfas calculados.\"\"\"\n",
    "    self.G=G\n",
    "    A=[]\n",
    "    B=[]\n",
    "    j=0\n",
    "    for g_lin in G:\n",
    "      b=0\n",
    "      for i in range(0,len(x)):\n",
    "        b+=g_lin(x[i])*y[i]\n",
    "      B.append(b)\n",
    "      A.append([])\n",
    "      for g_col in G:\n",
    "        a=0\n",
    "        for i in range(0,len(x)):\n",
    "          a+=g_lin(x[i])*g_col(x[i])\n",
    "        A[j].append(a)\n",
    "      j+=1\n",
    "\n",
    "    mat = np.append(A, np.array([B]).T,axis=1)\n",
    "    #Valores do sistema linear Criado.\n",
    "    self.alfas = solve(A, B)\n",
    "    \n",
    "    if printValues:\n",
    "      print(\"Valores do sistema linear Criado:\")\n",
    "      print('A: ', A)\n",
    "      print('B: ', B)\n",
    "      print('Matriz:\\n', mat)\n",
    "      print(f\"Alfas: {self.alfas}\")\n",
    "\n",
    "  def calc(self, x):\n",
    "    \"\"\"Calcula o somatório do valor de x aplicado em cada função vo vetor de funções g.\"\"\"\n",
    "    s = 0\n",
    "    # print(self.alfas)\n",
    "    for i in range(0,len(self.G)):\n",
    "      s+=self.alfas[i]*self.G[i](x)\n",
    "    return s\n",
    "  \n",
    "  def calc_exp(self, x):\n",
    "    \"\"\"retorna o valor da função phi no ponto x para casos não lineares.\"\"\"\n",
    "    # calculo da phi pra um ponto x\n",
    "    return self.alfas[0]*(math.e**(-self.alfas[1]*x))\n",
    "  \n",
    "  def plotPontos(self,x,y):\n",
    "    \"\"\"Método que plota o gráfico dos pontos tabelados\"\"\"\n",
    "    plt.plot(x, y,'ro')# plota como pontos\n",
    "    plt.title('Gráfico dos pontos tabelados')\n",
    "\n",
    "    plt.grid()\n",
    "    plt.show()\n",
    "\n",
    "  def PrintAjusteCurva(self,x,y,Linear=True,NaoLinear=False):\n",
    "    \"\"\"Método que mostra o gráfico do ajuste de curva.Os alfas já devem ter sido calculados com o método fit.\"\"\"\n",
    "    x_line = np.linspace(min(x)-0.0001, max(x)+0.0001, 100)\n",
    "    ###############\n",
    "    graph = go.Figure()\n",
    "    graph.update_layout(\n",
    "      title=\"Ajuste De Curva\",\n",
    "      xaxis_title=\"X\",\n",
    "      yaxis_title=\"Y\"\n",
    "    )\n",
    "    ##############\n",
    "    if Linear:\n",
    "      y_line = list(map(lambda x: self.calc(x), x_line))\n",
    "      plt.plot(x_line,y_line,'g-',label= 'Função linear')\n",
    "      graph.add_trace(go.Scatter(x=x_line, y=y_line,mode='lines', name='Linear'))\n",
    "    plt.title('Gráfico Ajuste de Curva')\n",
    "\n",
    "    if NaoLinear:\n",
    "      # self.fit_exp(x, y)\n",
    "      y_nlinear = list(map(lambda x: self.calc_exp(x), x_line))\n",
    "      plt.plot(x_line,y_nlinear,'b-',label= 'Função Não linear')\n",
    "      graph.add_trace(go.Scatter(x=x_line, y=y_nlinear,mode='lines', name='Exponecial'))\n",
    "\n",
    "    plt.plot(x, y,'ro')# plota como pontos \n",
    "    plt.legend()\n",
    "    plt.grid()\n",
    "    plt.show()\n",
    "    \n",
    "    graph.add_trace(go.Scatter(x=x, y=y,mode='markers', name='(x,y)'))\n",
    "    graph.show()"
   ]
  },
  {
   "cell_type": "code",
   "execution_count": 112,
   "metadata": {},
   "outputs": [],
   "source": [
    "\n",
    "def plotar_grafico(funcao, intervalo_x,pontos=[],label=\"\"):\n",
    "    \"\"\"Plota o gráfico de uma função em determina intervalo.\\n\n",
    "    Parâmetros:\\n\n",
    "    função = função a ser plotada. ex :lambda x: np.sin(x).zn\n",
    "     Intervalo_x =  Intervalo a ser considerado. ex: (-np.pi, np.pi) \"\"\"\n",
    "    x = np.linspace(intervalo_x[0], intervalo_x[1], 1000)  # Gera 100 pontos igualmente espaçados no intervalo x\n",
    "    y = funcao(x)  # Avalia a função para cada valor de x\n",
    "    \n",
    "    pontosDestaquey=funcao(pontos)\n",
    "    plt.plot(x, y,label=label)  # Plota o gráfico\n",
    "    \n",
    "    # Configurações adicionais (opcional)\n",
    "    plt.xlabel('x')\n",
    "    plt.ylabel('y')\n",
    "    if len(pontos) :\n",
    "        plt.plot(pontos, pontosDestaquey,'ro')# plota como pontos \n",
    "    plt.title('Gráfico da função')\n",
    "    \n",
    "    plt.grid(True)  # Adiciona linhas de grade ao gráfico\n",
    "    plt.legend()\n",
    "    plt.show()  # Mostra o gráfico\n",
    "# # Exemplo de uso:\n",
    "# def minha_funcao(x):\n",
    "#     return np.sin(x)  # Exemplo de função (seno)\n",
    "\n",
    "# intervalo = (-np.pi, np.pi)  # Exemplo de intervalo de x (-pi a pi)\n",
    "\n",
    "# plotar_grafico(minha_funcao, intervalo)"
   ]
  },
  {
   "attachments": {},
   "cell_type": "markdown",
   "metadata": {},
   "source": [
    "## f1 = lambda x: 3*x**3 - 3*x+1"
   ]
  },
  {
   "cell_type": "code",
   "execution_count": 194,
   "metadata": {},
   "outputs": [
    {
     "data": {
      "image/png": "[encoded data removed]",
      "text/plain": [
       "<Figure size 640x480 with 1 Axes>"
      ]
     },
     "metadata": {},
     "output_type": "display_data"
    }
   ],
   "source": [
    "f1 = lambda x: 3*x**3 - 3*x+1\n",
    "plotar_grafico(f1,(1,3),np.linspace(1,3,5),\"3x**3 - 3x+1\")\n"
   ]
  },
  {
   "cell_type": "code",
   "execution_count": 195,
   "metadata": {},
   "outputs": [
    {
     "name": "stdout",
     "output_type": "stream",
     "text": [
      "[1.  1.5 2.  2.5 3. ]\n",
      "[1.0000000830403712e-10, 6.625000549017446e-10, 1.9000001573717034e-09, 4.037500334330498e-09, 7.300000604394711e-09]\n"
     ]
    },
    {
     "data": {
      "image/png": "[encoded data removed]",
      "text/plain": [
       "<Figure size 640x480 with 1 Axes>"
      ]
     },
     "metadata": {},
     "output_type": "display_data"
    }
   ],
   "source": [
    "X1 = np.linspace(1,3,5)\n",
    "Y1 = GetIntegral(f1,1,3,5)\n",
    "print(X1)\n",
    "print(Y1)\n",
    "\n",
    "###### Calulando o ajuste de curva \n",
    "mq = MQ()\n",
    "mq.plotPontos(X1,Y1)"
   ]
  },
  {
   "cell_type": "code",
   "execution_count": 200,
   "metadata": {},
   "outputs": [
    {
     "data": {
      "image/png": "[encoded data removed]",
      "text/plain": [
       "<Figure size 640x480 with 1 Axes>"
      ]
     },
     "metadata": {},
     "output_type": "display_data"
    },
    {
     "data": {
      "application/vnd.plotly.v1+json": {
       "config": {
        "plotlyServerURL": "https://plot.ly"
       },
       "data": [
        {
         "mode": "lines",
         "name": "Linear",
         "type": "scatter",
         "x": [
          0.9999,
          1.0201040404040405,
          1.040308080808081,
          1.0605121212121214,
          1.0807161616161616,
          1.100920202020202,
          1.1211242424242425,
          1.141328282828283,
          1.1615323232323234,
          1.1817363636363636,
          1.201940404040404,
          1.2221444444444445,
          1.242348484848485,
          1.2625525252525254,
          1.2827565656565656,
          1.3029606060606063,
          1.3231646464646465,
          1.343368686868687,
          1.3635727272727274,
          1.3837767676767678,
          1.4039808080808083,
          1.4241848484848485,
          1.444388888888889,
          1.4645929292929294,
          1.4847969696969698,
          1.5050010101010103,
          1.5252050505050505,
          1.5454090909090912,
          1.5656131313131314,
          1.5858171717171718,
          1.6060212121212123,
          1.6262252525252525,
          1.6464292929292932,
          1.6666333333333334,
          1.6868373737373739,
          1.7070414141414143,
          1.7272454545454548,
          1.7474494949494952,
          1.7676535353535354,
          1.787857575757576,
          1.8080616161616163,
          1.8282656565656568,
          1.8484696969696972,
          1.8686737373737374,
          1.888877777777778,
          1.9090818181818183,
          1.9292858585858588,
          1.9494898989898992,
          1.9696939393939397,
          1.98989797979798,
          2.0101020202020203,
          2.030306060606061,
          2.0505101010101012,
          2.0707141414141415,
          2.090918181818182,
          2.111122222222223,
          2.1313262626262626,
          2.1515303030303032,
          2.171734343434344,
          2.191938383838384,
          2.2121424242424244,
          2.232346464646465,
          2.2525505050505052,
          2.2727545454545455,
          2.292958585858586,
          2.313162626262627,
          2.333366666666667,
          2.3535707070707073,
          2.373774747474748,
          2.393978787878788,
          2.4141828282828284,
          2.434386868686869,
          2.4545909090909097,
          2.4747949494949495,
          2.49499898989899,
          2.515203030303031,
          2.535407070707071,
          2.5556111111111113,
          2.575815151515152,
          2.596019191919192,
          2.6162232323232324,
          2.636427272727273,
          2.6566313131313137,
          2.676835353535354,
          2.697039393939394,
          2.717243434343435,
          2.737447474747475,
          2.7576515151515153,
          2.777855555555556,
          2.7980595959595966,
          2.818263636363637,
          2.838467676767677,
          2.8586717171717178,
          2.878875757575758,
          2.899079797979798,
          2.919283838383839,
          2.9394878787878795,
          2.9596919191919193,
          2.97989595959596,
          3.0001
         ],
         "y": [
          3.8072104155078476e-10,
          3.887051814524233e-10,
          3.972856325941798e-10,
          4.0647456540435784e-10,
          4.162843987039034e-10,
          4.267278047759828e-10,
          4.378177145390225e-10,
          4.49567322825334e-10,
          4.6199009376746954e-10,
          4.750997662945116e-10,
          4.889103597405404e-10,
          5.034361795675645e-10,
          5.186918232052563e-10,
          5.346921860098734e-10,
          5.514524673447976e-10,
          5.689881767851761e-10,
          5.873151404491945e-10,
          6.064495074585715e-10,
          6.264077565309059e-10,
          6.472067027065704e-10,
          6.688635042129007e-10,
          6.913956694684792e-10,
          7.148210642303669e-10,
          7.391579188872179e-10,
          7.644248359012295e-10,
          7.906407974019919e-10,
          8.178251729353154e-10,
          8.459977273702123e-10,
          8.751786289672536e-10,
          9.053884576116015e-10,
          9.366482132140669e-10,
          9.68979324283637e-10,
          1.002403656674957e-9,
          1.036943522514348e-9,
          1.0726216893079992e-9,
          1.109461389236052e-9,
          1.1474863286363788e-9,
          1.1867206976819105e-9,
          1.227189180255483e-9,
          1.2689169640262221e-9,
          1.3119297507315771e-9,
          1.356253766669216e-9,
          1.4019157734030463e-9,
          1.4489430786877419e-9,
          1.497363547616244e-9,
          1.5472056139947597e-9,
          1.5984982919499363e-9,
          1.651271187772922e-9,
          1.705554512005163e-9,
          1.7613790917708608e-9,
          1.8187763833611332e-9,
          1.8777784850750185e-9,
          1.938418150322538e-9,
          2.0007288009952116e-9,
          2.0647445411094415e-9,
          2.130500170728354e-9,
          2.1980312001677796e-9,
          2.267373864492189e-9,
          2.338565138306442e-9,
          2.4116427508494713e-9,
          2.4866452013960025e-9,
          2.563611774972617e-9,
          2.6425825583945653e-9,
          2.7235984566299046e-9,
          2.806701209497599e-9,
          2.891933408706431e-9,
          2.9793385152416636e-9,
          3.0689608771065676e-9,
          3.160845747426032e-9,
          3.2550393029196557e-9,
          3.3515886627518945e-9,
          3.450541907766898e-9,
          3.5519481001159336e-9,
          3.6558573032853995e-9,
          3.762320602533611e-9,
          3.871390125744652e-9,
          3.983119064707891e-9,
          4.0975616968317764e-9,
          4.214773407300803e-9,
          4.334810711684687e-9,
          4.457731279009002e-9,
          4.583593955296661e-9,
          4.712458787589859e-9,
          4.8443870484623154e-9,
          4.979441261031792e-9,
          5.1176852244830924e-9,
          5.259184040111983e-9,
          5.4040041379006625e-9,
          5.552213303635621e-9,
          5.703880706578946e-9,
          5.859076927704406e-9,
          6.01787398850983e-9,
          6.180345380417499e-9,
          6.346566094774601e-9,
          6.5166126534660004e-9,
          6.690563140151769e-9,
          6.868497232142279e-9,
          7.050496232923838e-9,
          7.236643105348194e-9,
          7.427022505499346e-9
         ]
        },
        {
         "mode": "lines",
         "name": "Exponecial",
         "type": "scatter",
         "x": [
          0.9999,
          1.0201040404040405,
          1.040308080808081,
          1.0605121212121214,
          1.0807161616161616,
          1.100920202020202,
          1.1211242424242425,
          1.141328282828283,
          1.1615323232323234,
          1.1817363636363636,
          1.201940404040404,
          1.2221444444444445,
          1.242348484848485,
          1.2625525252525254,
          1.2827565656565656,
          1.3029606060606063,
          1.3231646464646465,
          1.343368686868687,
          1.3635727272727274,
          1.3837767676767678,
          1.4039808080808083,
          1.4241848484848485,
          1.444388888888889,
          1.4645929292929294,
          1.4847969696969698,
          1.5050010101010103,
          1.5252050505050505,
          1.5454090909090912,
          1.5656131313131314,
          1.5858171717171718,
          1.6060212121212123,
          1.6262252525252525,
          1.6464292929292932,
          1.6666333333333334,
          1.6868373737373739,
          1.7070414141414143,
          1.7272454545454548,
          1.7474494949494952,
          1.7676535353535354,
          1.787857575757576,
          1.8080616161616163,
          1.8282656565656568,
          1.8484696969696972,
          1.8686737373737374,
          1.888877777777778,
          1.9090818181818183,
          1.9292858585858588,
          1.9494898989898992,
          1.9696939393939397,
          1.98989797979798,
          2.0101020202020203,
          2.030306060606061,
          2.0505101010101012,
          2.0707141414141415,
          2.090918181818182,
          2.111122222222223,
          2.1313262626262626,
          2.1515303030303032,
          2.171734343434344,
          2.191938383838384,
          2.2121424242424244,
          2.232346464646465,
          2.2525505050505052,
          2.2727545454545455,
          2.292958585858586,
          2.313162626262627,
          2.333366666666667,
          2.3535707070707073,
          2.373774747474748,
          2.393978787878788,
          2.4141828282828284,
          2.434386868686869,
          2.4545909090909097,
          2.4747949494949495,
          2.49499898989899,
          2.515203030303031,
          2.535407070707071,
          2.5556111111111113,
          2.575815151515152,
          2.596019191919192,
          2.6162232323232324,
          2.636427272727273,
          2.6566313131313137,
          2.676835353535354,
          2.697039393939394,
          2.717243434343435,
          2.737447474747475,
          2.7576515151515153,
          2.777855555555556,
          2.7980595959595966,
          2.818263636363637,
          2.838467676767677,
          2.8586717171717178,
          2.878875757575758,
          2.899079797979798,
          2.919283838383839,
          2.9394878787878795,
          2.9596919191919193,
          2.97989595959596,
          3.0001
         ],
         "y": [
          1.627310047081125e-10,
          1.6970737029895323e-10,
          1.76982816430373e-10,
          1.8457016484581237e-10,
          1.9248278696374072e-10,
          2.0073462744252093e-10,
          2.0934022875551045e-10,
          2.1831475681971215e-10,
          2.2767402772313745e-10,
          2.3743453559798754e-10,
          2.476134816887719e-10,
          2.5822880466659244e-10,
          2.692992122430175e-10,
          2.8084421413926066e-10,
          2.9288415646876405e-10,
          3.0544025759378397e-10,
          3.185346455191635e-10,
          3.32190396889202e-10,
          3.4643157765633596e-10,
          3.6128328549331146e-10,
          3.7677169402358694e-10,
          3.9292409894791956e-10,
          4.0976896614842123e-10,
          4.2733598185486177e-10,
          4.456561049616282e-10,
          4.647616215875415e-10,
          4.846862019746802e-10,
          5.054649598264896e-10,
          5.271345141897423e-10,
          5.497330539894204e-10,
          5.733004053302335e-10,
          5.978781016833948e-10,
          6.235094570823416e-10,
          6.5023964245639e-10,
          6.781157652368648e-10,
          7.071869523759758e-10,
          7.375044369247664e-10,
          7.691216483226987e-10,
          8.020943065580082e-10,
          8.364805203647596e-10,
          8.723408896296607e-10,
          9.097386121891183e-10,
          9.487395952047354e-10,
          9.894125713135375e-10,
          1.031829219757625e-9,
          1.076064292706709e-9,
          1.122195746996177e-9,
          1.170304881512826e-9,
          1.2204764804704027e-9,
          1.2727989628274465e-9,
          1.3273645381107437e-9,
          1.3842693689190332e-9,
          1.4436137403933162e-9,
          1.505502236952464e-9,
          1.5700439266055711e-9,
          1.637352553165865e-9,
          1.7075467367049516e-9,
          1.7807501826006375e-9,
          1.8570918995467218e-9,
          1.93670642690901e-9,
          2.019734071828199e-9,
          2.1063211564874793e-9,
          2.196620275980636e-9,
          2.2907905672350987e-9,
          2.3889979894638694e-9,
          2.4914156166405594e-9,
          2.598223942513003e-9,
          2.7096111986929716e-9,
          2.8257736863825485e-9,
          2.9469161223217976e-9,
          3.073251999567414e-9,
          3.2050039637381118e-9,
          3.342404205389888e-9,
          3.485694869212602e-9,
          3.6351284807690665e-9,
          3.790968391528608e-9,
          3.95348924297952e-9,
          4.122977450638242e-9,
          4.299731708808271e-9,
          4.484063516978329e-9,
          4.676297728787581e-9,
          4.8767731245252096e-9,
          5.08584300817338e-9,
          5.3038758300457666e-9,
          5.531255836118931e-9,
          5.768383745200869e-9,
          6.0156774551301225e-9,
          6.273572779250091e-9,
          6.542524214456305e-9,
          6.823005742170368e-9,
          7.115511663652046e-9,
          7.4205574711216585e-9,
          7.738680756227938e-9,
          8.070442157462364e-9,
          8.416426348189748e-9,
          8.777243067036142e-9,
          9.153528192450012e-9,
          9.545944863330515e-9,
          9.955184647697697e-9,
          1.038196876146407e-8
         ]
        },
        {
         "mode": "markers",
         "name": "(x,y)",
         "type": "scatter",
         "x": [
          1,
          1.5,
          2,
          2.5,
          3
         ],
         "y": [
          1.0000000830403712e-10,
          6.625000549017446e-10,
          1.9000001573717034e-9,
          4.037500334330498e-9,
          7.300000604394711e-9
         ]
        }
       ],
       "layout": {
        "template": {
         "data": {
          "bar": [
           {
            "error_x": {
             "color": "#2a3f5f"
            },
            "error_y": {
             "color": "#2a3f5f"
            },
            "marker": {
             "line": {
              "color": "#E5ECF6",
              "width": 0.5
             },
             "pattern": {
              "fillmode": "overlay",
              "size": 10,
              "solidity": 0.2
             }
            },
            "type": "bar"
           }
          ],
          "barpolar": [
           {
            "marker": {
             "line": {
              "color": "#E5ECF6",
              "width": 0.5
             },
             "pattern": {
              "fillmode": "overlay",
              "size": 10,
              "solidity": 0.2
             }
            },
            "type": "barpolar"
           }
          ],
          "carpet": [
           {
            "aaxis": {
             "endlinecolor": "#2a3f5f",
             "gridcolor": "white",
             "linecolor": "white",
             "minorgridcolor": "white",
             "startlinecolor": "#2a3f5f"
            },
            "baxis": {
             "endlinecolor": "#2a3f5f",
             "gridcolor": "white",
             "linecolor": "white",
             "minorgridcolor": "white",
             "startlinecolor": "#2a3f5f"
            },
            "type": "carpet"
           }
          ],
          "choropleth": [
           {
            "colorbar": {
             "outlinewidth": 0,
             "ticks": ""
            },
            "type": "choropleth"
           }
          ],
          "contour": [
           {
            "colorbar": {
             "outlinewidth": 0,
             "ticks": ""
            },
            "colorscale": [
             [
              0,
              "#0d0887"
             ],
             [
              0.1111111111111111,
              "#46039f"
             ],
             [
              0.2222222222222222,
              "#7201a8"
             ],
             [
              0.3333333333333333,
              "#9c179e"
             ],
             [
              0.4444444444444444,
              "#bd3786"
             ],
             [
              0.5555555555555556,
              "#d8576b"
             ],
             [
              0.6666666666666666,
              "#ed7953"
             ],
             [
              0.7777777777777778,
              "#fb9f3a"
             ],
             [
              0.8888888888888888,
              "#fdca26"
             ],
             [
              1,
              "#f0f921"
             ]
            ],
            "type": "contour"
           }
          ],
          "contourcarpet": [
           {
            "colorbar": {
             "outlinewidth": 0,
             "ticks": ""
            },
            "type": "contourcarpet"
           }
          ],
          "heatmap": [
           {
            "colorbar": {
             "outlinewidth": 0,
             "ticks": ""
            },
            "colorscale": [
             [
              0,
              "#0d0887"
             ],
             [
              0.1111111111111111,
              "#46039f"
             ],
             [
              0.2222222222222222,
              "#7201a8"
             ],
             [
              0.3333333333333333,
              "#9c179e"
             ],
             [
              0.4444444444444444,
              "#bd3786"
             ],
             [
              0.5555555555555556,
              "#d8576b"
             ],
             [
              0.6666666666666666,
              "#ed7953"
             ],
             [
              0.7777777777777778,
              "#fb9f3a"
             ],
             [
              0.8888888888888888,
              "#fdca26"
             ],
             [
              1,
              "#f0f921"
             ]
            ],
            "type": "heatmap"
           }
          ],
          "heatmapgl": [
           {
            "colorbar": {
             "outlinewidth": 0,
             "ticks": ""
            },
            "colorscale": [
             [
              0,
              "#0d0887"
             ],
             [
              0.1111111111111111,
              "#46039f"
             ],
             [
              0.2222222222222222,
              "#7201a8"
             ],
             [
              0.3333333333333333,
              "#9c179e"
             ],
             [
              0.4444444444444444,
              "#bd3786"
             ],
             [
              0.5555555555555556,
              "#d8576b"
             ],
             [
              0.6666666666666666,
              "#ed7953"
             ],
             [
              0.7777777777777778,
              "#fb9f3a"
             ],
             [
              0.8888888888888888,
              "#fdca26"
             ],
             [
              1,
              "#f0f921"
             ]
            ],
            "type": "heatmapgl"
           }
          ],
          "histogram": [
           {
            "marker": {
             "pattern": {
              "fillmode": "overlay",
              "size": 10,
              "solidity": 0.2
             }
            },
            "type": "histogram"
           }
          ],
          "histogram2d": [
           {
            "colorbar": {
             "outlinewidth": 0,
             "ticks": ""
            },
            "colorscale": [
             [
              0,
              "#0d0887"
             ],
             [
              0.1111111111111111,
              "#46039f"
             ],
             [
              0.2222222222222222,
              "#7201a8"
             ],
             [
              0.3333333333333333,
              "#9c179e"
             ],
             [
              0.4444444444444444,
              "#bd3786"
             ],
             [
              0.5555555555555556,
              "#d8576b"
             ],
             [
              0.6666666666666666,
              "#ed7953"
             ],
             [
              0.7777777777777778,
              "#fb9f3a"
             ],
             [
              0.8888888888888888,
              "#fdca26"
             ],
             [
              1,
              "#f0f921"
             ]
            ],
            "type": "histogram2d"
           }
          ],
          "histogram2dcontour": [
           {
            "colorbar": {
             "outlinewidth": 0,
             "ticks": ""
            },
            "colorscale": [
             [
              0,
              "#0d0887"
             ],
             [
              0.1111111111111111,
              "#46039f"
             ],
             [
              0.2222222222222222,
              "#7201a8"
             ],
             [
              0.3333333333333333,
              "#9c179e"
             ],
             [
              0.4444444444444444,
              "#bd3786"
             ],
             [
              0.5555555555555556,
              "#d8576b"
             ],
             [
              0.6666666666666666,
              "#ed7953"
             ],
             [
              0.7777777777777778,
              "#fb9f3a"
             ],
             [
              0.8888888888888888,
              "#fdca26"
             ],
             [
              1,
              "#f0f921"
             ]
            ],
            "type": "histogram2dcontour"
           }
          ],
          "mesh3d": [
           {
            "colorbar": {
             "outlinewidth": 0,
             "ticks": ""
            },
            "type": "mesh3d"
           }
          ],
          "parcoords": [
           {
            "line": {
             "colorbar": {
              "outlinewidth": 0,
              "ticks": ""
             }
            },
            "type": "parcoords"
           }
          ],
          "pie": [
           {
            "automargin": true,
            "type": "pie"
           }
          ],
          "scatter": [
           {
            "fillpattern": {
             "fillmode": "overlay",
             "size": 10,
             "solidity": 0.2
            },
            "type": "scatter"
           }
          ],
          "scatter3d": [
           {
            "line": {
             "colorbar": {
              "outlinewidth": 0,
              "ticks": ""
             }
            },
            "marker": {
             "colorbar": {
              "outlinewidth": 0,
              "ticks": ""
             }
            },
            "type": "scatter3d"
           }
          ],
          "scattercarpet": [
           {
            "marker": {
             "colorbar": {
              "outlinewidth": 0,
              "ticks": ""
             }
            },
            "type": "scattercarpet"
           }
          ],
          "scattergeo": [
           {
            "marker": {
             "colorbar": {
              "outlinewidth": 0,
              "ticks": ""
             }
            },
            "type": "scattergeo"
           }
          ],
          "scattergl": [
           {
            "marker": {
             "colorbar": {
              "outlinewidth": 0,
              "ticks": ""
             }
            },
            "type": "scattergl"
           }
          ],
          "scattermapbox": [
           {
            "marker": {
             "colorbar": {
              "outlinewidth": 0,
              "ticks": ""
             }
            },
            "type": "scattermapbox"
           }
          ],
          "scatterpolar": [
           {
            "marker": {
             "colorbar": {
              "outlinewidth": 0,
              "ticks": ""
             }
            },
            "type": "scatterpolar"
           }
          ],
          "scatterpolargl": [
           {
            "marker": {
             "colorbar": {
              "outlinewidth": 0,
              "ticks": ""
             }
            },
            "type": "scatterpolargl"
           }
          ],
          "scatterternary": [
           {
            "marker": {
             "colorbar": {
              "outlinewidth": 0,
              "ticks": ""
             }
            },
            "type": "scatterternary"
           }
          ],
          "surface": [
           {
            "colorbar": {
             "outlinewidth": 0,
             "ticks": ""
            },
            "colorscale": [
             [
              0,
              "#0d0887"
             ],
             [
              0.1111111111111111,
              "#46039f"
             ],
             [
              0.2222222222222222,
              "#7201a8"
             ],
             [
              0.3333333333333333,
              "#9c179e"
             ],
             [
              0.4444444444444444,
              "#bd3786"
             ],
             [
              0.5555555555555556,
              "#d8576b"
             ],
             [
              0.6666666666666666,
              "#ed7953"
             ],
             [
              0.7777777777777778,
              "#fb9f3a"
             ],
             [
              0.8888888888888888,
              "#fdca26"
             ],
             [
              1,
              "#f0f921"
             ]
            ],
            "type": "surface"
           }
          ],
          "table": [
           {
            "cells": {
             "fill": {
              "color": "#EBF0F8"
             },
             "line": {
              "color": "white"
             }
            },
            "header": {
             "fill": {
              "color": "#C8D4E3"
             },
             "line": {
              "color": "white"
             }
            },
            "type": "table"
           }
          ]
         },
         "layout": {
          "annotationdefaults": {
           "arrowcolor": "#2a3f5f",
           "arrowhead": 0,
           "arrowwidth": 1
          },
          "autotypenumbers": "strict",
          "coloraxis": {
           "colorbar": {
            "outlinewidth": 0,
            "ticks": ""
           }
          },
          "colorscale": {
           "diverging": [
            [
             0,
             "#8e0152"
            ],
            [
             0.1,
             "#c51b7d"
            ],
            [
             0.2,
             "#de77ae"
            ],
            [
             0.3,
             "#f1b6da"
            ],
            [
             0.4,
             "#fde0ef"
            ],
            [
             0.5,
             "#f7f7f7"
            ],
            [
             0.6,
             "#e6f5d0"
            ],
            [
             0.7,
             "#b8e186"
            ],
            [
             0.8,
             "#7fbc41"
            ],
            [
             0.9,
             "#4d9221"
            ],
            [
             1,
             "#276419"
            ]
           ],
           "sequential": [
            [
             0,
             "#0d0887"
            ],
            [
             0.1111111111111111,
             "#46039f"
            ],
            [
             0.2222222222222222,
             "#7201a8"
            ],
            [
             0.3333333333333333,
             "#9c179e"
            ],
            [
             0.4444444444444444,
             "#bd3786"
            ],
            [
             0.5555555555555556,
             "#d8576b"
            ],
            [
             0.6666666666666666,
             "#ed7953"
            ],
            [
             0.7777777777777778,
             "#fb9f3a"
            ],
            [
             0.8888888888888888,
             "#fdca26"
            ],
            [
             1,
             "#f0f921"
            ]
           ],
           "sequentialminus": [
            [
             0,
             "#0d0887"
            ],
            [
             0.1111111111111111,
             "#46039f"
            ],
            [
             0.2222222222222222,
             "#7201a8"
            ],
            [
             0.3333333333333333,
             "#9c179e"
            ],
            [
             0.4444444444444444,
             "#bd3786"
            ],
            [
             0.5555555555555556,
             "#d8576b"
            ],
            [
             0.6666666666666666,
             "#ed7953"
            ],
            [
             0.7777777777777778,
             "#fb9f3a"
            ],
            [
             0.8888888888888888,
             "#fdca26"
            ],
            [
             1,
             "#f0f921"
            ]
           ]
          },
          "colorway": [
           "#636efa",
           "#EF553B",
           "#00cc96",
           "#ab63fa",
           "#FFA15A",
           "#19d3f3",
           "#FF6692",
           "#B6E880",
           "#FF97FF",
           "#FECB52"
          ],
          "font": {
           "color": "#2a3f5f"
          },
          "geo": {
           "bgcolor": "white",
           "lakecolor": "white",
           "landcolor": "#E5ECF6",
           "showlakes": true,
           "showland": true,
           "subunitcolor": "white"
          },
          "hoverlabel": {
           "align": "left"
          },
          "hovermode": "closest",
          "mapbox": {
           "style": "light"
          },
          "paper_bgcolor": "white",
          "plot_bgcolor": "#E5ECF6",
          "polar": {
           "angularaxis": {
            "gridcolor": "white",
            "linecolor": "white",
            "ticks": ""
           },
           "bgcolor": "#E5ECF6",
           "radialaxis": {
            "gridcolor": "white",
            "linecolor": "white",
            "ticks": ""
           }
          },
          "scene": {
           "xaxis": {
            "backgroundcolor": "#E5ECF6",
            "gridcolor": "white",
            "gridwidth": 2,
            "linecolor": "white",
            "showbackground": true,
            "ticks": "",
            "zerolinecolor": "white"
           },
           "yaxis": {
            "backgroundcolor": "#E5ECF6",
            "gridcolor": "white",
            "gridwidth": 2,
            "linecolor": "white",
            "showbackground": true,
            "ticks": "",
            "zerolinecolor": "white"
           },
           "zaxis": {
            "backgroundcolor": "#E5ECF6",
            "gridcolor": "white",
            "gridwidth": 2,
            "linecolor": "white",
            "showbackground": true,
            "ticks": "",
            "zerolinecolor": "white"
           }
          },
          "shapedefaults": {
           "line": {
            "color": "#2a3f5f"
           }
          },
          "ternary": {
           "aaxis": {
            "gridcolor": "white",
            "linecolor": "white",
            "ticks": ""
           },
           "baxis": {
            "gridcolor": "white",
            "linecolor": "white",
            "ticks": ""
           },
           "bgcolor": "#E5ECF6",
           "caxis": {
            "gridcolor": "white",
            "linecolor": "white",
            "ticks": ""
           }
          },
          "title": {
           "x": 0.05
          },
          "xaxis": {
           "automargin": true,
           "gridcolor": "white",
           "linecolor": "white",
           "ticks": "",
           "title": {
            "standoff": 15
           },
           "zerolinecolor": "white",
           "zerolinewidth": 2
          },
          "yaxis": {
           "automargin": true,
           "gridcolor": "white",
           "linecolor": "white",
           "ticks": "",
           "title": {
            "standoff": 15
           },
           "zerolinecolor": "white",
           "zerolinewidth": 2
          }
         }
        },
        "title": {
         "text": "Ajuste De Curva"
        },
        "xaxis": {
         "title": {
          "text": "X"
         }
        },
        "yaxis": {
         "title": {
          "text": "Y"
         }
        }
       }
      }
     },
     "metadata": {},
     "output_type": "display_data"
    }
   ],
   "source": [
    "mq.fit(X1,Y1,[lambda x :x,lambda x : np.exp(x)])\n",
    "mq.PrintAjusteCurva(X1,Y1,Linear=True,NaoLinear=True)"
   ]
  },
  {
   "attachments": {},
   "cell_type": "markdown",
   "metadata": {},
   "source": [
    "#### f2= lambda x : math.exp(x)\n"
   ]
  },
  {
   "cell_type": "code",
   "execution_count": 158,
   "metadata": {},
   "outputs": [
    {
     "data": {
      "image/png": "[encoded data removed]",
      "text/plain": [
       "<Figure size 640x480 with 1 Axes>"
      ]
     },
     "metadata": {},
     "output_type": "display_data"
    },
    {
     "name": "stdout",
     "output_type": "stream",
     "text": [
      "[1.   1.25 1.5  1.75 2.  ]\n",
      "[2.7182820535066026e-10, 3.490343246428629e-10, 4.4816894413787656e-10, 5.754603152431419e-10, 7.389056710673373e-10]\n"
     ]
    },
    {
     "data": {
      "image/png": "[encoded data removed]",
      "text/plain": [
       "<Figure size 640x480 with 1 Axes>"
      ]
     },
     "metadata": {},
     "output_type": "display_data"
    }
   ],
   "source": [
    "f2 = lambda x: np.exp(x)\n",
    "X2 = np.linspace(1,2,5)\n",
    "Y2 = GetIntegral(f2,1,2,5)\n",
    "plotar_grafico(f2,(1,2),np.linspace(1,2,5),\"e**x\")\n",
    "\n",
    "print(X2)\n",
    "print(Y2)\n",
    "\n",
    "###### Calulando o auste de curva \n",
    "mq = MQ()\n",
    "\n",
    "mq.plotPontos(X2,Y2)"
   ]
  },
  {
   "cell_type": "code",
   "execution_count": 159,
   "metadata": {},
   "outputs": [
    {
     "data": {
      "image/png": "[encoded data removed]",
      "text/plain": [
       "<Figure size 640x480 with 1 Axes>"
      ]
     },
     "metadata": {},
     "output_type": "display_data"
    },
    {
     "data": {
      "application/vnd.plotly.v1+json": {
       "config": {
        "plotlyServerURL": "https://plot.ly"
       },
       "data": [
        {
         "mode": "lines",
         "name": "Exponecial",
         "type": "scatter",
         "x": [
          0.9999,
          1.0100030303030303,
          1.0201060606060606,
          1.0302090909090909,
          1.0403121212121211,
          1.0504151515151516,
          1.060518181818182,
          1.0706212121212122,
          1.0807242424242425,
          1.0908272727272728,
          1.100930303030303,
          1.1110333333333333,
          1.1211363636363636,
          1.1312393939393939,
          1.1413424242424242,
          1.1514454545454547,
          1.161548484848485,
          1.1716515151515152,
          1.1817545454545455,
          1.1918575757575758,
          1.201960606060606,
          1.2120636363636363,
          1.2221666666666666,
          1.2322696969696971,
          1.2423727272727274,
          1.2524757575757577,
          1.262578787878788,
          1.2726818181818182,
          1.2827848484848485,
          1.2928878787878788,
          1.302990909090909,
          1.3130939393939394,
          1.3231969696969696,
          1.3333,
          1.3434030303030304,
          1.3535060606060607,
          1.363609090909091,
          1.3737121212121213,
          1.3838151515151516,
          1.3939181818181818,
          1.4040212121212123,
          1.4141242424242426,
          1.424227272727273,
          1.4343303030303032,
          1.4444333333333335,
          1.4545363636363637,
          1.464639393939394,
          1.4747424242424243,
          1.4848454545454546,
          1.4949484848484849,
          1.5050515151515151,
          1.5151545454545454,
          1.5252575757575757,
          1.5353606060606062,
          1.5454636363636365,
          1.5555666666666668,
          1.565669696969697,
          1.5757727272727273,
          1.5858757575757578,
          1.595978787878788,
          1.6060818181818184,
          1.6161848484848487,
          1.626287878787879,
          1.6363909090909092,
          1.6464939393939395,
          1.6565969696969698,
          1.6667,
          1.6768030303030304,
          1.6869060606060606,
          1.697009090909091,
          1.7071121212121212,
          1.7172151515151517,
          1.727318181818182,
          1.7374212121212123,
          1.7475242424242425,
          1.7576272727272728,
          1.7677303030303033,
          1.7778333333333336,
          1.7879363636363639,
          1.7980393939393942,
          1.8081424242424244,
          1.8182454545454547,
          1.828348484848485,
          1.8384515151515153,
          1.8485545454545456,
          1.8586575757575758,
          1.8687606060606061,
          1.8788636363636364,
          1.8889666666666667,
          1.899069696969697,
          1.9091727272727275,
          1.9192757575757577,
          1.929378787878788,
          1.9394818181818183,
          1.9495848484848488,
          1.959687878787879,
          1.9697909090909094,
          1.9798939393939397,
          1.98999696969697,
          2.0001
         ],
         "y": [
          2.718010238892227e-10,
          2.7456095623426276e-10,
          2.7734891358980575e-10,
          2.8016518052848446e-10,
          2.830100445125499e-10,
          2.8588379592321333e-10,
          2.8878672809028606e-10,
          2.9171913732212007e-10,
          2.946813229358528e-10,
          2.976735872879597e-10,
          3.006962358051154e-10,
          3.0374957701536986e-10,
          3.068339225796406e-10,
          3.099495873235241e-10,
          3.1309688926943086e-10,
          3.1627614966904714e-10,
          3.194876930361248e-10,
          3.2273184717960595e-10,
          3.2600894323708274e-10,
          3.2931931570859735e-10,
          3.32663302490785e-10,
          3.360412449113638e-10,
          3.39453487763975e-10,
          3.4290037934337665e-10,
          3.463822714809942e-10,
          3.498995195808339e-10,
          3.5345248265575863e-10,
          3.5704152336413325e-10,
          3.606670080468425e-10,
          3.643293067646833e-10,
          3.680287933361382e-10,
          3.717658453755318e-10,
          3.7554084433157434e-10,
          3.793541755262971e-10,
          3.832062281943834e-10,
          3.870973955228978e-10,
          3.910280746914201e-10,
          3.949986669125865e-10,
          3.9900957747304154e-10,
          4.0306121577480683e-10,
          4.0715399537707023e-10,
          4.112883340383972e-10,
          4.1546465375937393e-10,
          4.1968338082568084e-10,
          4.2394494585160456e-10,
          4.282497838239919e-10,
          4.3259833414664994e-10,
          4.369910406851964e-10,
          4.414283518123662e-10,
          4.4591072045377807e-10,
          4.5043860413416517e-10,
          4.550124650240759e-10,
          4.596327699870483e-10,
          4.642999906272644e-10,
          4.69014603337687e-10,
          4.737770893486867e-10,
          4.785879347771621e-10,
          4.834476306761583e-10,
          4.883566730849902e-10,
          4.93315563079874e-10,
          4.983248068250732e-10,
          5.033849156245636e-10,
          5.084964059742238e-10,
          5.136597996145541e-10,
          5.188756235839326e-10,
          5.241444102724102e-10,
          5.294666974760537e-10,
          5.348430284518387e-10,
          5.402739519731019e-10,
          5.457600223855554e-10,
          5.513017996638691e-10,
          5.568998494688297e-10,
          5.625547432050778e-10,
          5.68267058079433e-10,
          5.740373771598109e-10,
          5.798662894347368e-10,
          5.857543898734666e-10,
          5.91702279486715e-10,
          5.977105653880034e-10,
          6.037798608556277e-10,
          6.099107853952587e-10,
          6.161039648031746e-10,
          6.223600312301382e-10,
          6.286796232459221e-10,
          6.350633859044883e-10,
          6.415119708098301e-10,
          6.48026036182483e-10,
          6.546062469267116e-10,
          6.612532746983755e-10,
          6.679677979734883e-10,
          6.747505021174714e-10,
          6.816020794551089e-10,
          6.885232293412161e-10,
          6.955146582320241e-10,
          7.025770797572883e-10,
          7.097112147931307e-10,
          7.169177915356215e-10,
          7.241975455751071e-10,
          7.315512199712932e-10,
          7.389795653290914e-10
         ]
        },
        {
         "mode": "markers",
         "name": "(x,y)",
         "type": "scatter",
         "x": [
          1,
          1.25,
          1.5,
          1.75,
          2
         ],
         "y": [
          2.7182820535066026e-10,
          3.490343246428629e-10,
          4.4816894413787656e-10,
          5.754603152431419e-10,
          7.389056710673373e-10
         ]
        }
       ],
       "layout": {
        "template": {
         "data": {
          "bar": [
           {
            "error_x": {
             "color": "#2a3f5f"
            },
            "error_y": {
             "color": "#2a3f5f"
            },
            "marker": {
             "line": {
              "color": "#E5ECF6",
              "width": 0.5
             },
             "pattern": {
              "fillmode": "overlay",
              "size": 10,
              "solidity": 0.2
             }
            },
            "type": "bar"
           }
          ],
          "barpolar": [
           {
            "marker": {
             "line": {
              "color": "#E5ECF6",
              "width": 0.5
             },
             "pattern": {
              "fillmode": "overlay",
              "size": 10,
              "solidity": 0.2
             }
            },
            "type": "barpolar"
           }
          ],
          "carpet": [
           {
            "aaxis": {
             "endlinecolor": "#2a3f5f",
             "gridcolor": "white",
             "linecolor": "white",
             "minorgridcolor": "white",
             "startlinecolor": "#2a3f5f"
            },
            "baxis": {
             "endlinecolor": "#2a3f5f",
             "gridcolor": "white",
             "linecolor": "white",
             "minorgridcolor": "white",
             "startlinecolor": "#2a3f5f"
            },
            "type": "carpet"
           }
          ],
          "choropleth": [
           {
            "colorbar": {
             "outlinewidth": 0,
             "ticks": ""
            },
            "type": "choropleth"
           }
          ],
          "contour": [
           {
            "colorbar": {
             "outlinewidth": 0,
             "ticks": ""
            },
            "colorscale": [
             [
              0,
              "#0d0887"
             ],
             [
              0.1111111111111111,
              "#46039f"
             ],
             [
              0.2222222222222222,
              "#7201a8"
             ],
             [
              0.3333333333333333,
              "#9c179e"
             ],
             [
              0.4444444444444444,
              "#bd3786"
             ],
             [
              0.5555555555555556,
              "#d8576b"
             ],
             [
              0.6666666666666666,
              "#ed7953"
             ],
             [
              0.7777777777777778,
              "#fb9f3a"
             ],
             [
              0.8888888888888888,
              "#fdca26"
             ],
             [
              1,
              "#f0f921"
             ]
            ],
            "type": "contour"
           }
          ],
          "contourcarpet": [
           {
            "colorbar": {
             "outlinewidth": 0,
             "ticks": ""
            },
            "type": "contourcarpet"
           }
          ],
          "heatmap": [
           {
            "colorbar": {
             "outlinewidth": 0,
             "ticks": ""
            },
            "colorscale": [
             [
              0,
              "#0d0887"
             ],
             [
              0.1111111111111111,
              "#46039f"
             ],
             [
              0.2222222222222222,
              "#7201a8"
             ],
             [
              0.3333333333333333,
              "#9c179e"
             ],
             [
              0.4444444444444444,
              "#bd3786"
             ],
             [
              0.5555555555555556,
              "#d8576b"
             ],
             [
              0.6666666666666666,
              "#ed7953"
             ],
             [
              0.7777777777777778,
              "#fb9f3a"
             ],
             [
              0.8888888888888888,
              "#fdca26"
             ],
             [
              1,
              "#f0f921"
             ]
            ],
            "type": "heatmap"
           }
          ],
          "heatmapgl": [
           {
            "colorbar": {
             "outlinewidth": 0,
             "ticks": ""
            },
            "colorscale": [
             [
              0,
              "#0d0887"
             ],
             [
              0.1111111111111111,
              "#46039f"
             ],
             [
              0.2222222222222222,
              "#7201a8"
             ],
             [
              0.3333333333333333,
              "#9c179e"
             ],
             [
              0.4444444444444444,
              "#bd3786"
             ],
             [
              0.5555555555555556,
              "#d8576b"
             ],
             [
              0.6666666666666666,
              "#ed7953"
             ],
             [
              0.7777777777777778,
              "#fb9f3a"
             ],
             [
              0.8888888888888888,
              "#fdca26"
             ],
             [
              1,
              "#f0f921"
             ]
            ],
            "type": "heatmapgl"
           }
          ],
          "histogram": [
           {
            "marker": {
             "pattern": {
              "fillmode": "overlay",
              "size": 10,
              "solidity": 0.2
             }
            },
            "type": "histogram"
           }
          ],
          "histogram2d": [
           {
            "colorbar": {
             "outlinewidth": 0,
             "ticks": ""
            },
            "colorscale": [
             [
              0,
              "#0d0887"
             ],
             [
              0.1111111111111111,
              "#46039f"
             ],
             [
              0.2222222222222222,
              "#7201a8"
             ],
             [
              0.3333333333333333,
              "#9c179e"
             ],
             [
              0.4444444444444444,
              "#bd3786"
             ],
             [
              0.5555555555555556,
              "#d8576b"
             ],
             [
              0.6666666666666666,
              "#ed7953"
             ],
             [
              0.7777777777777778,
              "#fb9f3a"
             ],
             [
              0.8888888888888888,
              "#fdca26"
             ],
             [
              1,
              "#f0f921"
             ]
            ],
            "type": "histogram2d"
           }
          ],
          "histogram2dcontour": [
           {
            "colorbar": {
             "outlinewidth": 0,
             "ticks": ""
            },
            "colorscale": [
             [
              0,
              "#0d0887"
             ],
             [
              0.1111111111111111,
              "#46039f"
             ],
             [
              0.2222222222222222,
              "#7201a8"
             ],
             [
              0.3333333333333333,
              "#9c179e"
             ],
             [
              0.4444444444444444,
              "#bd3786"
             ],
             [
              0.5555555555555556,
              "#d8576b"
             ],
             [
              0.6666666666666666,
              "#ed7953"
             ],
             [
              0.7777777777777778,
              "#fb9f3a"
             ],
             [
              0.8888888888888888,
              "#fdca26"
             ],
             [
              1,
              "#f0f921"
             ]
            ],
            "type": "histogram2dcontour"
           }
          ],
          "mesh3d": [
           {
            "colorbar": {
             "outlinewidth": 0,
             "ticks": ""
            },
            "type": "mesh3d"
           }
          ],
          "parcoords": [
           {
            "line": {
             "colorbar": {
              "outlinewidth": 0,
              "ticks": ""
             }
            },
            "type": "parcoords"
           }
          ],
          "pie": [
           {
            "automargin": true,
            "type": "pie"
           }
          ],
          "scatter": [
           {
            "fillpattern": {
             "fillmode": "overlay",
             "size": 10,
             "solidity": 0.2
            },
            "type": "scatter"
           }
          ],
          "scatter3d": [
           {
            "line": {
             "colorbar": {
              "outlinewidth": 0,
              "ticks": ""
             }
            },
            "marker": {
             "colorbar": {
              "outlinewidth": 0,
              "ticks": ""
             }
            },
            "type": "scatter3d"
           }
          ],
          "scattercarpet": [
           {
            "marker": {
             "colorbar": {
              "outlinewidth": 0,
              "ticks": ""
             }
            },
            "type": "scattercarpet"
           }
          ],
          "scattergeo": [
           {
            "marker": {
             "colorbar": {
              "outlinewidth": 0,
              "ticks": ""
             }
            },
            "type": "scattergeo"
           }
          ],
          "scattergl": [
           {
            "marker": {
             "colorbar": {
              "outlinewidth": 0,
              "ticks": ""
             }
            },
            "type": "scattergl"
           }
          ],
          "scattermapbox": [
           {
            "marker": {
             "colorbar": {
              "outlinewidth": 0,
              "ticks": ""
             }
            },
            "type": "scattermapbox"
           }
          ],
          "scatterpolar": [
           {
            "marker": {
             "colorbar": {
              "outlinewidth": 0,
              "ticks": ""
             }
            },
            "type": "scatterpolar"
           }
          ],
          "scatterpolargl": [
           {
            "marker": {
             "colorbar": {
              "outlinewidth": 0,
              "ticks": ""
             }
            },
            "type": "scatterpolargl"
           }
          ],
          "scatterternary": [
           {
            "marker": {
             "colorbar": {
              "outlinewidth": 0,
              "ticks": ""
             }
            },
            "type": "scatterternary"
           }
          ],
          "surface": [
           {
            "colorbar": {
             "outlinewidth": 0,
             "ticks": ""
            },
            "colorscale": [
             [
              0,
              "#0d0887"
             ],
             [
              0.1111111111111111,
              "#46039f"
             ],
             [
              0.2222222222222222,
              "#7201a8"
             ],
             [
              0.3333333333333333,
              "#9c179e"
             ],
             [
              0.4444444444444444,
              "#bd3786"
             ],
             [
              0.5555555555555556,
              "#d8576b"
             ],
             [
              0.6666666666666666,
              "#ed7953"
             ],
             [
              0.7777777777777778,
              "#fb9f3a"
             ],
             [
              0.8888888888888888,
              "#fdca26"
             ],
             [
              1,
              "#f0f921"
             ]
            ],
            "type": "surface"
           }
          ],
          "table": [
           {
            "cells": {
             "fill": {
              "color": "#EBF0F8"
             },
             "line": {
              "color": "white"
             }
            },
            "header": {
             "fill": {
              "color": "#C8D4E3"
             },
             "line": {
              "color": "white"
             }
            },
            "type": "table"
           }
          ]
         },
         "layout": {
          "annotationdefaults": {
           "arrowcolor": "#2a3f5f",
           "arrowhead": 0,
           "arrowwidth": 1
          },
          "autotypenumbers": "strict",
          "coloraxis": {
           "colorbar": {
            "outlinewidth": 0,
            "ticks": ""
           }
          },
          "colorscale": {
           "diverging": [
            [
             0,
             "#8e0152"
            ],
            [
             0.1,
             "#c51b7d"
            ],
            [
             0.2,
             "#de77ae"
            ],
            [
             0.3,
             "#f1b6da"
            ],
            [
             0.4,
             "#fde0ef"
            ],
            [
             0.5,
             "#f7f7f7"
            ],
            [
             0.6,
             "#e6f5d0"
            ],
            [
             0.7,
             "#b8e186"
            ],
            [
             0.8,
             "#7fbc41"
            ],
            [
             0.9,
             "#4d9221"
            ],
            [
             1,
             "#276419"
            ]
           ],
           "sequential": [
            [
             0,
             "#0d0887"
            ],
            [
             0.1111111111111111,
             "#46039f"
            ],
            [
             0.2222222222222222,
             "#7201a8"
            ],
            [
             0.3333333333333333,
             "#9c179e"
            ],
            [
             0.4444444444444444,
             "#bd3786"
            ],
            [
             0.5555555555555556,
             "#d8576b"
            ],
            [
             0.6666666666666666,
             "#ed7953"
            ],
            [
             0.7777777777777778,
             "#fb9f3a"
            ],
            [
             0.8888888888888888,
             "#fdca26"
            ],
            [
             1,
             "#f0f921"
            ]
           ],
           "sequentialminus": [
            [
             0,
             "#0d0887"
            ],
            [
             0.1111111111111111,
             "#46039f"
            ],
            [
             0.2222222222222222,
             "#7201a8"
            ],
            [
             0.3333333333333333,
             "#9c179e"
            ],
            [
             0.4444444444444444,
             "#bd3786"
            ],
            [
             0.5555555555555556,
             "#d8576b"
            ],
            [
             0.6666666666666666,
             "#ed7953"
            ],
            [
             0.7777777777777778,
             "#fb9f3a"
            ],
            [
             0.8888888888888888,
             "#fdca26"
            ],
            [
             1,
             "#f0f921"
            ]
           ]
          },
          "colorway": [
           "#636efa",
           "#EF553B",
           "#00cc96",
           "#ab63fa",
           "#FFA15A",
           "#19d3f3",
           "#FF6692",
           "#B6E880",
           "#FF97FF",
           "#FECB52"
          ],
          "font": {
           "color": "#2a3f5f"
          },
          "geo": {
           "bgcolor": "white",
           "lakecolor": "white",
           "landcolor": "#E5ECF6",
           "showlakes": true,
           "showland": true,
           "subunitcolor": "white"
          },
          "hoverlabel": {
           "align": "left"
          },
          "hovermode": "closest",
          "mapbox": {
           "style": "light"
          },
          "paper_bgcolor": "white",
          "plot_bgcolor": "#E5ECF6",
          "polar": {
           "angularaxis": {
            "gridcolor": "white",
            "linecolor": "white",
            "ticks": ""
           },
           "bgcolor": "#E5ECF6",
           "radialaxis": {
            "gridcolor": "white",
            "linecolor": "white",
            "ticks": ""
           }
          },
          "scene": {
           "xaxis": {
            "backgroundcolor": "#E5ECF6",
            "gridcolor": "white",
            "gridwidth": 2,
            "linecolor": "white",
            "showbackground": true,
            "ticks": "",
            "zerolinecolor": "white"
           },
           "yaxis": {
            "backgroundcolor": "#E5ECF6",
            "gridcolor": "white",
            "gridwidth": 2,
            "linecolor": "white",
            "showbackground": true,
            "ticks": "",
            "zerolinecolor": "white"
           },
           "zaxis": {
            "backgroundcolor": "#E5ECF6",
            "gridcolor": "white",
            "gridwidth": 2,
            "linecolor": "white",
            "showbackground": true,
            "ticks": "",
            "zerolinecolor": "white"
           }
          },
          "shapedefaults": {
           "line": {
            "color": "#2a3f5f"
           }
          },
          "ternary": {
           "aaxis": {
            "gridcolor": "white",
            "linecolor": "white",
            "ticks": ""
           },
           "baxis": {
            "gridcolor": "white",
            "linecolor": "white",
            "ticks": ""
           },
           "bgcolor": "#E5ECF6",
           "caxis": {
            "gridcolor": "white",
            "linecolor": "white",
            "ticks": ""
           }
          },
          "title": {
           "x": 0.05
          },
          "xaxis": {
           "automargin": true,
           "gridcolor": "white",
           "linecolor": "white",
           "ticks": "",
           "title": {
            "standoff": 15
           },
           "zerolinecolor": "white",
           "zerolinewidth": 2
          },
          "yaxis": {
           "automargin": true,
           "gridcolor": "white",
           "linecolor": "white",
           "ticks": "",
           "title": {
            "standoff": 15
           },
           "zerolinecolor": "white",
           "zerolinewidth": 2
          }
         }
        },
        "title": {
         "text": "Ajuste De Curva"
        },
        "xaxis": {
         "title": {
          "text": "X"
         }
        },
        "yaxis": {
         "title": {
          "text": "Y"
         }
        }
       }
      }
     },
     "metadata": {},
     "output_type": "display_data"
    }
   ],
   "source": [
    "# mq.fit(X2,Y2,[lambda x : x, lambda x : math.exp(x)])\n",
    "mq.PrintAjusteCurva(X2,Y2,Linear = False,NaoLinear = True)"
   ]
  },
  {
   "attachments": {},
   "cell_type": "markdown",
   "metadata": {},
   "source": [
    "### Exemplo 3 - f3 = lambda x: np.sin(x)**1/2\""
   ]
  },
  {
   "cell_type": "code",
   "execution_count": 184,
   "metadata": {},
   "outputs": [
    {
     "data": {
      "image/png": "[encoded data removed]",
      "text/plain": [
       "<Figure size 640x480 with 1 Axes>"
      ]
     },
     "metadata": {},
     "output_type": "display_data"
    }
   ],
   "source": [
    "f3 = lambda x: np.sin(x)**1/2\n",
    "\n",
    "plotar_grafico(f3,(0,1),np.linspace(0,1,5),\"lambda x: np.sin(x)**1/2\")\n"
   ]
  },
  {
   "cell_type": "code",
   "execution_count": 185,
   "metadata": {},
   "outputs": [
    {
     "name": "stdout",
     "output_type": "stream",
     "text": [
      "[0.   0.25 0.5  0.75 1.  ]\n",
      "[2.5e-21, 1.2370198988663193e-11, 2.3971278915796465e-11, 3.4081940822948125e-11, 4.207355272292667e-11]\n"
     ]
    },
    {
     "data": {
      "image/png": "[encoded data removed]",
      "text/plain": [
       "<Figure size 640x480 with 1 Axes>"
      ]
     },
     "metadata": {},
     "output_type": "display_data"
    }
   ],
   "source": [
    "###### Calulando o ajuste de curva dos pontos integralizados\n",
    "X3 = np.linspace(0,1,5)\n",
    "Y3 = GetIntegral(f3,0,1,5)\n",
    "\n",
    "print(X3)\n",
    "print(Y3)\n",
    "mq = MQ()\n",
    "\n",
    "mq.plotPontos(X3,Y3)"
   ]
  },
  {
   "cell_type": "code",
   "execution_count": 192,
   "metadata": {},
   "outputs": [
    {
     "data": {
      "image/png": "[encoded data removed]",
      "text/plain": [
       "<Figure size 640x480 with 1 Axes>"
      ]
     },
     "metadata": {},
     "output_type": "display_data"
    },
    {
     "data": {
      "application/vnd.plotly.v1+json": {
       "config": {
        "plotlyServerURL": "https://plot.ly"
       },
       "data": [
        {
         "mode": "lines",
         "name": "Linear",
         "type": "scatter",
         "x": [
          -0.0001,
          0.010003030303030304,
          0.020106060606060606,
          0.03020909090909091,
          0.04031212121212121,
          0.05041515151515151,
          0.06051818181818182,
          0.07062121212121211,
          0.08072424242424242,
          0.09082727272727273,
          0.10093030303030302,
          0.11103333333333333,
          0.12113636363636364,
          0.13123939393939396,
          0.14134242424242424,
          0.15144545454545455,
          0.16154848484848486,
          0.17165151515151517,
          0.18175454545454547,
          0.19185757575757575,
          0.20196060606060606,
          0.21206363636363637,
          0.22216666666666668,
          0.232269696969697,
          0.2423727272727273,
          0.2524757575757576,
          0.2625787878787879,
          0.2726818181818182,
          0.2827848484848485,
          0.2928878787878788,
          0.3029909090909091,
          0.3130939393939394,
          0.3231969696969697,
          0.3333,
          0.3434030303030303,
          0.3535060606060606,
          0.36360909090909094,
          0.3737121212121212,
          0.3838151515151515,
          0.39391818181818183,
          0.4040212121212121,
          0.41412424242424245,
          0.42422727272727273,
          0.434330303030303,
          0.44443333333333335,
          0.4545363636363636,
          0.46463939393939396,
          0.47474242424242424,
          0.4848454545454546,
          0.49494848484848486,
          0.5050515151515151,
          0.5151545454545454,
          0.5252575757575758,
          0.5353606060606061,
          0.5454636363636364,
          0.5555666666666667,
          0.5656696969696969,
          0.5757727272727273,
          0.5858757575757576,
          0.5959787878787879,
          0.6060818181818182,
          0.6161848484848484,
          0.6262878787878788,
          0.6363909090909091,
          0.6464939393939394,
          0.6565969696969697,
          0.6667,
          0.6768030303030304,
          0.6869060606060606,
          0.6970090909090909,
          0.7071121212121212,
          0.7172151515151515,
          0.7273181818181819,
          0.7374212121212121,
          0.7475242424242424,
          0.7576272727272727,
          0.767730303030303,
          0.7778333333333334,
          0.7879363636363637,
          0.7980393939393939,
          0.8081424242424242,
          0.8182454545454545,
          0.8283484848484849,
          0.8384515151515152,
          0.8485545454545455,
          0.8586575757575757,
          0.868760606060606,
          0.8788636363636364,
          0.8889666666666667,
          0.899069696969697,
          0.9091727272727272,
          0.9192757575757575,
          0.9293787878787879,
          0.9394818181818182,
          0.9495848484848485,
          0.9596878787878788,
          0.9697909090909091,
          0.9798939393939394,
          0.9899969696969697,
          1.0001
         ],
         "y": [
          1.03552430339172e-12,
          1.4612221795943059e-12,
          1.887027250891152e-12,
          2.3129406057667833e-12,
          2.738963343758452e-12,
          3.165096575568377e-12,
          3.59134142317711e-12,
          4.017699019958061e-12,
          4.444170510793186e-12,
          4.87075705218984e-12,
          5.2974598123988326e-12,
          5.7242799715336725e-12,
          6.151218721691017e-12,
          6.578277267072361e-12,
          7.005456824106944e-12,
          7.432758621575924e-12,
          7.860183900737789e-12,
          8.287733915455065e-12,
          8.715409932322299e-12,
          9.143213230795332e-12,
          9.571145103321916e-12,
          9.999206855473618e-12,
          1.042739980607909e-11,
          1.0855725287358688e-11,
          1.1284184645060446e-11,
          1.1712779238597449e-11,
          1.2141510441186582e-11,
          1.2570379639988704e-11,
          1.2999388236250235e-11,
          1.3428537645446188e-11,
          1.3857829297424638e-11,
          1.4287264636552689e-11,
          1.4716845121863883e-11,
          1.5146572227207143e-11,
          1.5576447441397204e-11,
          1.6006472268366572e-11,
          1.6436648227319056e-11,
          1.6866976852884812e-11,
          1.7297459695277e-11,
          1.7728098320450015e-11,
          1.815889431025932e-11,
          1.8589849262622927e-11,
          1.902096479168447e-11,
          1.9452242527977998e-11,
          1.9883684118594384e-11,
          2.031529122734946e-11,
          2.0747065534953834e-11,
          2.1179008739184448e-11,
          2.1611122555057883e-11,
          2.20434087150054e-11,
          2.247586896904979e-11,
          2.290850508498398e-11,
          2.334131884855149e-11,
          2.3774312063628714e-11,
          2.4207486552409032e-11,
          2.46408441555888e-11,
          2.5074386732555256e-11,
          2.55081161615763e-11,
          2.5942034339992197e-11,
          2.6376143184409268e-11,
          2.6810444630895513e-11,
          2.724494063517822e-11,
          2.7679633172843615e-11,
          2.8114524239538466e-11,
          2.8549615851173838e-11,
          2.8984910044130832e-11,
          2.942040887546845e-11,
          2.9856114423133554e-11,
          3.029202878617297e-11,
          3.072815408494777e-11,
          3.116449246134965e-11,
          3.160104607901959e-11,
          3.203781712356872e-11,
          3.247480780280134e-11,
          3.291202034694036e-11,
          3.3349457008854894e-11,
          3.378712006429023e-11,
          3.42250118121001e-11,
          3.4663134574481355e-11,
          3.5101490697210984e-11,
          3.5540082549885557e-11,
          3.59789125261631e-11,
          3.6417983044007386e-11,
          3.68572965459348e-11,
          3.7296855499263597e-11,
          3.7736662396365785e-11,
          3.81767197549215e-11,
          3.8617030118176014e-11,
          3.9057596055199294e-11,
          3.949842016114828e-11,
          3.993950505753175e-11,
          4.0380853392477886e-11,
          4.0822467841004626e-11,
          4.126435110529265e-11,
          4.170650591496124e-11,
          4.214893502734688e-11,
          4.25916412277847e-11,
          4.303462732989279e-11,
          4.347789617585939e-11,
          4.3921450636732983e-11
         ]
        },
        {
         "mode": "markers",
         "name": "(x,y)",
         "type": "scatter",
         "x": [
          0,
          0.25,
          0.5,
          0.75,
          1
         ],
         "y": [
          2.5e-21,
          1.2370198988663193e-11,
          2.3971278915796465e-11,
          3.4081940822948125e-11,
          4.207355272292667e-11
         ]
        }
       ],
       "layout": {
        "template": {
         "data": {
          "bar": [
           {
            "error_x": {
             "color": "#2a3f5f"
            },
            "error_y": {
             "color": "#2a3f5f"
            },
            "marker": {
             "line": {
              "color": "#E5ECF6",
              "width": 0.5
             },
             "pattern": {
              "fillmode": "overlay",
              "size": 10,
              "solidity": 0.2
             }
            },
            "type": "bar"
           }
          ],
          "barpolar": [
           {
            "marker": {
             "line": {
              "color": "#E5ECF6",
              "width": 0.5
             },
             "pattern": {
              "fillmode": "overlay",
              "size": 10,
              "solidity": 0.2
             }
            },
            "type": "barpolar"
           }
          ],
          "carpet": [
           {
            "aaxis": {
             "endlinecolor": "#2a3f5f",
             "gridcolor": "white",
             "linecolor": "white",
             "minorgridcolor": "white",
             "startlinecolor": "#2a3f5f"
            },
            "baxis": {
             "endlinecolor": "#2a3f5f",
             "gridcolor": "white",
             "linecolor": "white",
             "minorgridcolor": "white",
             "startlinecolor": "#2a3f5f"
            },
            "type": "carpet"
           }
          ],
          "choropleth": [
           {
            "colorbar": {
             "outlinewidth": 0,
             "ticks": ""
            },
            "type": "choropleth"
           }
          ],
          "contour": [
           {
            "colorbar": {
             "outlinewidth": 0,
             "ticks": ""
            },
            "colorscale": [
             [
              0,
              "#0d0887"
             ],
             [
              0.1111111111111111,
              "#46039f"
             ],
             [
              0.2222222222222222,
              "#7201a8"
             ],
             [
              0.3333333333333333,
              "#9c179e"
             ],
             [
              0.4444444444444444,
              "#bd3786"
             ],
             [
              0.5555555555555556,
              "#d8576b"
             ],
             [
              0.6666666666666666,
              "#ed7953"
             ],
             [
              0.7777777777777778,
              "#fb9f3a"
             ],
             [
              0.8888888888888888,
              "#fdca26"
             ],
             [
              1,
              "#f0f921"
             ]
            ],
            "type": "contour"
           }
          ],
          "contourcarpet": [
           {
            "colorbar": {
             "outlinewidth": 0,
             "ticks": ""
            },
            "type": "contourcarpet"
           }
          ],
          "heatmap": [
           {
            "colorbar": {
             "outlinewidth": 0,
             "ticks": ""
            },
            "colorscale": [
             [
              0,
              "#0d0887"
             ],
             [
              0.1111111111111111,
              "#46039f"
             ],
             [
              0.2222222222222222,
              "#7201a8"
             ],
             [
              0.3333333333333333,
              "#9c179e"
             ],
             [
              0.4444444444444444,
              "#bd3786"
             ],
             [
              0.5555555555555556,
              "#d8576b"
             ],
             [
              0.6666666666666666,
              "#ed7953"
             ],
             [
              0.7777777777777778,
              "#fb9f3a"
             ],
             [
              0.8888888888888888,
              "#fdca26"
             ],
             [
              1,
              "#f0f921"
             ]
            ],
            "type": "heatmap"
           }
          ],
          "heatmapgl": [
           {
            "colorbar": {
             "outlinewidth": 0,
             "ticks": ""
            },
            "colorscale": [
             [
              0,
              "#0d0887"
             ],
             [
              0.1111111111111111,
              "#46039f"
             ],
             [
              0.2222222222222222,
              "#7201a8"
             ],
             [
              0.3333333333333333,
              "#9c179e"
             ],
             [
              0.4444444444444444,
              "#bd3786"
             ],
             [
              0.5555555555555556,
              "#d8576b"
             ],
             [
              0.6666666666666666,
              "#ed7953"
             ],
             [
              0.7777777777777778,
              "#fb9f3a"
             ],
             [
              0.8888888888888888,
              "#fdca26"
             ],
             [
              1,
              "#f0f921"
             ]
            ],
            "type": "heatmapgl"
           }
          ],
          "histogram": [
           {
            "marker": {
             "pattern": {
              "fillmode": "overlay",
              "size": 10,
              "solidity": 0.2
             }
            },
            "type": "histogram"
           }
          ],
          "histogram2d": [
           {
            "colorbar": {
             "outlinewidth": 0,
             "ticks": ""
            },
            "colorscale": [
             [
              0,
              "#0d0887"
             ],
             [
              0.1111111111111111,
              "#46039f"
             ],
             [
              0.2222222222222222,
              "#7201a8"
             ],
             [
              0.3333333333333333,
              "#9c179e"
             ],
             [
              0.4444444444444444,
              "#bd3786"
             ],
             [
              0.5555555555555556,
              "#d8576b"
             ],
             [
              0.6666666666666666,
              "#ed7953"
             ],
             [
              0.7777777777777778,
              "#fb9f3a"
             ],
             [
              0.8888888888888888,
              "#fdca26"
             ],
             [
              1,
              "#f0f921"
             ]
            ],
            "type": "histogram2d"
           }
          ],
          "histogram2dcontour": [
           {
            "colorbar": {
             "outlinewidth": 0,
             "ticks": ""
            },
            "colorscale": [
             [
              0,
              "#0d0887"
             ],
             [
              0.1111111111111111,
              "#46039f"
             ],
             [
              0.2222222222222222,
              "#7201a8"
             ],
             [
              0.3333333333333333,
              "#9c179e"
             ],
             [
              0.4444444444444444,
              "#bd3786"
             ],
             [
              0.5555555555555556,
              "#d8576b"
             ],
             [
              0.6666666666666666,
              "#ed7953"
             ],
             [
              0.7777777777777778,
              "#fb9f3a"
             ],
             [
              0.8888888888888888,
              "#fdca26"
             ],
             [
              1,
              "#f0f921"
             ]
            ],
            "type": "histogram2dcontour"
           }
          ],
          "mesh3d": [
           {
            "colorbar": {
             "outlinewidth": 0,
             "ticks": ""
            },
            "type": "mesh3d"
           }
          ],
          "parcoords": [
           {
            "line": {
             "colorbar": {
              "outlinewidth": 0,
              "ticks": ""
             }
            },
            "type": "parcoords"
           }
          ],
          "pie": [
           {
            "automargin": true,
            "type": "pie"
           }
          ],
          "scatter": [
           {
            "fillpattern": {
             "fillmode": "overlay",
             "size": 10,
             "solidity": 0.2
            },
            "type": "scatter"
           }
          ],
          "scatter3d": [
           {
            "line": {
             "colorbar": {
              "outlinewidth": 0,
              "ticks": ""
             }
            },
            "marker": {
             "colorbar": {
              "outlinewidth": 0,
              "ticks": ""
             }
            },
            "type": "scatter3d"
           }
          ],
          "scattercarpet": [
           {
            "marker": {
             "colorbar": {
              "outlinewidth": 0,
              "ticks": ""
             }
            },
            "type": "scattercarpet"
           }
          ],
          "scattergeo": [
           {
            "marker": {
             "colorbar": {
              "outlinewidth": 0,
              "ticks": ""
             }
            },
            "type": "scattergeo"
           }
          ],
          "scattergl": [
           {
            "marker": {
             "colorbar": {
              "outlinewidth": 0,
              "ticks": ""
             }
            },
            "type": "scattergl"
           }
          ],
          "scattermapbox": [
           {
            "marker": {
             "colorbar": {
              "outlinewidth": 0,
              "ticks": ""
             }
            },
            "type": "scattermapbox"
           }
          ],
          "scatterpolar": [
           {
            "marker": {
             "colorbar": {
              "outlinewidth": 0,
              "ticks": ""
             }
            },
            "type": "scatterpolar"
           }
          ],
          "scatterpolargl": [
           {
            "marker": {
             "colorbar": {
              "outlinewidth": 0,
              "ticks": ""
             }
            },
            "type": "scatterpolargl"
           }
          ],
          "scatterternary": [
           {
            "marker": {
             "colorbar": {
              "outlinewidth": 0,
              "ticks": ""
             }
            },
            "type": "scatterternary"
           }
          ],
          "surface": [
           {
            "colorbar": {
             "outlinewidth": 0,
             "ticks": ""
            },
            "colorscale": [
             [
              0,
              "#0d0887"
             ],
             [
              0.1111111111111111,
              "#46039f"
             ],
             [
              0.2222222222222222,
              "#7201a8"
             ],
             [
              0.3333333333333333,
              "#9c179e"
             ],
             [
              0.4444444444444444,
              "#bd3786"
             ],
             [
              0.5555555555555556,
              "#d8576b"
             ],
             [
              0.6666666666666666,
              "#ed7953"
             ],
             [
              0.7777777777777778,
              "#fb9f3a"
             ],
             [
              0.8888888888888888,
              "#fdca26"
             ],
             [
              1,
              "#f0f921"
             ]
            ],
            "type": "surface"
           }
          ],
          "table": [
           {
            "cells": {
             "fill": {
              "color": "#EBF0F8"
             },
             "line": {
              "color": "white"
             }
            },
            "header": {
             "fill": {
              "color": "#C8D4E3"
             },
             "line": {
              "color": "white"
             }
            },
            "type": "table"
           }
          ]
         },
         "layout": {
          "annotationdefaults": {
           "arrowcolor": "#2a3f5f",
           "arrowhead": 0,
           "arrowwidth": 1
          },
          "autotypenumbers": "strict",
          "coloraxis": {
           "colorbar": {
            "outlinewidth": 0,
            "ticks": ""
           }
          },
          "colorscale": {
           "diverging": [
            [
             0,
             "#8e0152"
            ],
            [
             0.1,
             "#c51b7d"
            ],
            [
             0.2,
             "#de77ae"
            ],
            [
             0.3,
             "#f1b6da"
            ],
            [
             0.4,
             "#fde0ef"
            ],
            [
             0.5,
             "#f7f7f7"
            ],
            [
             0.6,
             "#e6f5d0"
            ],
            [
             0.7,
             "#b8e186"
            ],
            [
             0.8,
             "#7fbc41"
            ],
            [
             0.9,
             "#4d9221"
            ],
            [
             1,
             "#276419"
            ]
           ],
           "sequential": [
            [
             0,
             "#0d0887"
            ],
            [
             0.1111111111111111,
             "#46039f"
            ],
            [
             0.2222222222222222,
             "#7201a8"
            ],
            [
             0.3333333333333333,
             "#9c179e"
            ],
            [
             0.4444444444444444,
             "#bd3786"
            ],
            [
             0.5555555555555556,
             "#d8576b"
            ],
            [
             0.6666666666666666,
             "#ed7953"
            ],
            [
             0.7777777777777778,
             "#fb9f3a"
            ],
            [
             0.8888888888888888,
             "#fdca26"
            ],
            [
             1,
             "#f0f921"
            ]
           ],
           "sequentialminus": [
            [
             0,
             "#0d0887"
            ],
            [
             0.1111111111111111,
             "#46039f"
            ],
            [
             0.2222222222222222,
             "#7201a8"
            ],
            [
             0.3333333333333333,
             "#9c179e"
            ],
            [
             0.4444444444444444,
             "#bd3786"
            ],
            [
             0.5555555555555556,
             "#d8576b"
            ],
            [
             0.6666666666666666,
             "#ed7953"
            ],
            [
             0.7777777777777778,
             "#fb9f3a"
            ],
            [
             0.8888888888888888,
             "#fdca26"
            ],
            [
             1,
             "#f0f921"
            ]
           ]
          },
          "colorway": [
           "#636efa",
           "#EF553B",
           "#00cc96",
           "#ab63fa",
           "#FFA15A",
           "#19d3f3",
           "#FF6692",
           "#B6E880",
           "#FF97FF",
           "#FECB52"
          ],
          "font": {
           "color": "#2a3f5f"
          },
          "geo": {
           "bgcolor": "white",
           "lakecolor": "white",
           "landcolor": "#E5ECF6",
           "showlakes": true,
           "showland": true,
           "subunitcolor": "white"
          },
          "hoverlabel": {
           "align": "left"
          },
          "hovermode": "closest",
          "mapbox": {
           "style": "light"
          },
          "paper_bgcolor": "white",
          "plot_bgcolor": "#E5ECF6",
          "polar": {
           "angularaxis": {
            "gridcolor": "white",
            "linecolor": "white",
            "ticks": ""
           },
           "bgcolor": "#E5ECF6",
           "radialaxis": {
            "gridcolor": "white",
            "linecolor": "white",
            "ticks": ""
           }
          },
          "scene": {
           "xaxis": {
            "backgroundcolor": "#E5ECF6",
            "gridcolor": "white",
            "gridwidth": 2,
            "linecolor": "white",
            "showbackground": true,
            "ticks": "",
            "zerolinecolor": "white"
           },
           "yaxis": {
            "backgroundcolor": "#E5ECF6",
            "gridcolor": "white",
            "gridwidth": 2,
            "linecolor": "white",
            "showbackground": true,
            "ticks": "",
            "zerolinecolor": "white"
           },
           "zaxis": {
            "backgroundcolor": "#E5ECF6",
            "gridcolor": "white",
            "gridwidth": 2,
            "linecolor": "white",
            "showbackground": true,
            "ticks": "",
            "zerolinecolor": "white"
           }
          },
          "shapedefaults": {
           "line": {
            "color": "#2a3f5f"
           }
          },
          "ternary": {
           "aaxis": {
            "gridcolor": "white",
            "linecolor": "white",
            "ticks": ""
           },
           "baxis": {
            "gridcolor": "white",
            "linecolor": "white",
            "ticks": ""
           },
           "bgcolor": "#E5ECF6",
           "caxis": {
            "gridcolor": "white",
            "linecolor": "white",
            "ticks": ""
           }
          },
          "title": {
           "x": 0.05
          },
          "xaxis": {
           "automargin": true,
           "gridcolor": "white",
           "linecolor": "white",
           "ticks": "",
           "title": {
            "standoff": 15
           },
           "zerolinecolor": "white",
           "zerolinewidth": 2
          },
          "yaxis": {
           "automargin": true,
           "gridcolor": "white",
           "linecolor": "white",
           "ticks": "",
           "title": {
            "standoff": 15
           },
           "zerolinecolor": "white",
           "zerolinewidth": 2
          }
         }
        },
        "title": {
         "text": "Ajuste De Curva"
        },
        "xaxis": {
         "title": {
          "text": "X"
         }
        },
        "yaxis": {
         "title": {
          "text": "Y"
         }
        }
       }
      }
     },
     "metadata": {},
     "output_type": "display_data"
    }
   ],
   "source": [
    "mq.fit(X3,Y3,[lambda x : x,lambda x : math.exp(x)])\n",
    "mq.PrintAjusteCurva(X3,Y3,Linear=True)"
   ]
  }
 ],
 "metadata": {
  "kernelspec": {
   "display_name": "Python 3",
   "language": "python",
   "name": "python3"
  },
  "language_info": {
   "codemirror_mode": {
    "name": "ipython",
    "version": 3
   },
   "file_extension": ".py",
   "mimetype": "text/x-python",
   "name": "python",
   "nbconvert_exporter": "python",
   "pygments_lexer": "ipython3",
   "version": "3.11.1"
  },
  "orig_nbformat": 4
 },
 "nbformat": 4,
 "nbformat_minor": 2
}
