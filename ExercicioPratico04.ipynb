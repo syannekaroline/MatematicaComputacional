{
 "cells": [
  {
   "attachments": {},
   "cell_type": "markdown",
   "metadata": {},
   "source": [
    "### Exercícios práticos 04 - Syanne Tavares\n",
    "\n",
    "#### Resolução de sistemas lineares\n",
    "\n",
    "- Podem ter 3 situações\n",
    "\n",
    "1. Solução única -> retas concorrentes -> se tocam em 1 único ponto\n",
    "2. Infinitas soluções -> retas coicidentes - pode ser qualquer tipo de valor\n",
    "3. Sem solução -> Reta paralelas \n",
    "\n",
    "- 2 formas de resolver \n",
    "1. Métodos Diretos \n",
    "2. Métodos iterativos\n",
    "\n",
    "\n",
    "## Exercício 01 - \n",
    "\n",
    "Implemente todas as técnicas de solução de sistemas lineares vistas em aula e faça uma comparação entre elas para as seguintes situações\n",
    "\n",
    "# Métodos Diretos\n",
    "## Fornecem soluções exatas com um número finito de operações. Podem ocorrer erros de arredondamento\n"
   ]
  },
  {
   "attachments": {},
   "cell_type": "markdown",
   "metadata": {},
   "source": [
    "# 1. Eliminação de Gauss\n",
    "Resumidamente -> transforma o sistema em um sistema equivalente do tipo triangular superior e resolve a partir disso"
   ]
  },
  {
   "cell_type": "code",
   "execution_count": 19,
   "metadata": {},
   "outputs": [],
   "source": [
    "import numpy as np\n",
    "import pandas as pd\n",
    "\n",
    "def pivoteamentoParcial(A):\n",
    "\n",
    "  return A\n",
    "  \n",
    "# Resolve o sistema triangular superior.\n",
    "def SistemaTriangularSuperior(Ax,b):\n",
    "  \"\"\"Função que resolve um sistema linear do tipo  𝐴𝑥 = b \"\"\"\n",
    "  n = len(b) #tamanho do vetor b\n",
    "  x= [b[i]/Ax[i][i] if i == 0 else None for i in range(0,len(b))]\n",
    "\n",
    "  x[n-1] = b[n-1]/Ax[n-1][n-1]\n",
    "\n",
    "  for i in list(range(n-1,0,-1)):\n",
    "    s = 0\n",
    "    for j in list(range(i+1,n+1)):\n",
    "      s = s + Ax[i-1][j-1]*x[j-1]\n",
    "\n",
    "    x[i-1] = (b[i-1]-s)/(Ax[i-1][i-1])\n",
    "\n",
    "  return x\n",
    "\n",
    "\n",
    "def eliminacao(A,b):\n",
    "  n = len(b)\n",
    "  x = [0]*n\n",
    "\n",
    "  # Calculo dos pivos.\n",
    "  for k in list(range(1,n)):\n",
    "    # PIVOTEAMENTO PARCIAL\n",
    "    for i in range(k+1, len(A)+1):\n",
    "      if (abs(A[i-1][k-1]) > abs(A[k-1][k-1])):\n",
    "        [A[k-1], A[i-1]] = [A[i-1], A[k-1]]\n",
    "        [b[k-1], b[i-1]] = [b[i-1], b[k-1]]\n",
    "    # Calculo dos multiplicadores.\n",
    "    for i in list(range(k+1,n+1)):\n",
    "      m = A[i-1][k-1]/A[k-1][k-1]\n",
    "      A[i-1][k-1] = 0\n",
    "      # Atualizar demais valores da linha\n",
    "      for j in list(range(k+1,n+1)):\n",
    "        A[i-1][j-1] = A[i-1][j-1]-m*A[k-1][j-1]\n",
    "      b[i-1] = b[i-1] - m*b[k-1]\n",
    "\n",
    "  return A,b\n",
    "\n",
    "def EliminacaoDeGauss(Ax,b):\n",
    "  A = pivoteamentoParcial(Ax)\n",
    "  Ax2,b2 = eliminacao(A,b)\n",
    " \n",
    "  # print(\"depois da eliminação\\n Ax =  \",Ax2,\"\\nb = \",b2)\n",
    "  x = SistemaTriangularSuperior(Ax2,b2)\n",
    "  return(x)\n"
   ]
  },
  {
   "cell_type": "code",
   "execution_count": 20,
   "metadata": {},
   "outputs": [
    {
     "name": "stdout",
     "output_type": "stream",
     "text": [
      "X:  [-3.0, 5.0, 0.0]\n"
     ]
    }
   ],
   "source": [
    "Ax = [[3, 2, 4],\n",
    "      [1, 1, 2],\n",
    "      [4, 3,-2]]\n",
    "b = [1, 2, 3]\n",
    "\n",
    "print(\"X: \",EliminacaoDeGauss(Ax,b))"
   ]
  },
  {
   "attachments": {},
   "cell_type": "markdown",
   "metadata": {},
   "source": [
    "# Fatoração LU com pivoteamento parcial\n",
    "\n",
    "#### O processo de fatoração consistem em decompor a matriz A em um produto de dois ou mais fatores\n",
    "▪ De forma que seja mais fácil resolver o sistema em etapas"
   ]
  },
  {
   "cell_type": "code",
   "execution_count": 21,
   "metadata": {},
   "outputs": [],
   "source": [
    "def formata_matriz(M):\n",
    "  m = len(M) # número de linhas\n",
    "  n = len(M[0]) # número de colunas\n",
    "  s = \"\"\n",
    "  for i in range(m):\n",
    "      for j in range(n):\n",
    "          s += \"%9.3f \" % M[i][j]\n",
    "      s +=  \"\\n\"\n",
    "  return s\n",
    "\n",
    "# Resolve o sistema triangular inferior.\n",
    "def SistemaTriangularInferior(L,b):\n",
    "  n = len(b)\n",
    "  \n",
    "  y= [b[i]/L[i][i] if i == 0 else None for i in range(0,len(b))]\n",
    "\n",
    "  for i in list(range(1,n+1,1)):\n",
    "    s = 0\n",
    "    for j in list(range(1,i,1)):\n",
    "      s = s + L[i-1][j-1]*y[j-1]\n",
    "\n",
    "    y[i-1] = b[i-1] - s\n",
    "\n",
    "  return y\n",
    "\n",
    "def LU_PivParc(A,b):\n",
    "  n = len(A)\n",
    "  p=[0]*n\n",
    "  \n",
    "\n",
    "  ###### pivoteamento parcial \n",
    "  p = list(range(1,n+1)) #\"matriz permutação\"\n",
    "\n",
    "  for k in range(1,n):\n",
    "    pv = abs(A[k-1][k-1])\n",
    "    Lpivo = k\n",
    "\n",
    "    for i in range(k+1,n+1):\n",
    "        if abs(A[i-1][k-1])> pv :\n",
    "          pv = abs(A[i-1][k-1])\n",
    "          Lpivo = i\n",
    "  \n",
    "    if pv == 0: \n",
    "      print(\"Matriz Singular\")\n",
    "      break\n",
    "\n",
    "    if Lpivo != k : # se for diferente então tem que realizar a permutação\n",
    "      [p[k-1],p[Lpivo-1]] = [p[Lpivo-1],p[k-1]] # recurso guanabaristico\n",
    "    \n",
    "      for j in range(1,n+1):\n",
    "          [A[k-1][j-1],A[Lpivo-1][j-1]] = [A[Lpivo-1][j-1],A[k-1][j-1]] \n",
    "\n",
    "  # resolução dos sistemas triangulares\n",
    "  # Calculo dos pivos.\n",
    "  for k in list(range(1,n,1)):\n",
    "    # Calculo dos multiplicadores.\n",
    "    for i in list(range(k+1,n+1,1)):\n",
    "      m = A[i-1][k-1]/A[k-1][k-1]\n",
    "      A[i-1][k-1] = m\n",
    "      # Atualizar demais valores da linha\n",
    "      for j in list(range(k+1,n+1,1)):\n",
    "        A[i-1][j-1] = A[i-1][j-1]-m*A[k-1][j-1]\n",
    "  ### multiplicação da b pela \"matriz permutação\"\n",
    "  c=[None for _ in range(0,len(b))]\n",
    "  for i in range(1,n+1):\n",
    "    Lpivo = p[i-1]\n",
    "    c[i-1]=b[Lpivo-1]\n",
    "\n",
    "  # resolução dos sistemas \n",
    "  y = SistemaTriangularInferior(A,c)\n",
    "  x = SistemaTriangularSuperior(A,y)\n",
    "\n",
    "  return x"
   ]
  },
  {
   "cell_type": "code",
   "execution_count": 22,
   "metadata": {},
   "outputs": [
    {
     "name": "stdout",
     "output_type": "stream",
     "text": [
      "Ai = \n",
      "     3.000    -4.000     1.000 \n",
      "    1.000     2.000     2.000 \n",
      "    4.000     0.000    -3.000 \n",
      "\n",
      "X =\n",
      "[1.0, -1.0, 2.0]\n"
     ]
    }
   ],
   "source": [
    "# Teste com dados.\n",
    "Ai = [[3, -4, 1],\n",
    "      [1, 2, 2],\n",
    "      [4, 0, -3]]\n",
    "\n",
    "bi = [9, 3, -2]\n",
    "\n",
    "print(\"Ai = \\n\",formata_matriz(Ai))\n",
    "#Obtendo os fatores L e U.\n",
    "print(\"X =\")\n",
    "print(LU_PivParc(Ai,bi))"
   ]
  },
  {
   "cell_type": "code",
   "execution_count": 23,
   "metadata": {},
   "outputs": [
    {
     "name": "stdout",
     "output_type": "stream",
     "text": [
      "[[1. 0. 0.]\n",
      " [0. 1. 0.]\n",
      " [0. 0. 1.]]\n"
     ]
    }
   ],
   "source": [
    "print(np.eye(3))"
   ]
  },
  {
   "attachments": {},
   "cell_type": "markdown",
   "metadata": {},
   "source": [
    "## Métodos iterativos\n",
    "\n",
    "### 3. Gauss-Jacobi"
   ]
  },
  {
   "cell_type": "code",
   "execution_count": 24,
   "metadata": {},
   "outputs": [],
   "source": [
    "import math\n",
    "def TesteConvergencia(MatrizA):\n",
    "    Alfas=list()\n",
    "\n",
    "    for i in range(len(MatrizA)):\n",
    "        s=0\n",
    "        for j in range(len(MatrizA)):\n",
    "            if j!=i:\n",
    "                s+=MatrizA[i][j]\n",
    "\n",
    "        Alfas.append(s/MatrizA[i][i])\n",
    "    # print(Alfas)\n",
    "    # print(max(Alfas))\n",
    "\n",
    "    if max(Alfas) < 1:\n",
    "        return True\n",
    "    else:\n",
    "        return False\n",
    "def criterioParada(x,xk,precisao):\n",
    "    soma = 0\n",
    "    zip_object = zip(x, xk) # une as informações de duas variáveis\n",
    "    for list1_i, list2_i in zip_object:\n",
    "        soma = soma + math.fabs(list1_i-list2_i)\n",
    "\n",
    "    if (soma < precisao):\n",
    "        return True\n",
    "    else:\n",
    "        return False   \n",
    "            \n",
    "def GaussJacobi(MatrizA,b,max_iteracoes,precisao):\n",
    "    n= len(b) #tamanho de do vetor base\n",
    "\n",
    "    X=b.copy() # copiando b pra x como chute inicial\n",
    "    solucao = True\n",
    "    # gerar chute inicial\n",
    "    for i in list(range(1,n+1)): # percorre cada elemento de x de 1 até n\n",
    "        # dividir pelo elemento da diagonal principal\n",
    "        if math.fabs(MatrizA[i-1][i-1])> 0 :# verifica se é possível realizar divisão se a diagonal é diferente de zero\n",
    "            X[i-1] = b[i-1]/MatrizA[i-1][i-1]\n",
    "        else:\n",
    "            solucao = False # não se pode calcular o chute inicial\n",
    "            break\n",
    "    if solucao and TesteConvergencia(MatrizA):\n",
    "        # print(\"Iteração 0\")\n",
    "        # print(\"x = \",X)\n",
    "\n",
    "        xk = X.copy()\n",
    "\n",
    "        iter    = 0\n",
    "        \n",
    "        # realiza o calculo de uma função iteração\n",
    "        while (iter < max_iteracoes): # início das iterações\n",
    "            iter = iter + 1\n",
    "            for i in list(range(1,n+1)):\n",
    "                s = 0\n",
    "\n",
    "                #realiza o somatório\n",
    "                for j in list(range(1,n+1)):\n",
    "                    if ((i-1) != (j-1)):\n",
    "                        s = s + MatrizA[i-1][j-1]*X[j-1] # somando os termos que não são da diagonal\n",
    "\n",
    "                xk[i-1] = (1/MatrizA[i-1][i-1])*(b[i-1]-s) # equivale a 1/a(ii)*(bi - somatório de aij*xj)\n",
    "                \n",
    "            # print(\"Iteração: \",iter)\n",
    "            # print(\"xk = \",xk)\n",
    "\n",
    "            #verifica o critério de parada ->  O processo é repetido até ue x^k e x^k-1 eestejam suficientemente próximos\n",
    "            if criterioParada(X,xk,precisao):\n",
    "                X = xk.copy()\n",
    "                break    \n",
    "            X = xk.copy()\n",
    "     \n",
    "    return X,iter\n"
   ]
  },
  {
   "cell_type": "code",
   "execution_count": 25,
   "metadata": {},
   "outputs": [
    {
     "name": "stdout",
     "output_type": "stream",
     "text": [
      "x =  [1.000236, -1.9989360000000003, 1.000284]\n",
      "N iterações =  5\n"
     ]
    }
   ],
   "source": [
    "#exemplo \n",
    "\n",
    "A = [[10, 2,  1],\n",
    "     [ 1, 5,  1],\n",
    "     [ 2, 3, 10]]\n",
    "\n",
    "b = [7, -8, 6]\n",
    "\n",
    "x,iter = GaussJacobi(A,b,10,0.01)\n",
    "print(\"x = \",x)\n",
    "print(\"N iterações = \",iter)\n",
    "\n"
   ]
  },
  {
   "attachments": {},
   "cell_type": "markdown",
   "metadata": {},
   "source": [
    "### 4. Gauss-Seidel"
   ]
  },
  {
   "cell_type": "code",
   "execution_count": 26,
   "metadata": {},
   "outputs": [],
   "source": [
    "def GaussSeidel(MatrizA,b,max_iteracoes,precisao):\n",
    "    n= len(b) #tamanho de do vetor base\n",
    "\n",
    "    X=b.copy() # copiando b pra x como chute inicial\n",
    "    solucao = True\n",
    "    # gerar chute inicial\n",
    "    for i in list(range(1,n+1)): # percorre cada elemento de x de 1 até n\n",
    "        # dividir pelo elemento da diagonal principal\n",
    "        if math.fabs(MatrizA[i-1][i-1])> 0 :# verifica se é possível realizar divisão se a diagonal é diferente de zero\n",
    "            X[i-1] = b[i-1]/MatrizA[i-1][i-1]\n",
    "        else:\n",
    "            solucao = False # não se pode calcular o chute inicial\n",
    "            break\n",
    "    if solucao and TesteConvergencia(MatrizA):\n",
    "      # print(\"Iteração 0\")\n",
    "      # print(\"x = \",X)\n",
    "\n",
    "      xk = X.copy()\n",
    "\n",
    "      iter    = 0\n",
    "      \n",
    "      # realiza o calculo de uma função iteração\n",
    "      while (iter < max_iteracoes): # início das iterações\n",
    "        iter = iter + 1\n",
    "        for i in list(range(1,n+1)):\n",
    "          s = 0\n",
    "\n",
    "          #realiza o somatório\n",
    "          for j in list(range(1,n+1)):\n",
    "            if ((i-1) > (j-1)): # se o índice da linha é maior que o da coluna\n",
    "              s = s + MatrizA[i-1][j-1]*xk[j-1] # usa o xk que tem os valores atualizados\n",
    "            elif ((i-1) < (j-1)): # se o índice da linha é maior que o da coluna\n",
    "              s = s + MatrizA[i-1][j-1]*X[j-1] \n",
    "\n",
    "          xk[i-1] = (1/MatrizA[i-1][i-1])*(b[i-1]-s) # equivale a 1/a(ii)*(bi - somatório de aij*xj)\n",
    "      \n",
    "        # print(\"Iteração: \",iter)\n",
    "        # print(\"xk = \",xk)\n",
    "\n",
    "        #verifica o critério de parada ->  O processo é repetido até ue x^k e x^k-1 eestejam suficientemente próximos\n",
    "        if criterioParada(X,xk,precisao):\n",
    "          X = xk.copy()\n",
    "          break    \n",
    "        X = xk.copy()\n",
    "     \n",
    "    return X,iter"
   ]
  },
  {
   "cell_type": "code",
   "execution_count": 27,
   "metadata": {},
   "outputs": [
    {
     "name": "stdout",
     "output_type": "stream",
     "text": [
      "x =  [0.9999577430400001, -2.000046123328, 1.0000222883904002]\n",
      "N iterações =  4\n"
     ]
    }
   ],
   "source": [
    "#exemplo \n",
    "\n",
    "A = [[10, 2,  1],\n",
    "     [ 1, 5,  1],\n",
    "     [ 2, 3, 10]]\n",
    "\n",
    "b = [7, -8, 6]\n",
    "\n",
    "x,iter = GaussSeidel(A,b,10,0.01)\n",
    "print(\"x = \",x)\n",
    "print(\"N iterações = \",iter)\n"
   ]
  },
  {
   "attachments": {},
   "cell_type": "markdown",
   "metadata": {},
   "source": [
    "## Comparação entre os métodos"
   ]
  },
  {
   "cell_type": "code",
   "execution_count": 28,
   "metadata": {},
   "outputs": [],
   "source": [
    "def GeraMatriz(n):\n",
    "    \"\"\"Função que gera matriz quadrada de simensão nxn com inteiros aleatórios \"\"\"\n",
    "\n",
    "    array = np.random.randint(10, size=(n, n))\n",
    "\n",
    "    return array"
   ]
  },
  {
   "cell_type": "code",
   "execution_count": 38,
   "metadata": {},
   "outputs": [],
   "source": [
    "def MultiplicaMatrizes(MatrizA,MatrizB):\n",
    "    \"\"\"Função que multiplica duas matrizes que recebe com parâmatro e retorna o resultado\"\"\"\n",
    "\n",
    "    result= [[0,0,0,0], \n",
    "            [0,0,0,0], \n",
    "            [0,0,0,0]] \n",
    "  \n",
    "    result = np.dot(MatrizA,MatrizB) \n",
    "    \n",
    "    # for r in result: \n",
    "    #     print(r)\n",
    "    return result "
   ]
  },
  {
   "cell_type": "code",
   "execution_count": 39,
   "metadata": {},
   "outputs": [
    {
     "name": "stdout",
     "output_type": "stream",
     "text": [
      "[[9 4 0 7 0 1 0 6 8 5]\n",
      " [8 6 9 2 9 4 4 7 6 4]\n",
      " [7 0 2 2 1 7 0 4 8 8]\n",
      " [6 5 0 4 3 7 4 8 8 9]\n",
      " [8 8 8 0 7 4 0 0 8 6]\n",
      " [1 0 6 0 6 9 5 2 3 6]\n",
      " [2 3 6 5 2 6 1 9 3 1]\n",
      " [4 5 1 9 3 4 9 2 3 1]\n",
      " [5 9 2 9 3 4 8 4 6 8]\n",
      " [0 7 8 5 7 5 5 6 7 9]]\n",
      "b =  [9 2 0 1 1 8 2 3 5 1]\n"
     ]
    },
    {
     "data": {
      "text/plain": [
       "array([167, 190, 182, 208, 173, 124, 124, 130, 173, 138])"
      ]
     },
     "execution_count": 39,
     "metadata": {},
     "output_type": "execute_result"
    }
   ],
   "source": [
    "# exemplo \n",
    "\n",
    "#n = 10\n",
    "b  = np.random.randint(10, size=(10)) \n",
    "Matriz_10 = GeraMatriz(10)\n",
    "\n",
    "print(Matriz_10)\n",
    "print(\"b = \" ,b)\n",
    "\n",
    "MultiplicaMatrizes(Matriz_10,b)\n",
    "\n"
   ]
  },
  {
   "cell_type": "code",
   "execution_count": 42,
   "metadata": {},
   "outputs": [],
   "source": [
    "def GetExemplo(Dimensao_n):\n",
    "    x = np.random.randint(10, size=(Dimensao_n)) \n",
    "    Matriz = GeraMatriz(Dimensao_n)\n",
    "    b = MultiplicaMatrizes(Matriz,x)\n",
    "\n",
    "    print(f\"Matriz{Dimensao_n}x{Dimensao_n} Gerada :\")\n",
    "    print(Matriz)\n",
    "    print(\"x = \" ,x)\n",
    "    print(\"b = \",b)\n",
    "    print(\"Ax = b\")"
   ]
  },
  {
   "cell_type": "code",
   "execution_count": 43,
   "metadata": {},
   "outputs": [
    {
     "name": "stdout",
     "output_type": "stream",
     "text": [
      "Matriz2x2 Gerada :\n",
      "[[2 6]\n",
      " [2 6]]\n",
      "x =  [7 5]\n",
      "b =  [44 44]\n",
      "Ax = b\n"
     ]
    }
   ],
   "source": [
    "GetExemplo(2)"
   ]
  }
 ],
 "metadata": {
  "kernelspec": {
   "display_name": "Python 3",
   "language": "python",
   "name": "python3"
  },
  "language_info": {
   "codemirror_mode": {
    "name": "ipython",
    "version": 3
   },
   "file_extension": ".py",
   "mimetype": "text/x-python",
   "name": "python",
   "nbconvert_exporter": "python",
   "pygments_lexer": "ipython3",
   "version": "3.10.11"
  },
  "orig_nbformat": 4
 },
 "nbformat": 4,
 "nbformat_minor": 2
}
